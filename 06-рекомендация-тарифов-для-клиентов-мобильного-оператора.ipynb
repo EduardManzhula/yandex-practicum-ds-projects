{
 "cells": [
  {
   "cell_type": "markdown",
   "metadata": {},
   "source": [
    "# Рекомендация тарифов для клиентов мобильного оператора"
   ]
  },
  {
   "cell_type": "markdown",
   "metadata": {
    "toc": true
   },
   "source": [
    "<h1>Оглавление проекта<span class=\"tocSkip\"></span></h1>\n",
    "<div class=\"toc\"><ul class=\"toc-item\"><li><span><a href=\"#Описание-проекта-\" data-toc-modified-id=\"Описание-проекта--1\"><span class=\"toc-item-num\">1&nbsp;&nbsp;</span>Описание проекта <a name=\"1\"></a></a></span></li><li><span><a href=\"#Описание-данных\" data-toc-modified-id=\"Описание-данных-2\"><span class=\"toc-item-num\">2&nbsp;&nbsp;</span>Описание данных</a></span></li><li><span><a href=\"#Знакомство-с-данными-\" data-toc-modified-id=\"Знакомство-с-данными--3\"><span class=\"toc-item-num\">3&nbsp;&nbsp;</span>Знакомство с данными <a name=\"2\"></a></a></span></li><li><span><a href=\"#Разбиение-данных-на-выборки-\" data-toc-modified-id=\"Разбиение-данных-на-выборки--4\"><span class=\"toc-item-num\">4&nbsp;&nbsp;</span>Разбиение данных на выборки <a name=\"3\"></a></a></span></li><li><span><a href=\"#Выбор-модели-и-подбор-гиперпараметров-\" data-toc-modified-id=\"Выбор-модели-и-подбор-гиперпараметров--5\"><span class=\"toc-item-num\">5&nbsp;&nbsp;</span>Выбор модели и подбор гиперпараметров <a name=\"4\"></a></a></span><ul class=\"toc-item\"><li><span><a href=\"#Вывод\" data-toc-modified-id=\"Вывод-5.1\"><span class=\"toc-item-num\">5.1&nbsp;&nbsp;</span>Вывод</a></span></li></ul></li><li><span><a href=\"#Проверка-качества-модели-\" data-toc-modified-id=\"Проверка-качества-модели--6\"><span class=\"toc-item-num\">6&nbsp;&nbsp;</span>Проверка качества модели <a name=\"5\"></a></a></span></li><li><span><a href=\"#Проверка-модели-на-адекватность-\" data-toc-modified-id=\"Проверка-модели-на-адекватность--7\"><span class=\"toc-item-num\">7&nbsp;&nbsp;</span>Проверка модели на адекватность <a name=\"6\"></a></a></span></li><li><span><a href=\"#Общий-вывод-\" data-toc-modified-id=\"Общий-вывод--8\"><span class=\"toc-item-num\">8&nbsp;&nbsp;</span>Общий вывод <a name=\"7\"></a></a></span></li></ul></div>"
   ]
  },
  {
   "cell_type": "markdown",
   "metadata": {},
   "source": [
    "## Описание проекта <a name=\"1\"></a>\n",
    "Оператор мобильной связи «Мегалайн» выяснил: многие клиенты пользуются архивными тарифами. Они хотят построить систему, способную проанализировать поведение клиентов и предложить пользователям новый тариф: «Смарт» или «Ультра».\n",
    "\n",
    "В нашем распоряжении данные о поведении клиентов, которые уже перешли на эти тарифы. Нужно построить модель для задачи классификации, которая выберет подходящий тариф. Предобработка данных не понадобится — мы её уже сделали ранее.\n",
    "\n",
    "Построим модель с максимально большим значением *accuracy*. Доведем долю правильных ответов по крайней мере до 0.75. Проверим *accuracy* на тестовой выборке.\n",
    "\n",
    "## Описание данных\n",
    "\n",
    "Каждый объект в наборе данных — это информация о поведении одного пользователя за месяц. Известно:\n",
    "* сalls — количество звонков,\n",
    "* minutes — суммарная длительность звонков в минутах,\n",
    "* messages — количество sms-сообщений,\n",
    "* mb_used — израсходованный интернет-трафик в Мб,\n",
    "* is_ultra — каким тарифом пользовался в течение месяца («Ультра» — 1, «Смарт» — 0)."
   ]
  },
  {
   "cell_type": "markdown",
   "metadata": {},
   "source": [
    "## Знакомство с данными <a name=\"2\"></a>"
   ]
  },
  {
   "cell_type": "markdown",
   "metadata": {},
   "source": [
    "Импортируем необходимые для работы библиотеки, классы и функции."
   ]
  },
  {
   "cell_type": "code",
   "execution_count": 1,
   "metadata": {},
   "outputs": [],
   "source": [
    "import pandas as pd\n",
    "from sklearn.tree import DecisionTreeClassifier\n",
    "from sklearn.ensemble import RandomForestClassifier\n",
    "from sklearn.linear_model import LogisticRegression\n",
    "from sklearn.metrics import accuracy_score\n",
    "from sklearn.model_selection import train_test_split\n",
    "from sklearn.model_selection import GridSearchCV\n",
    "from random import choice"
   ]
  },
  {
   "cell_type": "markdown",
   "metadata": {},
   "source": [
    "Откроем файл с данными и изучим его. Путь к файлу: datasets/users_behavior.csv"
   ]
  },
  {
   "cell_type": "code",
   "execution_count": 2,
   "metadata": {},
   "outputs": [
    {
     "data": {
      "text/html": [
       "<div>\n",
       "<style scoped>\n",
       "    .dataframe tbody tr th:only-of-type {\n",
       "        vertical-align: middle;\n",
       "    }\n",
       "\n",
       "    .dataframe tbody tr th {\n",
       "        vertical-align: top;\n",
       "    }\n",
       "\n",
       "    .dataframe thead th {\n",
       "        text-align: right;\n",
       "    }\n",
       "</style>\n",
       "<table border=\"1\" class=\"dataframe\">\n",
       "  <thead>\n",
       "    <tr style=\"text-align: right;\">\n",
       "      <th></th>\n",
       "      <th>calls</th>\n",
       "      <th>minutes</th>\n",
       "      <th>messages</th>\n",
       "      <th>mb_used</th>\n",
       "      <th>is_ultra</th>\n",
       "    </tr>\n",
       "  </thead>\n",
       "  <tbody>\n",
       "    <tr>\n",
       "      <td>0</td>\n",
       "      <td>40.0</td>\n",
       "      <td>311.90</td>\n",
       "      <td>83.0</td>\n",
       "      <td>19915.42</td>\n",
       "      <td>0</td>\n",
       "    </tr>\n",
       "    <tr>\n",
       "      <td>1</td>\n",
       "      <td>85.0</td>\n",
       "      <td>516.75</td>\n",
       "      <td>56.0</td>\n",
       "      <td>22696.96</td>\n",
       "      <td>0</td>\n",
       "    </tr>\n",
       "    <tr>\n",
       "      <td>2</td>\n",
       "      <td>77.0</td>\n",
       "      <td>467.66</td>\n",
       "      <td>86.0</td>\n",
       "      <td>21060.45</td>\n",
       "      <td>0</td>\n",
       "    </tr>\n",
       "    <tr>\n",
       "      <td>3</td>\n",
       "      <td>106.0</td>\n",
       "      <td>745.53</td>\n",
       "      <td>81.0</td>\n",
       "      <td>8437.39</td>\n",
       "      <td>1</td>\n",
       "    </tr>\n",
       "    <tr>\n",
       "      <td>4</td>\n",
       "      <td>66.0</td>\n",
       "      <td>418.74</td>\n",
       "      <td>1.0</td>\n",
       "      <td>14502.75</td>\n",
       "      <td>0</td>\n",
       "    </tr>\n",
       "  </tbody>\n",
       "</table>\n",
       "</div>"
      ],
      "text/plain": [
       "   calls  minutes  messages   mb_used  is_ultra\n",
       "0   40.0   311.90      83.0  19915.42         0\n",
       "1   85.0   516.75      56.0  22696.96         0\n",
       "2   77.0   467.66      86.0  21060.45         0\n",
       "3  106.0   745.53      81.0   8437.39         1\n",
       "4   66.0   418.74       1.0  14502.75         0"
      ]
     },
     "execution_count": 2,
     "metadata": {},
     "output_type": "execute_result"
    }
   ],
   "source": [
    "df = pd.read_csv('/datasets/users_behavior.csv')\n",
    "df.head()"
   ]
  },
  {
   "cell_type": "markdown",
   "metadata": {},
   "source": [
    "Посмотрим на основные харктеристики набора данных."
   ]
  },
  {
   "cell_type": "code",
   "execution_count": 3,
   "metadata": {},
   "outputs": [
    {
     "name": "stdout",
     "output_type": "stream",
     "text": [
      "<class 'pandas.core.frame.DataFrame'>\n",
      "RangeIndex: 3214 entries, 0 to 3213\n",
      "Data columns (total 5 columns):\n",
      "calls       3214 non-null float64\n",
      "minutes     3214 non-null float64\n",
      "messages    3214 non-null float64\n",
      "mb_used     3214 non-null float64\n",
      "is_ultra    3214 non-null int64\n",
      "dtypes: float64(4), int64(1)\n",
      "memory usage: 125.7 KB\n"
     ]
    }
   ],
   "source": [
    "df.info()"
   ]
  },
  {
   "cell_type": "markdown",
   "metadata": {},
   "source": [
    "Загрузили сведения о том, сколько каждый из пользователь использовал услуг в течении месяца и какой у него был при этом тариф. Видим, что для данных выбраны неоптимальные типы. Пропусков нет. \n",
    "\n",
    "Кроме того, обратим внимание на то, что количество звонков и общая продолжительность звонков не являются полностью независимыми. Чем больше звоноков, тем больше длительность. Нужно изучить вопрос мультиколлинеарности этих признаков.\n",
    "\n",
    "Преобразуем типы. Для этого нам понадобится знать максимальные значения."
   ]
  },
  {
   "cell_type": "code",
   "execution_count": 4,
   "metadata": {},
   "outputs": [
    {
     "data": {
      "text/plain": [
       "calls         244.00\n",
       "minutes      1632.06\n",
       "messages      224.00\n",
       "mb_used     49745.73\n",
       "is_ultra        1.00\n",
       "dtype: float64"
      ]
     },
     "execution_count": 4,
     "metadata": {},
     "output_type": "execute_result"
    }
   ],
   "source": [
    "df.max()"
   ]
  },
  {
   "cell_type": "code",
   "execution_count": 5,
   "metadata": {},
   "outputs": [],
   "source": [
    "dict_types = {\n",
    "            'calls': 'uint8',\n",
    "            'minutes': 'float16',\n",
    "            'messages': 'uint8',\n",
    "            'mb_used': 'float16',\n",
    "            'is_ultra': 'uint8'\n",
    "             }\n",
    "df = df.astype(dict_types)"
   ]
  },
  {
   "cell_type": "markdown",
   "metadata": {},
   "source": [
    "Посмотрим на коэффициент корреляции Пирсона в столбцах calls и minutes."
   ]
  },
  {
   "cell_type": "code",
   "execution_count": 6,
   "metadata": {},
   "outputs": [
    {
     "data": {
      "text/plain": [
       "0.9820855289609572"
      ]
     },
     "execution_count": 6,
     "metadata": {},
     "output_type": "execute_result"
    }
   ],
   "source": [
    "df['calls'].corr(df['minutes'])"
   ]
  },
  {
   "cell_type": "markdown",
   "metadata": {},
   "source": [
    "Корреляция очень высокая. Оставим в наборе только один из признаков: minutes."
   ]
  },
  {
   "cell_type": "code",
   "execution_count": 7,
   "metadata": {},
   "outputs": [],
   "source": [
    "del df['calls']"
   ]
  },
  {
   "cell_type": "markdown",
   "metadata": {},
   "source": [
    "## Разбиение данных на выборки <a name=\"3\"></a>"
   ]
  },
  {
   "cell_type": "markdown",
   "metadata": {},
   "source": [
    "Разделим исходные данные на обучающую, валидационную и тестовую выборки. Сделаем это в соотношении 8:1:1. Случайное состояние выберем 0 и дальше последовательно будем его использовать. "
   ]
  },
  {
   "cell_type": "code",
   "execution_count": 8,
   "metadata": {},
   "outputs": [],
   "source": [
    "X, y = df[df.columns[:-1]], df[df.columns[-1]]\n",
    "\n",
    "X_train, X_, y_train, y_ = train_test_split(X, y, test_size=0.2, random_state=0)\n",
    "X_valid, X_test, y_valid, y_test = train_test_split(X_, y_, test_size=0.5, random_state=0)"
   ]
  },
  {
   "cell_type": "markdown",
   "metadata": {},
   "source": [
    "## Выбор модели и подбор гиперпараметров <a name=\"4\"></a>"
   ]
  },
  {
   "cell_type": "markdown",
   "metadata": {},
   "source": [
    "Так как наша задача относится к задаче классификации, то в качестве моделей будем выбирать классификаторы. Изучим 3 модели: решающее дерево, случайный лес и логистическую регрессию. Исследуем качество разных моделей, меняя гиперпараметры. Выберем модель с лучшими показателями точности предсказания на валидационной выборке."
   ]
  },
  {
   "cell_type": "code",
   "execution_count": 9,
   "metadata": {},
   "outputs": [
    {
     "data": {
      "text/html": [
       "<div>\n",
       "<style scoped>\n",
       "    .dataframe tbody tr th:only-of-type {\n",
       "        vertical-align: middle;\n",
       "    }\n",
       "\n",
       "    .dataframe tbody tr th {\n",
       "        vertical-align: top;\n",
       "    }\n",
       "\n",
       "    .dataframe thead th {\n",
       "        text-align: right;\n",
       "    }\n",
       "</style>\n",
       "<table border=\"1\" class=\"dataframe\">\n",
       "  <thead>\n",
       "    <tr style=\"text-align: right;\">\n",
       "      <th></th>\n",
       "      <th>model</th>\n",
       "      <th>best_score</th>\n",
       "      <th>valid_score</th>\n",
       "      <th>best_params</th>\n",
       "    </tr>\n",
       "  </thead>\n",
       "  <tbody>\n",
       "    <tr>\n",
       "      <td>1</td>\n",
       "      <td>random_forest</td>\n",
       "      <td>0.81</td>\n",
       "      <td>0.84</td>\n",
       "      <td>{'min_samples_leaf': 7, 'n_estimators': 40}</td>\n",
       "    </tr>\n",
       "    <tr>\n",
       "      <td>0</td>\n",
       "      <td>decision_tree</td>\n",
       "      <td>0.80</td>\n",
       "      <td>0.82</td>\n",
       "      <td>{'criterion': 'entropy', 'max_depth': 3, 'min_...</td>\n",
       "    </tr>\n",
       "    <tr>\n",
       "      <td>2</td>\n",
       "      <td>logistic_regression</td>\n",
       "      <td>0.74</td>\n",
       "      <td>0.79</td>\n",
       "      <td>{'C': 1, 'tol': 1e-05}</td>\n",
       "    </tr>\n",
       "  </tbody>\n",
       "</table>\n",
       "</div>"
      ],
      "text/plain": [
       "                 model best_score valid_score  \\\n",
       "1        random_forest       0.81        0.84   \n",
       "0        decision_tree       0.80        0.82   \n",
       "2  logistic_regression       0.74        0.79   \n",
       "\n",
       "                                         best_params  \n",
       "1        {'min_samples_leaf': 7, 'n_estimators': 40}  \n",
       "0  {'criterion': 'entropy', 'max_depth': 3, 'min_...  \n",
       "2                             {'C': 1, 'tol': 1e-05}  "
      ]
     },
     "execution_count": 9,
     "metadata": {},
     "output_type": "execute_result"
    }
   ],
   "source": [
    "model_params = {\n",
    "    'decision_tree': {\n",
    "        'model': DecisionTreeClassifier(),\n",
    "        'params': {\n",
    "            'max_depth': range(2, 5),\n",
    "            'min_samples_split': [2, 3, 4],\n",
    "            'criterion': ['gini', 'entropy']\n",
    "        }  \n",
    "    },\n",
    "    'random_forest': {\n",
    "        'model': RandomForestClassifier(random_state=0),\n",
    "        'params': {\n",
    "            'n_estimators': [10, 25, 40],\n",
    "            'min_samples_leaf': [5, 6, 7]\n",
    "        }\n",
    "    },\n",
    "    'logistic_regression': {\n",
    "        'model': LogisticRegression(solver='liblinear', multi_class='auto', random_state=0),\n",
    "        'params': {\n",
    "            'C': [1, 5, 20],\n",
    "            'tol': [1e-4, 1e-5]\n",
    "        }\n",
    "    }\n",
    "}\n",
    "\n",
    "scores = []\n",
    "\n",
    "for model_name, mp in model_params.items():\n",
    "    clf =  GridSearchCV(mp['model'], mp['params'], cv=5, return_train_score=False)\n",
    "    clf.fit(X_train, y_train)\n",
    "    prediction_valid = clf.predict(X_valid)\n",
    "    valid_accuracy = accuracy_score(y_valid, prediction_valid)\n",
    "    scores.append({\n",
    "        'model': model_name,\n",
    "        'best_score': f'{clf.best_score_:.2f}',\n",
    "        'valid_score': f'{valid_accuracy:.2f}',\n",
    "        'best_params': clf.best_params_\n",
    "    })\n",
    "    \n",
    "scores = pd.DataFrame(scores, columns=['model','best_score', 'valid_score', 'best_params'])\n",
    "scores.sort_values(by='best_score', ascending=False)"
   ]
  },
  {
   "cell_type": "markdown",
   "metadata": {},
   "source": [
    "### Вывод"
   ]
  },
  {
   "cell_type": "markdown",
   "metadata": {},
   "source": [
    "Лучшей моделью оказался случайный лес с параметрами: {'min_samples_leaf': 7, 'n_estimators': 40}. Валидационная точность 84%."
   ]
  },
  {
   "cell_type": "markdown",
   "metadata": {},
   "source": [
    "<font color='blue'>Здесь замечу, что метод `GridSearchCV` содержит в себе встроенную *кросс-валидацию* (подробнее о ней в последующих курсах), так что необходимости считать результаты на валидационной выбоке у нас в общем-то нет.  \n",
    "Также рекомендую не стесняться и попробовать большее количество деревьев, например до 100-150 с шагом 5 или 10, а параметр С в логисточеской регресии рекомендуется выбирать из степеней 10: 0.01, 0.1, 1, 10 и т.д."
   ]
  },
  {
   "cell_type": "code",
   "execution_count": 10,
   "metadata": {},
   "outputs": [
    {
     "data": {
      "text/plain": [
       "RandomForestClassifier(bootstrap=True, class_weight=None, criterion='gini',\n",
       "                       max_depth=None, max_features='auto', max_leaf_nodes=None,\n",
       "                       min_impurity_decrease=0.0, min_impurity_split=None,\n",
       "                       min_samples_leaf=7, min_samples_split=2,\n",
       "                       min_weight_fraction_leaf=0.0, n_estimators=40,\n",
       "                       n_jobs=None, oob_score=False, random_state=0, verbose=0,\n",
       "                       warm_start=False)"
      ]
     },
     "execution_count": 10,
     "metadata": {},
     "output_type": "execute_result"
    }
   ],
   "source": [
    "model = RandomForestClassifier(min_samples_leaf=7, n_estimators=40, random_state=0)\n",
    "model.fit(X_train, y_train)"
   ]
  },
  {
   "cell_type": "markdown",
   "metadata": {},
   "source": [
    "## Проверка качества модели <a name=\"5\"></a>"
   ]
  },
  {
   "cell_type": "markdown",
   "metadata": {},
   "source": [
    "Проверим качество модели на тестовой выборке."
   ]
  },
  {
   "cell_type": "code",
   "execution_count": 11,
   "metadata": {},
   "outputs": [
    {
     "name": "stdout",
     "output_type": "stream",
     "text": [
      "Метрика качества точность: 77.6%\n"
     ]
    }
   ],
   "source": [
    "prediction_test = model.predict(X_test)\n",
    "accuracy = accuracy_score(y_test, prediction_test)\n",
    "print(f'Метрика качества точность: {accuracy:.1%}')"
   ]
  },
  {
   "cell_type": "markdown",
   "metadata": {},
   "source": [
    "Результат презвошел цель в 75% accuracy."
   ]
  },
  {
   "cell_type": "markdown",
   "metadata": {},
   "source": [
    "## Проверка модели на адекватность <a name=\"6\"></a>"
   ]
  },
  {
   "cell_type": "markdown",
   "metadata": {},
   "source": [
    "Проверим модель на вменяемость. Сравним результаты предсказания нашей модели со случайными значениями."
   ]
  },
  {
   "cell_type": "code",
   "execution_count": 12,
   "metadata": {},
   "outputs": [
    {
     "data": {
      "text/plain": [
       "'Предсказания нашей модели лучше случайных на 31.4%'"
      ]
     },
     "execution_count": 12,
     "metadata": {},
     "output_type": "execute_result"
    }
   ],
   "source": [
    "prediction_random = [choice([0,1]) for _ in range(len(y_test))]\n",
    "random_accuracy = accuracy_score(y_test, prediction_random)\n",
    "f'Предсказания нашей модели лучше случайных на {accuracy-random_accuracy:.1%}'"
   ]
  },
  {
   "cell_type": "markdown",
   "metadata": {},
   "source": [
    "Действительно, наша модель лучше предсказывает, чем случайность. Наша модель показывает вменяемые результаты."
   ]
  },
  {
   "cell_type": "markdown",
   "metadata": {},
   "source": [
    "## Общий вывод <a name=\"7\"></a>"
   ]
  },
  {
   "cell_type": "markdown",
   "metadata": {},
   "source": [
    "Мы загрузили данные, привели типы к более оптимальным. Обнаружили сильную корреляционную связь (98%) между столбцами c общей длительностью звонков и количеством звоноков. Убрали из набора данных количество звоноков, чтобы не иметь дело с мультиколлинеарными признаками. Разбили набор на три части в пропорции 8:1:1. Большую часть использовали для обучения. Две другие для валидации и теста.\n",
    "В поисках лучшей модели для обучения мы попробовали 3 алгоритма: решающее дерево, случайный лес, логистическая регрессия. Лучшие результаты с проверкой на валидационном наборе, показала модель случайного леса. При этом оптимальные гиперпараметры оказались: min_samples_leaf=7, n_estimators=40.\n",
    "Проверка качества модели по метрике accuracy на тестовом наборе показала результат 77.6%, что оказалось выше, чем мы ставили себе в качестве цели в 75%.\n",
    "\n",
    "Полученная нами модель может быть использована для рекомендации оптимального тарифа для клиентов."
   ]
  }
 ],
 "metadata": {
  "kernelspec": {
   "display_name": "cinimex",
   "language": "python",
   "name": "cinimex"
  },
  "language_info": {
   "codemirror_mode": {
    "name": "ipython",
    "version": 3
   },
   "file_extension": ".py",
   "mimetype": "text/x-python",
   "name": "python",
   "nbconvert_exporter": "python",
   "pygments_lexer": "ipython3",
   "version": "3.9.1"
  },
  "toc": {
   "base_numbering": 1,
   "nav_menu": {
    "height": "195px",
    "width": "365px"
   },
   "number_sections": true,
   "sideBar": true,
   "skip_h1_title": true,
   "title_cell": "Оглавление проекта",
   "title_sidebar": "Оглавление",
   "toc_cell": true,
   "toc_position": {},
   "toc_section_display": true,
   "toc_window_display": false
  }
 },
 "nbformat": 4,
 "nbformat_minor": 2
}
