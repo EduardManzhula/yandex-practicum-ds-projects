{
 "cells": [
  {
   "cell_type": "markdown",
   "metadata": {},
   "source": [
    "# Предсказание страховых выплат с защитой персональных данных"
   ]
  },
  {
   "cell_type": "markdown",
   "metadata": {
    "toc": true
   },
   "source": [
    "<h1>Оглавление проекта<span class=\"tocSkip\"></span></h1>\n",
    "<div class=\"toc\"><ul class=\"toc-item\"><li><span><a href=\"#Описание-проекта\" data-toc-modified-id=\"Описание-проекта-1\"><span class=\"toc-item-num\">1&nbsp;&nbsp;</span>Описание проекта</a></span></li><li><span><a href=\"#Описание-данных\" data-toc-modified-id=\"Описание-данных-2\"><span class=\"toc-item-num\">2&nbsp;&nbsp;</span>Описание данных</a></span></li><li><span><a href=\"#Загрузка-данных\" data-toc-modified-id=\"Загрузка-данных-3\"><span class=\"toc-item-num\">3&nbsp;&nbsp;</span>Загрузка данных</a></span></li><li><span><a href=\"#Умножение-матриц\" data-toc-modified-id=\"Умножение-матриц-4\"><span class=\"toc-item-num\">4&nbsp;&nbsp;</span>Умножение матриц</a></span><ul class=\"toc-item\"><li><span><a href=\"#Влияние-на-качество-линейной-регрессии\" data-toc-modified-id=\"Влияние-на-качество-линейной-регрессии-4.1\"><span class=\"toc-item-num\">4.1&nbsp;&nbsp;</span>Влияние на качество линейной регрессии</a></span></li><li><span><a href=\"#Обоснование\" data-toc-modified-id=\"Обоснование-4.2\"><span class=\"toc-item-num\">4.2&nbsp;&nbsp;</span>Обоснование</a></span></li></ul></li><li><span><a href=\"#Алгоритм-преобразования\" data-toc-modified-id=\"Алгоритм-преобразования-5\"><span class=\"toc-item-num\">5&nbsp;&nbsp;</span>Алгоритм преобразования</a></span><ul class=\"toc-item\"><li><span><a href=\"#Описание-алгоритма\" data-toc-modified-id=\"Описание-алгоритма-5.1\"><span class=\"toc-item-num\">5.1&nbsp;&nbsp;</span>Описание алгоритма</a></span></li><li><span><a href=\"#Обоснование\" data-toc-modified-id=\"Обоснование-5.2\"><span class=\"toc-item-num\">5.2&nbsp;&nbsp;</span>Обоснование</a></span></li><li><span><a href=\"#Реализация-алгоритма\" data-toc-modified-id=\"Реализация-алгоритма-5.3\"><span class=\"toc-item-num\">5.3&nbsp;&nbsp;</span>Реализация алгоритма</a></span></li></ul></li><li><span><a href=\"#Проверка-алгоритма\" data-toc-modified-id=\"Проверка-алгоритма-6\"><span class=\"toc-item-num\">6&nbsp;&nbsp;</span>Проверка алгоритма</a></span></li><li><span><a href=\"#Общий-вывод\" data-toc-modified-id=\"Общий-вывод-7\"><span class=\"toc-item-num\">7&nbsp;&nbsp;</span>Общий вывод</a></span></li></ul></div>"
   ]
  },
  {
   "cell_type": "markdown",
   "metadata": {},
   "source": [
    "## Описание проекта"
   ]
  },
  {
   "cell_type": "markdown",
   "metadata": {},
   "source": [
    "Страховой компании «Хоть потоп» требуется модель предсказания размера страховых выплат по некоторому набору персональных данных клиентов. При этом нужно защитить данные клиентов от восстановления неавторизованными пользователями. Должна быть исключена необходимость передавать неизмененные данные в модель предсказания.\n",
    "\n",
    "Разработаем такой метод преобразования данных, чтобы после преобразования было сложно восстановить первоначальные сведения. Обоснуем корректность работы алгоритма. Кроме того необходимо, чтобы при преобразовании качество моделей машинного обучения не ухудшилось. \n",
    "\n",
    "Подбирать наилучшую модель не требуется, только продемострировать саму возможность предсказания с защитой персональных данных.\n",
    "\n",
    "Изучение криптографических качеств алгоритма находится за пределами данного проекта."
   ]
  },
  {
   "cell_type": "markdown",
   "metadata": {},
   "source": [
    "## Описание данных"
   ]
  },
  {
   "cell_type": "markdown",
   "metadata": {},
   "source": [
    "Набор данных находится в файле: /datasets/insurance.csv.\n",
    "* Признаки: пол, возраст и зарплата застрахованного, количество членов его семьи.\n",
    "* Целевой признак: количество страховых выплат клиенту за последние 5 лет."
   ]
  },
  {
   "cell_type": "markdown",
   "metadata": {},
   "source": [
    "## Загрузка данных"
   ]
  },
  {
   "cell_type": "code",
   "execution_count": 1,
   "metadata": {},
   "outputs": [
    {
     "name": "stdout",
     "output_type": "stream",
     "text": [
      "<class 'pandas.core.frame.DataFrame'>\n",
      "RangeIndex: 5000 entries, 0 to 4999\n",
      "Data columns (total 5 columns):\n",
      "Пол                  5000 non-null int64\n",
      "Возраст              5000 non-null float64\n",
      "Зарплата             5000 non-null float64\n",
      "Члены семьи          5000 non-null int64\n",
      "Страховые выплаты    5000 non-null int64\n",
      "dtypes: float64(2), int64(3)\n",
      "memory usage: 195.4 KB\n"
     ]
    }
   ],
   "source": [
    "import pandas as pd\n",
    "\n",
    "df = pd.read_csv('/datasets/insurance.csv')\n",
    "df.info()"
   ]
  },
  {
   "cell_type": "markdown",
   "metadata": {},
   "source": [
    "Первые строки."
   ]
  },
  {
   "cell_type": "code",
   "execution_count": 2,
   "metadata": {},
   "outputs": [
    {
     "data": {
      "text/html": [
       "<div>\n",
       "<style scoped>\n",
       "    .dataframe tbody tr th:only-of-type {\n",
       "        vertical-align: middle;\n",
       "    }\n",
       "\n",
       "    .dataframe tbody tr th {\n",
       "        vertical-align: top;\n",
       "    }\n",
       "\n",
       "    .dataframe thead th {\n",
       "        text-align: right;\n",
       "    }\n",
       "</style>\n",
       "<table border=\"1\" class=\"dataframe\">\n",
       "  <thead>\n",
       "    <tr style=\"text-align: right;\">\n",
       "      <th></th>\n",
       "      <th>Пол</th>\n",
       "      <th>Возраст</th>\n",
       "      <th>Зарплата</th>\n",
       "      <th>Члены семьи</th>\n",
       "      <th>Страховые выплаты</th>\n",
       "    </tr>\n",
       "  </thead>\n",
       "  <tbody>\n",
       "    <tr>\n",
       "      <td>0</td>\n",
       "      <td>1</td>\n",
       "      <td>41.0</td>\n",
       "      <td>49600.0</td>\n",
       "      <td>1</td>\n",
       "      <td>0</td>\n",
       "    </tr>\n",
       "    <tr>\n",
       "      <td>1</td>\n",
       "      <td>0</td>\n",
       "      <td>46.0</td>\n",
       "      <td>38000.0</td>\n",
       "      <td>1</td>\n",
       "      <td>1</td>\n",
       "    </tr>\n",
       "    <tr>\n",
       "      <td>2</td>\n",
       "      <td>0</td>\n",
       "      <td>29.0</td>\n",
       "      <td>21000.0</td>\n",
       "      <td>0</td>\n",
       "      <td>0</td>\n",
       "    </tr>\n",
       "    <tr>\n",
       "      <td>3</td>\n",
       "      <td>0</td>\n",
       "      <td>21.0</td>\n",
       "      <td>41700.0</td>\n",
       "      <td>2</td>\n",
       "      <td>0</td>\n",
       "    </tr>\n",
       "    <tr>\n",
       "      <td>4</td>\n",
       "      <td>1</td>\n",
       "      <td>28.0</td>\n",
       "      <td>26100.0</td>\n",
       "      <td>0</td>\n",
       "      <td>0</td>\n",
       "    </tr>\n",
       "  </tbody>\n",
       "</table>\n",
       "</div>"
      ],
      "text/plain": [
       "   Пол  Возраст  Зарплата  Члены семьи  Страховые выплаты\n",
       "0    1     41.0   49600.0            1                  0\n",
       "1    0     46.0   38000.0            1                  1\n",
       "2    0     29.0   21000.0            0                  0\n",
       "3    0     21.0   41700.0            2                  0\n",
       "4    1     28.0   26100.0            0                  0"
      ]
     },
     "execution_count": 2,
     "metadata": {},
     "output_type": "execute_result"
    }
   ],
   "source": [
    "df.head()"
   ]
  },
  {
   "cell_type": "code",
   "execution_count": 3,
   "metadata": {},
   "outputs": [
    {
     "data": {
      "text/plain": [
       "0    4436\n",
       "1     423\n",
       "2     115\n",
       "3      18\n",
       "4       7\n",
       "5       1\n",
       "Name: Страховые выплаты, dtype: int64"
      ]
     },
     "execution_count": 3,
     "metadata": {},
     "output_type": "execute_result"
    }
   ],
   "source": [
    "df[\"Страховые выплаты\"].value_counts()"
   ]
  },
  {
   "cell_type": "markdown",
   "metadata": {},
   "source": [
    "Кто-то получил 5 выплат за последние 5 лет.\n",
    "Данные готовы для использования в обучении линейной регрессии."
   ]
  },
  {
   "cell_type": "markdown",
   "metadata": {},
   "source": [
    "## Умножение матриц"
   ]
  },
  {
   "cell_type": "markdown",
   "metadata": {},
   "source": [
    "Для предсказания размера страховых выплат будем использовать модель линейной регрессии. Данные доступны в виде таблицы чисел. Поэтому они могут быть представлены в виде прямоугольной матрицы размера $n \\times m$.\n",
    "\n",
    "Пусть признаки умножают на обратимую матрицу размера $m \\times m$. Получим в результате матрицу размера $n \\times m$, по которой сложно восстановить первоначальную матрицу, не зная матрицу-множитель."
   ]
  },
  {
   "cell_type": "markdown",
   "metadata": {},
   "source": [
    "### Влияние на качество линейной регрессии"
   ]
  },
  {
   "cell_type": "markdown",
   "metadata": {},
   "source": [
    "Качество моделей линейной регрессии не изменится. Более того, не изменятся сами предсказания. Ответы модели будут такими, будто и не было преобразования. Докажем это ниже."
   ]
  },
  {
   "cell_type": "markdown",
   "metadata": {},
   "source": [
    "### Обоснование"
   ]
  },
  {
   "cell_type": "markdown",
   "metadata": {},
   "source": [
    "Укажем, как связаны параметры линейной регрессии в исходной задаче и в преобразованной.\n",
    "\n",
    "---\n",
    "Обозначения:\n",
    "\n",
    "- $X$ — матрица признаков (нулевой столбец состоит из единиц)\n",
    "\n",
    "- $y$ — вектор целевого признака\n",
    "\n",
    "- $P$ — матрица, на которую умножаются признаки\n",
    "\n",
    "- $w$ — вектор весов линейной регрессии (нулевой элемент равен сдвигу)\n",
    "\n",
    "- $a$ — вектор предсказания целевого признака\n",
    "---\n",
    "\n",
    "Формула предсказания в линейной регрессии:\n",
    "\n",
    "$$\n",
    "a = Xw \\qquad (1)\n",
    "$$\n",
    "\n",
    "Формула обучения:\n",
    "\n",
    "$$\n",
    "w = (X^T X)^{-1} X^T y \\qquad (2)\n",
    "$$   \n",
    "Подставим в формулу обучения $(2)$ вместо $X$ произведение матриц $XP$, получим новый вектор весов $w'$. \n",
    "\n",
    "Преобразуем выражение, раскроем скобки транспозиции:\n",
    "   \n",
    "$$\n",
    "w' = ((XP)^T XP)^{-1} (XP)^T y \\\\\n",
    "= (P^T X^T XP)^{-1} P^T X^T  y\n",
    "$$\n",
    "   \n",
    "Обратим внимание, что матрицы $P^T$ и $X^T XP$ - квадратные, поэтому можем раскрыть скобки инверсии:\n",
    "   \n",
    "$$\n",
    "= ((X^T XP)^{-1} (P^T)^{-1} P^T X^T  y \\\\\n",
    "= P^{-1} (X^T X)^{-1} X^T  y\n",
    "$$\n",
    "   \n",
    "В силу формулы обучения $(2)$ произведем замену и выразим  старые веса через новые:\n",
    "   \n",
    "$$\n",
    "w' = P^{-1} w \\\\\n",
    "w = Pw'\n",
    "$$\n",
    "   \n",
    "Подставим полученное выражение в формулу предсказания $(1)$:\n",
    "   \n",
    "$$\n",
    "a = Xw = XPw'\n",
    "$$\n",
    "\n",
    "Получается, что если мы передадим преобразованную матрицу признаков $XP$ в модель с весами $w'$, то получим точно такие же предсказания, если бы мы передавали $X$ в модель с весами $w$. Другими словами, ответы модели будут такими, будто и не было преобразования. А значит качество модели не изменится.\n",
    "\n",
    "Обратим внимание, что на матрицу $P$ накладываются ограничения только по размеру $m \\times m$ и обратимости."
   ]
  },
  {
   "cell_type": "markdown",
   "metadata": {},
   "source": [
    "## Алгоритм преобразования"
   ]
  },
  {
   "cell_type": "markdown",
   "metadata": {},
   "source": [
    "### Описание алгоритма"
   ]
  },
  {
   "cell_type": "markdown",
   "metadata": {},
   "source": [
    "Предложим алгоритм преобразования данных для решения задачи. \n",
    "\n",
    "Будем генерировать случайную матрицу размера $m \\times m$. Дальше считать определитель матрицы. Если он нулевой, то повторим процедуру генерации, если ненулевой, мы получили искомую матрицу.\n",
    "\n",
    "Генерировать матрицы-множители будем лениво по запросу размера $m$ и случайного состояния.\n",
    "\n",
    "После чего мы матричным умножением получаем преобразованную матрицу признаков.\n",
    "\n",
    "Причем одну и ту же функцию можно использовать для обучения и предсказания. Чтобы матрица-множитель была той же самой, зафиксируем случайное состояние.\n",
    "\n",
    "Перед обучением модели мы преобразуем признаки. Обучим на полученной матрице модель. Затем, чтобы получить предсказания мы будем снова преобразовывать признаки.  "
   ]
  },
  {
   "cell_type": "markdown",
   "metadata": {},
   "source": [
    "### Обоснование"
   ]
  },
  {
   "cell_type": "markdown",
   "metadata": {},
   "source": [
    "Обоснуем, почему качество линейной регрессии не поменяется. \n",
    "\n",
    "В силу построения матрица-множитель квадратная и обратимая. В силу доказанного выше ответы модели будут такими, будто и не было преобразования. Поэтому качество модели линейной регрессии не поменяется."
   ]
  },
  {
   "cell_type": "markdown",
   "metadata": {},
   "source": [
    "### Реализация алгоритма"
   ]
  },
  {
   "cell_type": "code",
   "execution_count": 4,
   "metadata": {},
   "outputs": [],
   "source": [
    "from numpy.linalg import det\n",
    "from numpy.random import Generator, PCG64\n",
    "from functools import lru_cache\n",
    "\n",
    "\n",
    "@lru_cache(maxsize=None)\n",
    "def create_invertable_matrix(m, random_state):\n",
    "    \"\"\"\n",
    "    Функция генерирует квадратную матрицу размера m*m,\n",
    "    заполненную случайными числами.\n",
    "    Гарантируется, что матрица будет обратима.\n",
    "    Разультаты кэшируются. \n",
    "    m - int\n",
    "    random_state - int, случайное состояние инициации\n",
    "    генератора случайных чисел для воспроизводимости результов.\n",
    "    \"\"\"\n",
    "    rg = Generator(PCG64(random_state))\n",
    "    matrix = rg.random((m, m))\n",
    "    if not det(matrix):\n",
    "        return create_invertable_matrix(m, random_state)\n",
    "    return matrix\n",
    "\n",
    "\n",
    "def random_transform(X, random_state):\n",
    "    \"\"\"\n",
    "    Преобразует входные признаки путем умножения \n",
    "    на обратимую случайную матрицу подходящего размера.\n",
    "    X - матрица или вектор признаков для преобразования.\n",
    "    random_state - int, состояние для инициализции\n",
    "    генератора случайных чисел\n",
    "    \"\"\"\n",
    "    m = X.shape[1]\n",
    "    P = create_invertable_matrix(m, random_state)\n",
    "    return X @ P"
   ]
  },
  {
   "cell_type": "markdown",
   "metadata": {},
   "source": [
    "## Проверка алгоритма"
   ]
  },
  {
   "cell_type": "markdown",
   "metadata": {},
   "source": [
    "Опишем, как будем проверять влияние преобразования на качество модели.\n",
    "\n",
    "Разобьем данные в соотношении 8:2 на тренировочные и тестовые. На тестовых данных будем оценивать качество по метрике R2. Сначала без преобразования, потом с преобразованием. Сравним результаты."
   ]
  },
  {
   "cell_type": "code",
   "execution_count": 5,
   "metadata": {},
   "outputs": [
    {
     "name": "stdout",
     "output_type": "stream",
     "text": [
      "Значение метрики R2 без преобразования:  43.69\n",
      "Значение метрики R2 с преобразованием:  43.69\n"
     ]
    }
   ],
   "source": [
    "from sklearn.linear_model import LinearRegression\n",
    "from sklearn.model_selection import train_test_split\n",
    "from sklearn.metrics import r2_score\n",
    "\n",
    "\n",
    "RS = 42\n",
    "\n",
    "# Разобъем на тестовые и тренировочные выборки.\n",
    "y = df[\"Страховые выплаты\"]\n",
    "X = df.drop([\"Страховые выплаты\"], axis=1)\n",
    "\n",
    "X, X_test, y, y_true = train_test_split(\n",
    "    X, y, test_size=0.2, random_state=RS)\n",
    "\n",
    "# Обучим, предскажем на выборках без преобразования. Выведем качество.\n",
    "model = LinearRegression()\n",
    "model.fit(X, y)\n",
    "y_pred = model.predict(X_test)\n",
    "r2_no_transform = r2_score(y_true, y_pred)\n",
    "\n",
    "# Теперь тоже самое, но с преобразованием\n",
    "X_trd = random_transform(X, RS)\n",
    "X_test_trd = random_transform(X_test, RS)\n",
    "\n",
    "model.fit(X_trd, y)\n",
    "y_pred = model.predict(X_test_trd)\n",
    "r2_with_transform = r2_score(y_true, y_pred)\n",
    "\n",
    "print(f'Значение метрики R2 без преобразования: {r2_no_transform*100: .2f}')\n",
    "print(f'Значение метрики R2 с преобразованием: {r2_with_transform*100: .2f}')"
   ]
  },
  {
   "cell_type": "markdown",
   "metadata": {},
   "source": [
    "Видим полное совпадения по качеству моделей."
   ]
  },
  {
   "cell_type": "markdown",
   "metadata": {},
   "source": [
    "## Общий вывод"
   ]
  },
  {
   "cell_type": "markdown",
   "metadata": {},
   "source": [
    "При выполнении проекта было математически доказано, что умножение матрицы признаков на произвольную обратимую квадратную матрицу не влияет на результаты предсказания модели линейной регресии и следовательно на качество предсказаний.\n",
    "\n",
    "Данное утверждение было проверено на практике. Были загружены личные данные клиентов и целевые признаки по количеству страховых выплат за 5 лет. \n",
    "\n",
    "Сначала были сделаны предсказания без преобразования признаков и была получены оценка качества по метрике R2: **43.69**. \n",
    "\n",
    "Потом оценка была получена с преобразованием и результат оказался точно таким же: **43.69**.\n",
    "\n",
    "Таким образом, мы теоритически и практически подтвердили, что для обучения и использования линейной регрессии не обязательно передавать личные данные клиентов в явном виде. В целях защиты они могут быть преобразованы путем умножения на квадратную обратимую матрицу.\n",
    "\n",
    "Таким образом была продемострирована возможность предсказания с защитой персональных данных."
   ]
  }
 ],
 "metadata": {
  "kernelspec": {
   "display_name": "Python 3",
   "language": "python",
   "name": "python3"
  },
  "language_info": {
   "codemirror_mode": {
    "name": "ipython",
    "version": 3
   },
   "file_extension": ".py",
   "mimetype": "text/x-python",
   "name": "python",
   "nbconvert_exporter": "python",
   "pygments_lexer": "ipython3",
   "version": "3.9.1"
  },
  "toc": {
   "base_numbering": "1",
   "nav_menu": {
    "height": "143px",
    "width": "255px"
   },
   "number_sections": true,
   "sideBar": true,
   "skip_h1_title": true,
   "title_cell": "Оглавление проекта",
   "title_sidebar": "Оглавление",
   "toc_cell": true,
   "toc_position": {
    "height": "743px",
    "left": "361px",
    "top": "110px",
    "width": "416.188px"
   },
   "toc_section_display": true,
   "toc_window_display": false
  }
 },
 "nbformat": 4,
 "nbformat_minor": 2
}
