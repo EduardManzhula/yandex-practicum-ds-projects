{
 "cells": [
  {
   "cell_type": "markdown",
   "metadata": {},
   "source": [
    "# Наиболее прибыльный регион бурения скважин"
   ]
  },
  {
   "cell_type": "markdown",
   "metadata": {
    "toc": true
   },
   "source": [
    "<h1>Оглавление проекта<span class=\"tocSkip\"></span></h1>\n",
    "<div class=\"toc\"><ul class=\"toc-item\"><li><span><a href=\"#Описание-проекта-\" data-toc-modified-id=\"Описание-проекта--1\"><span class=\"toc-item-num\">1&nbsp;&nbsp;</span>Описание проекта <a name=\"1\"></a></a></span></li><li><span><a href=\"#Описание-данных\" data-toc-modified-id=\"Описание-данных-2\"><span class=\"toc-item-num\">2&nbsp;&nbsp;</span>Описание данных</a></span></li><li><span><a href=\"#Ограничения-и-условия-проекта\" data-toc-modified-id=\"Ограничения-и-условия-проекта-3\"><span class=\"toc-item-num\">3&nbsp;&nbsp;</span>Ограничения и условия проекта</a></span></li><li><span><a href=\"#Загрузка-и-подготовка-данных-\" data-toc-modified-id=\"Загрузка-и-подготовка-данных--4\"><span class=\"toc-item-num\">4&nbsp;&nbsp;</span>Загрузка и подготовка данных <a name=\"2\"></a></a></span></li><li><span><a href=\"#Обучение-и-проверка-модели-\" data-toc-modified-id=\"Обучение-и-проверка-модели--5\"><span class=\"toc-item-num\">5&nbsp;&nbsp;</span>Обучение и проверка модели <a name=\"3\"></a></a></span></li><li><span><a href=\"#Подготовка-к-расчёту-прибыли-\" data-toc-modified-id=\"Подготовка-к-расчёту-прибыли--6\"><span class=\"toc-item-num\">6&nbsp;&nbsp;</span>Подготовка к расчёту прибыли <a name=\"4\"></a></a></span></li><li><span><a href=\"#Расчёт-прибыли-и-рисков-\" data-toc-modified-id=\"Расчёт-прибыли-и-рисков--7\"><span class=\"toc-item-num\">7&nbsp;&nbsp;</span>Расчёт прибыли и рисков <a name=\"5\"></a></a></span></li><li><span><a href=\"#Алгоритм-бутстрепа-\" data-toc-modified-id=\"Алгоритм-бутстрепа--8\"><span class=\"toc-item-num\">8&nbsp;&nbsp;</span>Алгоритм бутстрепа <a name=\"7\"></a></a></span></li><li><span><a href=\"#Общий-вывод-\" data-toc-modified-id=\"Общий-вывод--9\"><span class=\"toc-item-num\">9&nbsp;&nbsp;</span>Общий вывод <a name=\"6\"></a></a></span></li></ul></div>"
   ]
  },
  {
   "cell_type": "markdown",
   "metadata": {},
   "source": [
    "## Описание проекта <a name=\"1\"></a>"
   ]
  },
  {
   "cell_type": "markdown",
   "metadata": {},
   "source": [
    "Проект выполняется для добывающей компании «ГлавРосГосНефть». Нужно решить, где бурить новую скважину.\n",
    "\n",
    "Нам предоставлены пробы нефти в трёх регионах: в каждом 10 000 месторождений, где измерили качество нефти и объём её запасов. Построим модель машинного обучения, которая поможет определить регион, где добыча принесёт наибольшую прибыль. Проанализируем возможную прибыль и риски техникой *Bootstrap.*\n",
    "\n",
    "Шаги для выбора локации:\n",
    "\n",
    "- В избранном регионе ищут месторождения, для каждого определяют значения признаков;\n",
    "- Строят модель и оценивают объём запасов;\n",
    "- Выбирают месторождения с самым высокими оценками значений. Количество месторождений зависит от бюджета компании и стоимости разработки одной скважины;\n",
    "- Прибыль равна суммарной прибыли отобранных месторождений.\n",
    "\n",
    "## Описание данных\n",
    "\n",
    "* id — уникальный идентификатор скважины;\n",
    "* f0, f1, f2 — три признака точек (неважно, что они означают, но сами признаки значимы);\n",
    "* product — объём запасов в скважине (тыс. баррелей).\n",
    "\n",
    "## Ограничения и условия проекта\n",
    "\n",
    "* Для обучения модели подходит только линейная регрессия (остальные — недостаточно предсказуемые).\n",
    "* При разведке региона исследуют 500 точек, из которых с помощью машинного обучения выбирают 200 лучших для разработки.\n",
    "* Бюджет на разработку скважин в регионе — 10 млрд рублей.\n",
    "* При нынешних ценах один баррель сырья приносит 450 рублей дохода. Доход с каждой единицы продукта составляет 450 тыс. рублей, поскольку объём указан в тысячах баррелей.\n",
    "* После оценки рисков нужно оставить лишь те регионы, в которых вероятность убытков меньше 2.5%. Среди них выбирают регион с наибольшей средней прибылью."
   ]
  },
  {
   "cell_type": "markdown",
   "metadata": {},
   "source": [
    "## Загрузка и подготовка данных <a name=\"2\"></a>"
   ]
  },
  {
   "cell_type": "markdown",
   "metadata": {},
   "source": [
    "Импортируем необходимые библиотеки, классы и функции."
   ]
  },
  {
   "cell_type": "code",
   "execution_count": 1,
   "metadata": {},
   "outputs": [],
   "source": [
    "import pandas as pd\n",
    "import numpy as np\n",
    "from sklearn.model_selection import train_test_split\n",
    "from scipy import stats as st\n",
    "from numpy.random import RandomState\n",
    "from sklearn.model_selection import cross_val_score\n",
    "from sklearn.metrics import mean_squared_error\n",
    "from sklearn.linear_model import LinearRegression\n",
    "import seaborn as sns\n",
    "import matplotlib.pyplot as plt"
   ]
  },
  {
   "cell_type": "markdown",
   "metadata": {},
   "source": [
    "Загрузим данные. Данные геологоразведки трёх регионов находятся в файлах:\n",
    "* /datasets/geo_data_0.csv\n",
    "* /datasets/geo_data_1.csv\n",
    "* /datasets/geo_data_2.csv"
   ]
  },
  {
   "cell_type": "code",
   "execution_count": 2,
   "metadata": {},
   "outputs": [
    {
     "name": "stdout",
     "output_type": "stream",
     "text": [
      "\n",
      "ДАННЫЕ РЕГИОНА №1:\n"
     ]
    },
    {
     "data": {
      "text/html": [
       "<div>\n",
       "<style scoped>\n",
       "    .dataframe tbody tr th:only-of-type {\n",
       "        vertical-align: middle;\n",
       "    }\n",
       "\n",
       "    .dataframe tbody tr th {\n",
       "        vertical-align: top;\n",
       "    }\n",
       "\n",
       "    .dataframe thead th {\n",
       "        text-align: right;\n",
       "    }\n",
       "</style>\n",
       "<table border=\"1\" class=\"dataframe\">\n",
       "  <thead>\n",
       "    <tr style=\"text-align: right;\">\n",
       "      <th></th>\n",
       "      <th>id</th>\n",
       "      <th>f0</th>\n",
       "      <th>f1</th>\n",
       "      <th>f2</th>\n",
       "      <th>product</th>\n",
       "    </tr>\n",
       "  </thead>\n",
       "  <tbody>\n",
       "    <tr>\n",
       "      <td>0</td>\n",
       "      <td>txEyH</td>\n",
       "      <td>0.705745</td>\n",
       "      <td>-0.497823</td>\n",
       "      <td>1.221170</td>\n",
       "      <td>105.280062</td>\n",
       "    </tr>\n",
       "    <tr>\n",
       "      <td>1</td>\n",
       "      <td>2acmU</td>\n",
       "      <td>1.334711</td>\n",
       "      <td>-0.340164</td>\n",
       "      <td>4.365080</td>\n",
       "      <td>73.037750</td>\n",
       "    </tr>\n",
       "    <tr>\n",
       "      <td>2</td>\n",
       "      <td>409Wp</td>\n",
       "      <td>1.022732</td>\n",
       "      <td>0.151990</td>\n",
       "      <td>1.419926</td>\n",
       "      <td>85.265647</td>\n",
       "    </tr>\n",
       "    <tr>\n",
       "      <td>3</td>\n",
       "      <td>iJLyR</td>\n",
       "      <td>-0.032172</td>\n",
       "      <td>0.139033</td>\n",
       "      <td>2.978566</td>\n",
       "      <td>168.620776</td>\n",
       "    </tr>\n",
       "    <tr>\n",
       "      <td>4</td>\n",
       "      <td>Xdl7t</td>\n",
       "      <td>1.988431</td>\n",
       "      <td>0.155413</td>\n",
       "      <td>4.751769</td>\n",
       "      <td>154.036647</td>\n",
       "    </tr>\n",
       "  </tbody>\n",
       "</table>\n",
       "</div>"
      ],
      "text/plain": [
       "      id        f0        f1        f2     product\n",
       "0  txEyH  0.705745 -0.497823  1.221170  105.280062\n",
       "1  2acmU  1.334711 -0.340164  4.365080   73.037750\n",
       "2  409Wp  1.022732  0.151990  1.419926   85.265647\n",
       "3  iJLyR -0.032172  0.139033  2.978566  168.620776\n",
       "4  Xdl7t  1.988431  0.155413  4.751769  154.036647"
      ]
     },
     "metadata": {},
     "output_type": "display_data"
    },
    {
     "name": "stdout",
     "output_type": "stream",
     "text": [
      "<class 'pandas.core.frame.DataFrame'>\n",
      "RangeIndex: 100000 entries, 0 to 99999\n",
      "Data columns (total 5 columns):\n",
      "id         100000 non-null object\n",
      "f0         100000 non-null float64\n",
      "f1         100000 non-null float64\n",
      "f2         100000 non-null float64\n",
      "product    100000 non-null float64\n",
      "dtypes: float64(4), object(1)\n",
      "memory usage: 3.8+ MB\n",
      "\n",
      "ДАННЫЕ РЕГИОНА №2:\n"
     ]
    },
    {
     "data": {
      "text/html": [
       "<div>\n",
       "<style scoped>\n",
       "    .dataframe tbody tr th:only-of-type {\n",
       "        vertical-align: middle;\n",
       "    }\n",
       "\n",
       "    .dataframe tbody tr th {\n",
       "        vertical-align: top;\n",
       "    }\n",
       "\n",
       "    .dataframe thead th {\n",
       "        text-align: right;\n",
       "    }\n",
       "</style>\n",
       "<table border=\"1\" class=\"dataframe\">\n",
       "  <thead>\n",
       "    <tr style=\"text-align: right;\">\n",
       "      <th></th>\n",
       "      <th>id</th>\n",
       "      <th>f0</th>\n",
       "      <th>f1</th>\n",
       "      <th>f2</th>\n",
       "      <th>product</th>\n",
       "    </tr>\n",
       "  </thead>\n",
       "  <tbody>\n",
       "    <tr>\n",
       "      <td>0</td>\n",
       "      <td>kBEdx</td>\n",
       "      <td>-15.001348</td>\n",
       "      <td>-8.276000</td>\n",
       "      <td>-0.005876</td>\n",
       "      <td>3.179103</td>\n",
       "    </tr>\n",
       "    <tr>\n",
       "      <td>1</td>\n",
       "      <td>62mP7</td>\n",
       "      <td>14.272088</td>\n",
       "      <td>-3.475083</td>\n",
       "      <td>0.999183</td>\n",
       "      <td>26.953261</td>\n",
       "    </tr>\n",
       "    <tr>\n",
       "      <td>2</td>\n",
       "      <td>vyE1P</td>\n",
       "      <td>6.263187</td>\n",
       "      <td>-5.948386</td>\n",
       "      <td>5.001160</td>\n",
       "      <td>134.766305</td>\n",
       "    </tr>\n",
       "    <tr>\n",
       "      <td>3</td>\n",
       "      <td>KcrkZ</td>\n",
       "      <td>-13.081196</td>\n",
       "      <td>-11.506057</td>\n",
       "      <td>4.999415</td>\n",
       "      <td>137.945408</td>\n",
       "    </tr>\n",
       "    <tr>\n",
       "      <td>4</td>\n",
       "      <td>AHL4O</td>\n",
       "      <td>12.702195</td>\n",
       "      <td>-8.147433</td>\n",
       "      <td>5.004363</td>\n",
       "      <td>134.766305</td>\n",
       "    </tr>\n",
       "  </tbody>\n",
       "</table>\n",
       "</div>"
      ],
      "text/plain": [
       "      id         f0         f1        f2     product\n",
       "0  kBEdx -15.001348  -8.276000 -0.005876    3.179103\n",
       "1  62mP7  14.272088  -3.475083  0.999183   26.953261\n",
       "2  vyE1P   6.263187  -5.948386  5.001160  134.766305\n",
       "3  KcrkZ -13.081196 -11.506057  4.999415  137.945408\n",
       "4  AHL4O  12.702195  -8.147433  5.004363  134.766305"
      ]
     },
     "metadata": {},
     "output_type": "display_data"
    },
    {
     "name": "stdout",
     "output_type": "stream",
     "text": [
      "<class 'pandas.core.frame.DataFrame'>\n",
      "RangeIndex: 100000 entries, 0 to 99999\n",
      "Data columns (total 5 columns):\n",
      "id         100000 non-null object\n",
      "f0         100000 non-null float64\n",
      "f1         100000 non-null float64\n",
      "f2         100000 non-null float64\n",
      "product    100000 non-null float64\n",
      "dtypes: float64(4), object(1)\n",
      "memory usage: 3.8+ MB\n",
      "\n",
      "ДАННЫЕ РЕГИОНА №3:\n"
     ]
    },
    {
     "data": {
      "text/html": [
       "<div>\n",
       "<style scoped>\n",
       "    .dataframe tbody tr th:only-of-type {\n",
       "        vertical-align: middle;\n",
       "    }\n",
       "\n",
       "    .dataframe tbody tr th {\n",
       "        vertical-align: top;\n",
       "    }\n",
       "\n",
       "    .dataframe thead th {\n",
       "        text-align: right;\n",
       "    }\n",
       "</style>\n",
       "<table border=\"1\" class=\"dataframe\">\n",
       "  <thead>\n",
       "    <tr style=\"text-align: right;\">\n",
       "      <th></th>\n",
       "      <th>id</th>\n",
       "      <th>f0</th>\n",
       "      <th>f1</th>\n",
       "      <th>f2</th>\n",
       "      <th>product</th>\n",
       "    </tr>\n",
       "  </thead>\n",
       "  <tbody>\n",
       "    <tr>\n",
       "      <td>0</td>\n",
       "      <td>fwXo0</td>\n",
       "      <td>-1.146987</td>\n",
       "      <td>0.963328</td>\n",
       "      <td>-0.828965</td>\n",
       "      <td>27.758673</td>\n",
       "    </tr>\n",
       "    <tr>\n",
       "      <td>1</td>\n",
       "      <td>WJtFt</td>\n",
       "      <td>0.262778</td>\n",
       "      <td>0.269839</td>\n",
       "      <td>-2.530187</td>\n",
       "      <td>56.069697</td>\n",
       "    </tr>\n",
       "    <tr>\n",
       "      <td>2</td>\n",
       "      <td>ovLUW</td>\n",
       "      <td>0.194587</td>\n",
       "      <td>0.289035</td>\n",
       "      <td>-5.586433</td>\n",
       "      <td>62.871910</td>\n",
       "    </tr>\n",
       "    <tr>\n",
       "      <td>3</td>\n",
       "      <td>q6cA6</td>\n",
       "      <td>2.236060</td>\n",
       "      <td>-0.553760</td>\n",
       "      <td>0.930038</td>\n",
       "      <td>114.572842</td>\n",
       "    </tr>\n",
       "    <tr>\n",
       "      <td>4</td>\n",
       "      <td>WPMUX</td>\n",
       "      <td>-0.515993</td>\n",
       "      <td>1.716266</td>\n",
       "      <td>5.899011</td>\n",
       "      <td>149.600746</td>\n",
       "    </tr>\n",
       "  </tbody>\n",
       "</table>\n",
       "</div>"
      ],
      "text/plain": [
       "      id        f0        f1        f2     product\n",
       "0  fwXo0 -1.146987  0.963328 -0.828965   27.758673\n",
       "1  WJtFt  0.262778  0.269839 -2.530187   56.069697\n",
       "2  ovLUW  0.194587  0.289035 -5.586433   62.871910\n",
       "3  q6cA6  2.236060 -0.553760  0.930038  114.572842\n",
       "4  WPMUX -0.515993  1.716266  5.899011  149.600746"
      ]
     },
     "metadata": {},
     "output_type": "display_data"
    },
    {
     "name": "stdout",
     "output_type": "stream",
     "text": [
      "<class 'pandas.core.frame.DataFrame'>\n",
      "RangeIndex: 100000 entries, 0 to 99999\n",
      "Data columns (total 5 columns):\n",
      "id         100000 non-null object\n",
      "f0         100000 non-null float64\n",
      "f1         100000 non-null float64\n",
      "f2         100000 non-null float64\n",
      "product    100000 non-null float64\n",
      "dtypes: float64(4), object(1)\n",
      "memory usage: 3.8+ MB\n"
     ]
    }
   ],
   "source": [
    "df = {}\n",
    "for i in range(0, 3):\n",
    "    df[i] = pd.read_csv(f'/datasets/geo_data_{i}.csv')\n",
    "    print()\n",
    "    print(f'Данные региона №{i+1}:'.upper())\n",
    "    display(df[i].head())\n",
    "    df[i].info()\n"
   ]
  },
  {
   "cell_type": "markdown",
   "metadata": {},
   "source": [
    "Уникальные идентификаторы скажин на не пригодятся, уберем id из наборов. "
   ]
  },
  {
   "cell_type": "code",
   "execution_count": 3,
   "metadata": {},
   "outputs": [],
   "source": [
    "for data in df.values():\n",
    "    del data['id']"
   ]
  },
  {
   "cell_type": "code",
   "execution_count": 4,
   "metadata": {},
   "outputs": [
    {
     "data": {
      "image/png": "[encoded data removed]",
      "text/plain": [
       "<Figure size 648x648 with 2 Axes>"
      ]
     },
     "metadata": {
      "needs_background": "light"
     },
     "output_type": "display_data"
    },
    {
     "data": {
      "image/png": "[encoded data removed]",
      "text/plain": [
       "<Figure size 648x648 with 2 Axes>"
      ]
     },
     "metadata": {
      "needs_background": "light"
     },
     "output_type": "display_data"
    },
    {
     "data": {
      "image/png": "[encoded data removed]",
      "text/plain": [
       "<Figure size 648x648 with 2 Axes>"
      ]
     },
     "metadata": {
      "needs_background": "light"
     },
     "output_type": "display_data"
    }
   ],
   "source": [
    "for i, data in df.items():\n",
    "    plt.figure(figsize=(9,9))\n",
    "    ax = sns.heatmap(data.corr(), annot=True)\n",
    "    ax.set_title(f'Коэффициенты корреляции Пирсона региона №{i+1}:')"
   ]
  },
  {
   "cell_type": "markdown",
   "metadata": {},
   "source": [
    "Видим зависимость объема запасов от признака f2, в первом и третьем - это слабая зависимость, а во втором - очень высокая. Сильной зависимости между собой у признаков нет, исключать признаки не будем."
   ]
  },
  {
   "cell_type": "markdown",
   "metadata": {},
   "source": [
    "## Обучение и проверка модели <a name=\"3\"></a>"
   ]
  },
  {
   "cell_type": "markdown",
   "metadata": {},
   "source": [
    "В качестве случайного состояния выберем одно значение и везде будем его последовательно использовать для воспроизводимости результатов."
   ]
  },
  {
   "cell_type": "code",
   "execution_count": 5,
   "metadata": {},
   "outputs": [],
   "source": [
    "RS = 12345"
   ]
  },
  {
   "cell_type": "markdown",
   "metadata": {},
   "source": [
    "Обучим и проверим модель для каждого региона.\n",
    "\n",
    "Разобьем данные на обучающую и валидационную выборки в соотношении 75:25."
   ]
  },
  {
   "cell_type": "code",
   "execution_count": 6,
   "metadata": {},
   "outputs": [],
   "source": [
    "features_train = {}\n",
    "features_valid = {}\n",
    "target_train = {}\n",
    "target_valid = {}\n",
    "means = {}\n",
    "for i, data in df.items():\n",
    "    target = data['product']\n",
    "    means[i] = target.mean()\n",
    "    features = data.drop(['product'], axis=1)\n",
    "    features_train[i], features_valid[i], target_train[i], target_valid[i] = train_test_split(\n",
    "        features, target, test_size=0.25, random_state=RS)"
   ]
  },
  {
   "cell_type": "markdown",
   "metadata": {},
   "source": [
    "Обучим модель и сделаем предсказания на валидационной выборке. Сохраним предсказания и правильные ответы на валидационной выборке. Выведем на экран средний запас предсказанного сырья и RMSE модели."
   ]
  },
  {
   "cell_type": "code",
   "execution_count": 7,
   "metadata": {},
   "outputs": [
    {
     "data": {
      "text/html": [
       "<style  type=\"text/css\" >\n",
       "</style><table id=\"T_f4fcdd70_183d_11eb_baf0_02420a39df69\" ><thead>    <tr>        <th class=\"blank level0\" ></th>        <th class=\"col_heading level0 col0\" >region</th>        <th class=\"col_heading level0 col1\" >rmse</th>        <th class=\"col_heading level0 col2\" >mean_predicted</th>        <th class=\"col_heading level0 col3\" >total_mean</th>    </tr></thead><tbody>\n",
       "                <tr>\n",
       "                        <th id=\"T_f4fcdd70_183d_11eb_baf0_02420a39df69level0_row0\" class=\"row_heading level0 row0\" >2</th>\n",
       "                        <td id=\"T_f4fcdd70_183d_11eb_baf0_02420a39df69row0_col0\" class=\"data row0 col0\" >3</td>\n",
       "                        <td id=\"T_f4fcdd70_183d_11eb_baf0_02420a39df69row0_col1\" class=\"data row0 col1\" >40</td>\n",
       "                        <td id=\"T_f4fcdd70_183d_11eb_baf0_02420a39df69row0_col2\" class=\"data row0 col2\" >95</td>\n",
       "                        <td id=\"T_f4fcdd70_183d_11eb_baf0_02420a39df69row0_col3\" class=\"data row0 col3\" >95</td>\n",
       "            </tr>\n",
       "            <tr>\n",
       "                        <th id=\"T_f4fcdd70_183d_11eb_baf0_02420a39df69level0_row1\" class=\"row_heading level0 row1\" >0</th>\n",
       "                        <td id=\"T_f4fcdd70_183d_11eb_baf0_02420a39df69row1_col0\" class=\"data row1 col0\" >1</td>\n",
       "                        <td id=\"T_f4fcdd70_183d_11eb_baf0_02420a39df69row1_col1\" class=\"data row1 col1\" >38</td>\n",
       "                        <td id=\"T_f4fcdd70_183d_11eb_baf0_02420a39df69row1_col2\" class=\"data row1 col2\" >93</td>\n",
       "                        <td id=\"T_f4fcdd70_183d_11eb_baf0_02420a39df69row1_col3\" class=\"data row1 col3\" >93</td>\n",
       "            </tr>\n",
       "            <tr>\n",
       "                        <th id=\"T_f4fcdd70_183d_11eb_baf0_02420a39df69level0_row2\" class=\"row_heading level0 row2\" >1</th>\n",
       "                        <td id=\"T_f4fcdd70_183d_11eb_baf0_02420a39df69row2_col0\" class=\"data row2 col0\" >2</td>\n",
       "                        <td id=\"T_f4fcdd70_183d_11eb_baf0_02420a39df69row2_col1\" class=\"data row2 col1\" >0.89</td>\n",
       "                        <td id=\"T_f4fcdd70_183d_11eb_baf0_02420a39df69row2_col2\" class=\"data row2 col2\" >69</td>\n",
       "                        <td id=\"T_f4fcdd70_183d_11eb_baf0_02420a39df69row2_col3\" class=\"data row2 col3\" >69</td>\n",
       "            </tr>\n",
       "    </tbody></table>"
      ],
      "text/plain": [
       "<pandas.io.formats.style.Styler at 0x7f2912c29a90>"
      ]
     },
     "execution_count": 7,
     "metadata": {},
     "output_type": "execute_result"
    }
   ],
   "source": [
    "predictions = {}\n",
    "models = {}\n",
    "best_predicted = {}\n",
    "result = []\n",
    "for i in df.keys():\n",
    "    models[i] = LinearRegression()\n",
    "    models[i].fit(features_train[i], target_train[i])\n",
    "    predictions[i] = pd.Series(models[i].predict(features_valid[i]), index=features_valid[i].index)\n",
    "    mse = mean_squared_error(target_valid[i], predictions[i])\n",
    "    result.append({'region': i+1, \n",
    "                   'rmse': mse**0.5, \n",
    "                   'mean_predicted': predictions[i].mean(),\n",
    "                   'total_mean': means[i]})\n",
    "result = pd.DataFrame(result, columns=['region', 'rmse', 'mean_predicted', 'total_mean'])\n",
    "result = result.sort_values(by='mean_predicted', ascending=False)\n",
    "result['region'].astype('uint8')\n",
    "result.style.format('{:.2g}')"
   ]
  },
  {
   "cell_type": "markdown",
   "metadata": {},
   "source": [
    "Проанализируем результаты. Средний запас меньше сотни единиц на сважину. Видим, что метрика качества rmse на скважине 2 значительно лучше."
   ]
  },
  {
   "cell_type": "markdown",
   "metadata": {},
   "source": [
    "## Подготовка к расчёту прибыли <a name=\"4\"></a>"
   ]
  },
  {
   "cell_type": "markdown",
   "metadata": {},
   "source": [
    "Все ключевые значения для расчётов сохраним в отдельных переменных."
   ]
  },
  {
   "cell_type": "code",
   "execution_count": 8,
   "metadata": {},
   "outputs": [],
   "source": [
    "BORES_COUNT = 200\n",
    "ITEM_REVENUE = 450000\n",
    "BUDGET_PER_REGION = 10e9\n",
    "BUDGET_PER_BORE = BUDGET_PER_REGION // BORES_COUNT"
   ]
  },
  {
   "cell_type": "markdown",
   "metadata": {},
   "source": [
    "Рассчитаем достаточный объём сырья для безубыточной разработки новой скважины. Сравним полученный объём сырья со средним запасом в каждом регионе."
   ]
  },
  {
   "cell_type": "code",
   "execution_count": 9,
   "metadata": {},
   "outputs": [
    {
     "name": "stdout",
     "output_type": "stream",
     "text": [
      "Количество единиц сырья в регионе для безубыточности: 22222.22\n",
      "Количество единиц сырья среднее на скажину для безубыточности: 111.11\n"
     ]
    },
    {
     "data": {
      "text/html": [
       "<style  type=\"text/css\" >\n",
       "</style><table id=\"T_f5017dc6_183d_11eb_baf0_02420a39df69\" ><thead>    <tr>        <th class=\"blank level0\" ></th>        <th class=\"col_heading level0 col0\" >total_mean</th>    </tr></thead><tbody>\n",
       "                <tr>\n",
       "                        <th id=\"T_f5017dc6_183d_11eb_baf0_02420a39df69level0_row0\" class=\"row_heading level0 row0\" >2</th>\n",
       "                        <td id=\"T_f5017dc6_183d_11eb_baf0_02420a39df69row0_col0\" class=\"data row0 col0\" >95.00</td>\n",
       "            </tr>\n",
       "            <tr>\n",
       "                        <th id=\"T_f5017dc6_183d_11eb_baf0_02420a39df69level0_row1\" class=\"row_heading level0 row1\" >0</th>\n",
       "                        <td id=\"T_f5017dc6_183d_11eb_baf0_02420a39df69row1_col0\" class=\"data row1 col0\" >92.50</td>\n",
       "            </tr>\n",
       "            <tr>\n",
       "                        <th id=\"T_f5017dc6_183d_11eb_baf0_02420a39df69level0_row2\" class=\"row_heading level0 row2\" >1</th>\n",
       "                        <td id=\"T_f5017dc6_183d_11eb_baf0_02420a39df69row2_col0\" class=\"data row2 col0\" >68.83</td>\n",
       "            </tr>\n",
       "    </tbody></table>"
      ],
      "text/plain": [
       "<pandas.io.formats.style.Styler at 0x7f2914bda210>"
      ]
     },
     "execution_count": 9,
     "metadata": {},
     "output_type": "execute_result"
    }
   ],
   "source": [
    "zero_point = BUDGET_PER_REGION / ITEM_REVENUE\n",
    "zero_point_mean = zero_point / BORES_COUNT\n",
    "print(f'Количество единиц сырья в регионе для безубыточности: {zero_point:.2f}')\n",
    "print(f'Количество единиц сырья среднее на скажину для безубыточности: {zero_point_mean:.2f}')\n",
    "result[['total_mean']].style.format('{:,.2f}')"
   ]
  },
  {
   "cell_type": "markdown",
   "metadata": {},
   "source": [
    "Для того, чтобы добыча была безубыточна, нам необходимо, чтобы на 200 скважинах были средний запас в 111 единиц. Мы имеет среднее меньше сотни, этого недостаточно для безубычточности, придется предсказывать лучшие скважины и выбирать."
   ]
  },
  {
   "cell_type": "markdown",
   "metadata": {},
   "source": [
    "## Расчёт прибыли и рисков <a name=\"5\"></a>"
   ]
  },
  {
   "cell_type": "markdown",
   "metadata": {},
   "source": [
    "Напишим функцию для расчёта прибыли по выбранным скважинам и предсказаниям модели. \n",
    "\n",
    "1. Выберем скважины с максимальными значениями предсказаний. \n",
    "2. Просуммируем целевое значение объёма сырья, соответствующее этим предсказаниям.\n",
    "3. Рассчитаем прибыль для полученного объёма сырья."
   ]
  },
  {
   "cell_type": "code",
   "execution_count": 10,
   "metadata": {},
   "outputs": [],
   "source": [
    "def get_profit(predictions, target):\n",
    "    best = predictions.sort_values(ascending=False)\n",
    "    real_best = target[best.index][:200]\n",
    "    return real_best.sum() * ITEM_REVENUE - BUDGET_PER_REGION"
   ]
  },
  {
   "cell_type": "markdown",
   "metadata": {},
   "source": [
    "Посчитаем риски и прибыль для каждого региона.\n",
    "\n",
    "Применим технику Bootstrap с 500 выборок, чтобы найти распределение прибыли.\n",
    "\n",
    "Найдем среднюю прибыль, 95%-й доверительный интервал и риск убытков. Убыток — это отрицательная прибыль. Значит нам нужно посчитать, с какой вероятностью предсказанные объемы могут быть ниже точки безубыточности."
   ]
  },
  {
   "cell_type": "markdown",
   "metadata": {},
   "source": [
    "## Алгоритм бутстрепа <a name=\"7\"></a>"
   ]
  },
  {
   "cell_type": "code",
   "execution_count": 13,
   "metadata": {},
   "outputs": [
    {
     "data": {
      "text/html": [
       "<style  type=\"text/css\" >\n",
       "</style><table id=\"T_51bbcf4e_183e_11eb_baf0_02420a39df69\" ><thead>    <tr>        <th class=\"blank level0\" ></th>        <th class=\"col_heading level0 col0\" >mean_profit</th>        <th class=\"col_heading level0 col1\" >confidence_start</th>        <th class=\"col_heading level0 col2\" >confidence_end</th>        <th class=\"col_heading level0 col3\" >probability_loss</th>    </tr>    <tr>        <th class=\"index_name level0\" >region</th>        <th class=\"blank\" ></th>        <th class=\"blank\" ></th>        <th class=\"blank\" ></th>        <th class=\"blank\" ></th>    </tr></thead><tbody>\n",
       "                <tr>\n",
       "                        <th id=\"T_51bbcf4e_183e_11eb_baf0_02420a39df69level0_row0\" class=\"row_heading level0 row0\" >1</th>\n",
       "                        <td id=\"T_51bbcf4e_183e_11eb_baf0_02420a39df69row0_col0\" class=\"data row0 col0\" >380,710,890.71</td>\n",
       "                        <td id=\"T_51bbcf4e_183e_11eb_baf0_02420a39df69row0_col1\" class=\"data row0 col1\" >0.00</td>\n",
       "                        <td id=\"T_51bbcf4e_183e_11eb_baf0_02420a39df69row0_col2\" class=\"data row0 col2\" >879,613,967.85</td>\n",
       "                        <td id=\"T_51bbcf4e_183e_11eb_baf0_02420a39df69row0_col3\" class=\"data row0 col3\" >0.07</td>\n",
       "            </tr>\n",
       "            <tr>\n",
       "                        <th id=\"T_51bbcf4e_183e_11eb_baf0_02420a39df69level0_row1\" class=\"row_heading level0 row1\" >2</th>\n",
       "                        <td id=\"T_51bbcf4e_183e_11eb_baf0_02420a39df69row1_col0\" class=\"data row1 col0\" >454,785,434.77</td>\n",
       "                        <td id=\"T_51bbcf4e_183e_11eb_baf0_02420a39df69row1_col1\" class=\"data row1 col1\" >46,730,084.77</td>\n",
       "                        <td id=\"T_51bbcf4e_183e_11eb_baf0_02420a39df69row1_col2\" class=\"data row1 col2\" >840,213,356.26</td>\n",
       "                        <td id=\"T_51bbcf4e_183e_11eb_baf0_02420a39df69row1_col3\" class=\"data row1 col3\" >0.01</td>\n",
       "            </tr>\n",
       "            <tr>\n",
       "                        <th id=\"T_51bbcf4e_183e_11eb_baf0_02420a39df69level0_row2\" class=\"row_heading level0 row2\" >3</th>\n",
       "                        <td id=\"T_51bbcf4e_183e_11eb_baf0_02420a39df69row2_col0\" class=\"data row2 col0\" >389,217,073.69</td>\n",
       "                        <td id=\"T_51bbcf4e_183e_11eb_baf0_02420a39df69row2_col1\" class=\"data row2 col1\" >0.00</td>\n",
       "                        <td id=\"T_51bbcf4e_183e_11eb_baf0_02420a39df69row2_col2\" class=\"data row2 col2\" >906,512,590.17</td>\n",
       "                        <td id=\"T_51bbcf4e_183e_11eb_baf0_02420a39df69row2_col3\" class=\"data row2 col3\" >0.07</td>\n",
       "            </tr>\n",
       "    </tbody></table>"
      ],
      "text/plain": [
       "<pandas.io.formats.style.Styler at 0x7f29521e7c90>"
      ]
     },
     "execution_count": 13,
     "metadata": {},
     "output_type": "execute_result"
    }
   ],
   "source": [
    "bootstrap_number = 1000\n",
    "bootstrap_sample = 500\n",
    "alpha = 0.95\n",
    "mean_region_profits = []\n",
    "interval_A = []\n",
    "interval_B = []\n",
    "p_loss = []\n",
    "state = RandomState(RS)\n",
    "for i in df.keys():\n",
    "    mean_profits = []\n",
    "    for j in range(bootstrap_number):\n",
    "        sample_target = target_valid[i].sample(bootstrap_sample, replace=False, random_state=state)\n",
    "        sample_predict = predictions[i][sample_target.index]  \n",
    "        profit = get_profit(sample_predict, sample_target)\n",
    "        mean_profit = profit\n",
    "        mean_profits.append(mean_profit)\n",
    "    mean_profits = pd.Series(mean_profits)\n",
    "    region_profit = mean_profits.mean()\n",
    "    mean_region_profits.append(region_profit)\n",
    "    confidence_interval = (mean_profits.quantile(0.025), mean_profits.quantile(0.975))\n",
    "    start = confidence_interval[0] if confidence_interval[0] > 0 else 0\n",
    "    interval_A.append(start)\n",
    "    interval_B.append(confidence_interval[1]) \n",
    "    loss = mean_profits[mean_profits < 0]\n",
    "    loss_ratio = len(loss)/len(mean_profits)\n",
    "    p_loss.append(loss_ratio)\n",
    "\n",
    "result = result.sort_index()\n",
    "\n",
    "result['confidence_start'] = interval_A\n",
    "result['confidence_end'] = interval_B\n",
    "result['mean_profit'] = mean_region_profits\n",
    "result['probability_loss'] = p_loss\n",
    "\n",
    "data = result[['region', 'mean_profit', 'confidence_start',\n",
    "        'confidence_end', 'probability_loss']]\n",
    "data.index = data['region']\n",
    "data = data.drop(['region'], axis=1)\n",
    "data.style.format('{:,.2f}')"
   ]
  },
  {
   "cell_type": "markdown",
   "metadata": {},
   "source": [
    "Математическое ожидание прибыли в регионах в промежутке 380-450 млн. руб. Вероятность, что предсказанные объемы будут ниже точки безубыточности приблизительно 1% у региона №2, риски ниже пороговых 2,5%. Оставляем регион №2.\n",
    "\n",
    "Предложим регион для разработки скважин и обоснуем выбор. Предпочтительней всего регион 2, средняя на скажину прибыль наивысшая в регионе № 2: 455 млн. рублей."
   ]
  },
  {
   "cell_type": "markdown",
   "metadata": {},
   "source": [
    "## Общий вывод <a name=\"6\"></a>"
   ]
  },
  {
   "cell_type": "markdown",
   "metadata": {},
   "source": [
    "Загрузили данные по регионам, корреляционной связи между признаками не обнаружили, все оставили для модели. \n",
    "\n",
    "Разбили на валидационную и обучающую выборку в соотношении 75:25, отдельно по каждому региону. Для каждого региона обучили модель линейного регрессора.\n",
    "\n",
    "Сделали предсказания на случайно выбранных 500 значениях из валидационного набора. Отобрали 200 лучших из них по объему. На этих данных посчитали средней объем добычи в регионе, а также общую прибыль на регион.\n",
    "\n",
    "Дальше делали предсказания на 1000 случайно выбранных строк из валидационного набора. Отобрали 200 лучших из них по объему. На этих данных мы посчитали прибыль на скажину для каждой строки, среднее значение прибыли для скажины в регионе, доверительный интервал 95%, и риски убыточных скажин в регионе. Риск убытка оказался в регионе №2 ниже порогового 2,5% приблизительно 1%. А вот средние значения прибыли на скажину позволили выбрать лучший регион для бурения согласно предложенной методики. \n",
    "\n",
    "Лучшим регионом для бурения оказался регион № 2 со средней прибылью на скажину в 455 млн. рублей."
   ]
  }
 ],
 "metadata": {
  "kernelspec": {
   "display_name": "cinimex",
   "language": "python",
   "name": "cinimex"
  },
  "language_info": {
   "codemirror_mode": {
    "name": "ipython",
    "version": 3
   },
   "file_extension": ".py",
   "mimetype": "text/x-python",
   "name": "python",
   "nbconvert_exporter": "python",
   "pygments_lexer": "ipython3",
   "version": "3.9.1"
  },
  "toc": {
   "base_numbering": 1,
   "nav_menu": {},
   "number_sections": true,
   "sideBar": true,
   "skip_h1_title": true,
   "title_cell": "Оглавление проекта",
   "title_sidebar": "Оглавление",
   "toc_cell": true,
   "toc_position": {},
   "toc_section_display": true,
   "toc_window_display": false
  }
 },
 "nbformat": 4,
 "nbformat_minor": 2
}
