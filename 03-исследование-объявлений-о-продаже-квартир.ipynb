{
 "cells": [
  {
   "cell_type": "markdown",
   "metadata": {},
   "source": [
    "# Исследование объявлений о продаже квартир"
   ]
  },
  {
   "cell_type": "markdown",
   "metadata": {
    "toc": true
   },
   "source": [
    "<h1>Оглавление проекта<span class=\"tocSkip\"></span></h1>\n",
    "<div class=\"toc\"><ul class=\"toc-item\"><li><span><a href=\"#Описание-проекта\" data-toc-modified-id=\"Описание-проекта-1\"><span class=\"toc-item-num\">1&nbsp;&nbsp;</span>Описание проекта</a></span></li><li><span><a href=\"#Описание-данных-\" data-toc-modified-id=\"Описание-данных--2\"><span class=\"toc-item-num\">2&nbsp;&nbsp;</span>Описание данных <a name=\"1_1\"></a></a></span></li><li><span><a href=\"#Обзор-данных-\" data-toc-modified-id=\"Обзор-данных--3\"><span class=\"toc-item-num\">3&nbsp;&nbsp;</span>Обзор данных <a name=\"1\"></a></a></span><ul class=\"toc-item\"><li><span><a href=\"#Вывод\" data-toc-modified-id=\"Вывод-3.1\"><span class=\"toc-item-num\">3.1&nbsp;&nbsp;</span>Вывод</a></span></li></ul></li><li><span><a href=\"#Предобработка-данных-\" data-toc-modified-id=\"Предобработка-данных--4\"><span class=\"toc-item-num\">4&nbsp;&nbsp;</span>Предобработка данных <a name=\"2\"></a></a></span><ul class=\"toc-item\"><li><span><a href=\"#Обработка-пропусков-\" data-toc-modified-id=\"Обработка-пропусков--4.1\"><span class=\"toc-item-num\">4.1&nbsp;&nbsp;</span>Обработка пропусков <a name=\"2_1\"></a></a></span></li><li><span><a href=\"#Изменение-типов-данных-\" data-toc-modified-id=\"Изменение-типов-данных--4.2\"><span class=\"toc-item-num\">4.2&nbsp;&nbsp;</span>Изменение типов данных <a name=\"2_2\"></a></a></span></li><li><span><a href=\"#Обработка-дублей-\" data-toc-modified-id=\"Обработка-дублей--4.3\"><span class=\"toc-item-num\">4.3&nbsp;&nbsp;</span>Обработка дублей <a name=\"2_3\"></a></a></span></li><li><span><a href=\"#Вывод\" data-toc-modified-id=\"Вывод-4.4\"><span class=\"toc-item-num\">4.4&nbsp;&nbsp;</span>Вывод</a></span></li></ul></li><li><span><a href=\"#Добавление-новых-колонок-\" data-toc-modified-id=\"Добавление-новых-колонок--5\"><span class=\"toc-item-num\">5&nbsp;&nbsp;</span>Добавление новых колонок <a name=\"3\"></a></a></span><ul class=\"toc-item\"><li><span><a href=\"#Вывод\" data-toc-modified-id=\"Вывод-5.1\"><span class=\"toc-item-num\">5.1&nbsp;&nbsp;</span>Вывод</a></span></li></ul></li><li><span><a href=\"#Исследовательский-анализ-данных-\" data-toc-modified-id=\"Исследовательский-анализ-данных--6\"><span class=\"toc-item-num\">6&nbsp;&nbsp;</span>Исследовательский анализ данных <a name=\"4\"></a></a></span><ul class=\"toc-item\"><li><span><a href=\"#Общие-статистические-характеристики-и-графики-\" data-toc-modified-id=\"Общие-статистические-характеристики-и-графики--6.1\"><span class=\"toc-item-num\">6.1&nbsp;&nbsp;</span>Общие статистические характеристики и графики <a name=\"4_1\"></a></a></span></li><li><span><a href=\"#Обработка-выбросов-\" data-toc-modified-id=\"Обработка-выбросов--6.2\"><span class=\"toc-item-num\">6.2&nbsp;&nbsp;</span>Обработка выбросов <a name=\"4_2\"></a></a></span></li><li><span><a href=\"#Изучаем-зависимости-\" data-toc-modified-id=\"Изучаем-зависимости--6.3\"><span class=\"toc-item-num\">6.3&nbsp;&nbsp;</span>Изучаем зависимости <a name=\"4_3\"></a></a></span></li><li><span><a href=\"#Вывод\" data-toc-modified-id=\"Вывод-6.4\"><span class=\"toc-item-num\">6.4&nbsp;&nbsp;</span>Вывод</a></span></li></ul></li><li><span><a href=\"#Общий-вывод-\" data-toc-modified-id=\"Общий-вывод--7\"><span class=\"toc-item-num\">7&nbsp;&nbsp;</span>Общий вывод <a name=\"5\"></a></a></span></li></ul></div>"
   ]
  },
  {
   "cell_type": "markdown",
   "metadata": {},
   "source": [
    "## Описание проекта\n",
    "В вашем распоряжении данные сервиса Яндекс.Недвижимость — архив объявлений о продаже квартир в Санкт-Петербурге и соседних населённых пунктов за несколько лет. Нужно научиться определять рыночную стоимость объектов недвижимости. Ваша задача — установить параметры. Это позволит построить автоматизированную систему: она отследит аномалии и мошенническую деятельность. \n",
    "\n",
    "По каждой квартире на продажу доступны два вида данных. Первые вписаны пользователем, вторые — получены автоматически на основе картографических данных. Например, расстояние до центра, аэропорта, ближайшего парка и водоёма. \n",
    "\n",
    "## Описание данных <a name=\"1_1\"></a>\n",
    "* airports_nearest — расстояние до ближайшего аэропорта в метрах (м)\n",
    "* balcony — число балконов\n",
    "* ceiling_height — высота потолков (м)\n",
    "* cityCenters_nearest — расстояние до центра города (м)\n",
    "* days_exposition — сколько дней было размещено объявление (от публикации до снятия)\n",
    "* first_day_exposition — дата публикации\n",
    "* floor — этаж\n",
    "* floors_total — всего этажей в доме\n",
    "* is_apartment — апартаменты (булев тип)\n",
    "* kitchen_area — площадь кухни в квадратных метрах (м²)\n",
    "* last_price — цена на момент снятия с публикации\n",
    "* living_area — жилая площадь в квадратных метрах(м²)\n",
    "* locality_name — название населённого пункта\n",
    "* open_plan — свободная планировка (булев тип)\n",
    "* parks_around3000 — число парков в радиусе 3 км\n",
    "* parks_nearest — расстояние до ближайшего парка (м)\n",
    "* ponds_around3000 — число водоёмов в радиусе 3 км\n",
    "* ponds_nearest — расстояние до ближайшего водоёма (м)\n",
    "* rooms — число комнат\n",
    "* studio — квартира-студия (булев тип)\n",
    "* total_area — площадь квартиры в квадратных метрах (м²)\n",
    "* total_images — число фотографий квартиры в объявлении"
   ]
  },
  {
   "cell_type": "markdown",
   "metadata": {},
   "source": [
    "## Обзор данных <a name=\"1\"></a>"
   ]
  },
  {
   "cell_type": "markdown",
   "metadata": {},
   "source": [
    "Загрузим и посмотрим на первые строки."
   ]
  },
  {
   "cell_type": "code",
   "execution_count": 1,
   "metadata": {},
   "outputs": [
    {
     "data": {
      "text/html": [
       "<div>\n",
       "<style scoped>\n",
       "    .dataframe tbody tr th:only-of-type {\n",
       "        vertical-align: middle;\n",
       "    }\n",
       "\n",
       "    .dataframe tbody tr th {\n",
       "        vertical-align: top;\n",
       "    }\n",
       "\n",
       "    .dataframe thead th {\n",
       "        text-align: right;\n",
       "    }\n",
       "</style>\n",
       "<table border=\"1\" class=\"dataframe\">\n",
       "  <thead>\n",
       "    <tr style=\"text-align: right;\">\n",
       "      <th></th>\n",
       "      <th>total_images</th>\n",
       "      <th>last_price</th>\n",
       "      <th>total_area</th>\n",
       "      <th>first_day_exposition</th>\n",
       "      <th>rooms</th>\n",
       "      <th>ceiling_height</th>\n",
       "      <th>floors_total</th>\n",
       "      <th>living_area</th>\n",
       "      <th>floor</th>\n",
       "      <th>is_apartment</th>\n",
       "      <th>...</th>\n",
       "      <th>kitchen_area</th>\n",
       "      <th>balcony</th>\n",
       "      <th>locality_name</th>\n",
       "      <th>airports_nearest</th>\n",
       "      <th>cityCenters_nearest</th>\n",
       "      <th>parks_around3000</th>\n",
       "      <th>parks_nearest</th>\n",
       "      <th>ponds_around3000</th>\n",
       "      <th>ponds_nearest</th>\n",
       "      <th>days_exposition</th>\n",
       "    </tr>\n",
       "  </thead>\n",
       "  <tbody>\n",
       "    <tr>\n",
       "      <td>0</td>\n",
       "      <td>20</td>\n",
       "      <td>13000000.0</td>\n",
       "      <td>108.0</td>\n",
       "      <td>2019-03-07T00:00:00</td>\n",
       "      <td>3</td>\n",
       "      <td>2.70</td>\n",
       "      <td>16.0</td>\n",
       "      <td>51.0</td>\n",
       "      <td>8</td>\n",
       "      <td>NaN</td>\n",
       "      <td>...</td>\n",
       "      <td>25.0</td>\n",
       "      <td>NaN</td>\n",
       "      <td>Санкт-Петербург</td>\n",
       "      <td>18863.0</td>\n",
       "      <td>16028.0</td>\n",
       "      <td>1.0</td>\n",
       "      <td>482.0</td>\n",
       "      <td>2.0</td>\n",
       "      <td>755.0</td>\n",
       "      <td>NaN</td>\n",
       "    </tr>\n",
       "    <tr>\n",
       "      <td>1</td>\n",
       "      <td>7</td>\n",
       "      <td>3350000.0</td>\n",
       "      <td>40.4</td>\n",
       "      <td>2018-12-04T00:00:00</td>\n",
       "      <td>1</td>\n",
       "      <td>NaN</td>\n",
       "      <td>11.0</td>\n",
       "      <td>18.6</td>\n",
       "      <td>1</td>\n",
       "      <td>NaN</td>\n",
       "      <td>...</td>\n",
       "      <td>11.0</td>\n",
       "      <td>2.0</td>\n",
       "      <td>посёлок Шушары</td>\n",
       "      <td>12817.0</td>\n",
       "      <td>18603.0</td>\n",
       "      <td>0.0</td>\n",
       "      <td>NaN</td>\n",
       "      <td>0.0</td>\n",
       "      <td>NaN</td>\n",
       "      <td>81.0</td>\n",
       "    </tr>\n",
       "    <tr>\n",
       "      <td>2</td>\n",
       "      <td>10</td>\n",
       "      <td>5196000.0</td>\n",
       "      <td>56.0</td>\n",
       "      <td>2015-08-20T00:00:00</td>\n",
       "      <td>2</td>\n",
       "      <td>NaN</td>\n",
       "      <td>5.0</td>\n",
       "      <td>34.3</td>\n",
       "      <td>4</td>\n",
       "      <td>NaN</td>\n",
       "      <td>...</td>\n",
       "      <td>8.3</td>\n",
       "      <td>0.0</td>\n",
       "      <td>Санкт-Петербург</td>\n",
       "      <td>21741.0</td>\n",
       "      <td>13933.0</td>\n",
       "      <td>1.0</td>\n",
       "      <td>90.0</td>\n",
       "      <td>2.0</td>\n",
       "      <td>574.0</td>\n",
       "      <td>558.0</td>\n",
       "    </tr>\n",
       "    <tr>\n",
       "      <td>3</td>\n",
       "      <td>0</td>\n",
       "      <td>64900000.0</td>\n",
       "      <td>159.0</td>\n",
       "      <td>2015-07-24T00:00:00</td>\n",
       "      <td>3</td>\n",
       "      <td>NaN</td>\n",
       "      <td>14.0</td>\n",
       "      <td>NaN</td>\n",
       "      <td>9</td>\n",
       "      <td>NaN</td>\n",
       "      <td>...</td>\n",
       "      <td>NaN</td>\n",
       "      <td>0.0</td>\n",
       "      <td>Санкт-Петербург</td>\n",
       "      <td>28098.0</td>\n",
       "      <td>6800.0</td>\n",
       "      <td>2.0</td>\n",
       "      <td>84.0</td>\n",
       "      <td>3.0</td>\n",
       "      <td>234.0</td>\n",
       "      <td>424.0</td>\n",
       "    </tr>\n",
       "    <tr>\n",
       "      <td>4</td>\n",
       "      <td>2</td>\n",
       "      <td>10000000.0</td>\n",
       "      <td>100.0</td>\n",
       "      <td>2018-06-19T00:00:00</td>\n",
       "      <td>2</td>\n",
       "      <td>3.03</td>\n",
       "      <td>14.0</td>\n",
       "      <td>32.0</td>\n",
       "      <td>13</td>\n",
       "      <td>NaN</td>\n",
       "      <td>...</td>\n",
       "      <td>41.0</td>\n",
       "      <td>NaN</td>\n",
       "      <td>Санкт-Петербург</td>\n",
       "      <td>31856.0</td>\n",
       "      <td>8098.0</td>\n",
       "      <td>2.0</td>\n",
       "      <td>112.0</td>\n",
       "      <td>1.0</td>\n",
       "      <td>48.0</td>\n",
       "      <td>121.0</td>\n",
       "    </tr>\n",
       "  </tbody>\n",
       "</table>\n",
       "<p>5 rows × 22 columns</p>\n",
       "</div>"
      ],
      "text/plain": [
       "   total_images  last_price  total_area first_day_exposition  rooms  \\\n",
       "0            20  13000000.0       108.0  2019-03-07T00:00:00      3   \n",
       "1             7   3350000.0        40.4  2018-12-04T00:00:00      1   \n",
       "2            10   5196000.0        56.0  2015-08-20T00:00:00      2   \n",
       "3             0  64900000.0       159.0  2015-07-24T00:00:00      3   \n",
       "4             2  10000000.0       100.0  2018-06-19T00:00:00      2   \n",
       "\n",
       "   ceiling_height  floors_total  living_area  floor is_apartment  ...  \\\n",
       "0            2.70          16.0         51.0      8          NaN  ...   \n",
       "1             NaN          11.0         18.6      1          NaN  ...   \n",
       "2             NaN           5.0         34.3      4          NaN  ...   \n",
       "3             NaN          14.0          NaN      9          NaN  ...   \n",
       "4            3.03          14.0         32.0     13          NaN  ...   \n",
       "\n",
       "   kitchen_area  balcony    locality_name  airports_nearest  \\\n",
       "0          25.0      NaN  Санкт-Петербург           18863.0   \n",
       "1          11.0      2.0   посёлок Шушары           12817.0   \n",
       "2           8.3      0.0  Санкт-Петербург           21741.0   \n",
       "3           NaN      0.0  Санкт-Петербург           28098.0   \n",
       "4          41.0      NaN  Санкт-Петербург           31856.0   \n",
       "\n",
       "  cityCenters_nearest  parks_around3000  parks_nearest  ponds_around3000  \\\n",
       "0             16028.0               1.0          482.0               2.0   \n",
       "1             18603.0               0.0            NaN               0.0   \n",
       "2             13933.0               1.0           90.0               2.0   \n",
       "3              6800.0               2.0           84.0               3.0   \n",
       "4              8098.0               2.0          112.0               1.0   \n",
       "\n",
       "   ponds_nearest  days_exposition  \n",
       "0          755.0              NaN  \n",
       "1            NaN             81.0  \n",
       "2          574.0            558.0  \n",
       "3          234.0            424.0  \n",
       "4           48.0            121.0  \n",
       "\n",
       "[5 rows x 22 columns]"
      ]
     },
     "execution_count": 1,
     "metadata": {},
     "output_type": "execute_result"
    }
   ],
   "source": [
    "import pandas as pd\n",
    "df = pd.read_csv('/datasets/real_estate_data.csv', '\\t')\n",
    "df.head()"
   ]
  },
  {
   "cell_type": "markdown",
   "metadata": {},
   "source": [
    "Нормально загрузилось."
   ]
  },
  {
   "cell_type": "markdown",
   "metadata": {},
   "source": [
    "Взглянем на общую информацию о количестве колонок, строк, типах, пропусках."
   ]
  },
  {
   "cell_type": "code",
   "execution_count": 2,
   "metadata": {
    "scrolled": false
   },
   "outputs": [
    {
     "name": "stdout",
     "output_type": "stream",
     "text": [
      "<class 'pandas.core.frame.DataFrame'>\n",
      "RangeIndex: 23699 entries, 0 to 23698\n",
      "Data columns (total 22 columns):\n",
      "total_images            23699 non-null int64\n",
      "last_price              23699 non-null float64\n",
      "total_area              23699 non-null float64\n",
      "first_day_exposition    23699 non-null object\n",
      "rooms                   23699 non-null int64\n",
      "ceiling_height          14504 non-null float64\n",
      "floors_total            23613 non-null float64\n",
      "living_area             21796 non-null float64\n",
      "floor                   23699 non-null int64\n",
      "is_apartment            2775 non-null object\n",
      "studio                  23699 non-null bool\n",
      "open_plan               23699 non-null bool\n",
      "kitchen_area            21421 non-null float64\n",
      "balcony                 12180 non-null float64\n",
      "locality_name           23650 non-null object\n",
      "airports_nearest        18157 non-null float64\n",
      "cityCenters_nearest     18180 non-null float64\n",
      "parks_around3000        18181 non-null float64\n",
      "parks_nearest           8079 non-null float64\n",
      "ponds_around3000        18181 non-null float64\n",
      "ponds_nearest           9110 non-null float64\n",
      "days_exposition         20518 non-null float64\n",
      "dtypes: bool(2), float64(14), int64(3), object(3)\n",
      "memory usage: 8.1 MB\n"
     ]
    }
   ],
   "source": [
    "df.info(memory_usage='deep')"
   ]
  },
  {
   "cell_type": "markdown",
   "metadata": {},
   "source": [
    "Видим пропуски значений во многих колонках, типы нуждаются в преобразовании. Причем по колонкам is_apartment, parks_nearest, ponds_nearest - только небольшая часть заполнена."
   ]
  },
  {
   "cell_type": "markdown",
   "metadata": {},
   "source": [
    "Посмотрим на общие статистические значения."
   ]
  },
  {
   "cell_type": "code",
   "execution_count": 3,
   "metadata": {},
   "outputs": [
    {
     "data": {
      "text/html": [
       "<style  type=\"text/css\" >\n",
       "</style><table id=\"T_34d6b688_d260_11ea_b573_02420a394e7e\" ><thead>    <tr>        <th class=\"blank level0\" ></th>        <th class=\"col_heading level0 col0\" >total_images</th>        <th class=\"col_heading level0 col1\" >last_price</th>        <th class=\"col_heading level0 col2\" >total_area</th>        <th class=\"col_heading level0 col3\" >rooms</th>        <th class=\"col_heading level0 col4\" >ceiling_height</th>        <th class=\"col_heading level0 col5\" >floors_total</th>        <th class=\"col_heading level0 col6\" >living_area</th>        <th class=\"col_heading level0 col7\" >floor</th>        <th class=\"col_heading level0 col8\" >kitchen_area</th>        <th class=\"col_heading level0 col9\" >balcony</th>        <th class=\"col_heading level0 col10\" >airports_nearest</th>        <th class=\"col_heading level0 col11\" >cityCenters_nearest</th>        <th class=\"col_heading level0 col12\" >parks_around3000</th>        <th class=\"col_heading level0 col13\" >parks_nearest</th>        <th class=\"col_heading level0 col14\" >ponds_around3000</th>        <th class=\"col_heading level0 col15\" >ponds_nearest</th>        <th class=\"col_heading level0 col16\" >days_exposition</th>    </tr></thead><tbody>\n",
       "                <tr>\n",
       "                        <th id=\"T_34d6b688_d260_11ea_b573_02420a394e7elevel0_row0\" class=\"row_heading level0 row0\" >count</th>\n",
       "                        <td id=\"T_34d6b688_d260_11ea_b573_02420a394e7erow0_col0\" class=\"data row0 col0\" >23,699</td>\n",
       "                        <td id=\"T_34d6b688_d260_11ea_b573_02420a394e7erow0_col1\" class=\"data row0 col1\" >23,699</td>\n",
       "                        <td id=\"T_34d6b688_d260_11ea_b573_02420a394e7erow0_col2\" class=\"data row0 col2\" >23,699</td>\n",
       "                        <td id=\"T_34d6b688_d260_11ea_b573_02420a394e7erow0_col3\" class=\"data row0 col3\" >23,699</td>\n",
       "                        <td id=\"T_34d6b688_d260_11ea_b573_02420a394e7erow0_col4\" class=\"data row0 col4\" >14,504</td>\n",
       "                        <td id=\"T_34d6b688_d260_11ea_b573_02420a394e7erow0_col5\" class=\"data row0 col5\" >23,613</td>\n",
       "                        <td id=\"T_34d6b688_d260_11ea_b573_02420a394e7erow0_col6\" class=\"data row0 col6\" >21,796</td>\n",
       "                        <td id=\"T_34d6b688_d260_11ea_b573_02420a394e7erow0_col7\" class=\"data row0 col7\" >23,699</td>\n",
       "                        <td id=\"T_34d6b688_d260_11ea_b573_02420a394e7erow0_col8\" class=\"data row0 col8\" >21,421</td>\n",
       "                        <td id=\"T_34d6b688_d260_11ea_b573_02420a394e7erow0_col9\" class=\"data row0 col9\" >12,180</td>\n",
       "                        <td id=\"T_34d6b688_d260_11ea_b573_02420a394e7erow0_col10\" class=\"data row0 col10\" >18,157</td>\n",
       "                        <td id=\"T_34d6b688_d260_11ea_b573_02420a394e7erow0_col11\" class=\"data row0 col11\" >18,180</td>\n",
       "                        <td id=\"T_34d6b688_d260_11ea_b573_02420a394e7erow0_col12\" class=\"data row0 col12\" >18,181</td>\n",
       "                        <td id=\"T_34d6b688_d260_11ea_b573_02420a394e7erow0_col13\" class=\"data row0 col13\" >8,079</td>\n",
       "                        <td id=\"T_34d6b688_d260_11ea_b573_02420a394e7erow0_col14\" class=\"data row0 col14\" >18,181</td>\n",
       "                        <td id=\"T_34d6b688_d260_11ea_b573_02420a394e7erow0_col15\" class=\"data row0 col15\" >9,110</td>\n",
       "                        <td id=\"T_34d6b688_d260_11ea_b573_02420a394e7erow0_col16\" class=\"data row0 col16\" >20,518</td>\n",
       "            </tr>\n",
       "            <tr>\n",
       "                        <th id=\"T_34d6b688_d260_11ea_b573_02420a394e7elevel0_row1\" class=\"row_heading level0 row1\" >mean</th>\n",
       "                        <td id=\"T_34d6b688_d260_11ea_b573_02420a394e7erow1_col0\" class=\"data row1 col0\" >10</td>\n",
       "                        <td id=\"T_34d6b688_d260_11ea_b573_02420a394e7erow1_col1\" class=\"data row1 col1\" >6,541,549</td>\n",
       "                        <td id=\"T_34d6b688_d260_11ea_b573_02420a394e7erow1_col2\" class=\"data row1 col2\" >60</td>\n",
       "                        <td id=\"T_34d6b688_d260_11ea_b573_02420a394e7erow1_col3\" class=\"data row1 col3\" >2</td>\n",
       "                        <td id=\"T_34d6b688_d260_11ea_b573_02420a394e7erow1_col4\" class=\"data row1 col4\" >3</td>\n",
       "                        <td id=\"T_34d6b688_d260_11ea_b573_02420a394e7erow1_col5\" class=\"data row1 col5\" >11</td>\n",
       "                        <td id=\"T_34d6b688_d260_11ea_b573_02420a394e7erow1_col6\" class=\"data row1 col6\" >34</td>\n",
       "                        <td id=\"T_34d6b688_d260_11ea_b573_02420a394e7erow1_col7\" class=\"data row1 col7\" >6</td>\n",
       "                        <td id=\"T_34d6b688_d260_11ea_b573_02420a394e7erow1_col8\" class=\"data row1 col8\" >11</td>\n",
       "                        <td id=\"T_34d6b688_d260_11ea_b573_02420a394e7erow1_col9\" class=\"data row1 col9\" >1</td>\n",
       "                        <td id=\"T_34d6b688_d260_11ea_b573_02420a394e7erow1_col10\" class=\"data row1 col10\" >28,794</td>\n",
       "                        <td id=\"T_34d6b688_d260_11ea_b573_02420a394e7erow1_col11\" class=\"data row1 col11\" >14,191</td>\n",
       "                        <td id=\"T_34d6b688_d260_11ea_b573_02420a394e7erow1_col12\" class=\"data row1 col12\" >1</td>\n",
       "                        <td id=\"T_34d6b688_d260_11ea_b573_02420a394e7erow1_col13\" class=\"data row1 col13\" >491</td>\n",
       "                        <td id=\"T_34d6b688_d260_11ea_b573_02420a394e7erow1_col14\" class=\"data row1 col14\" >1</td>\n",
       "                        <td id=\"T_34d6b688_d260_11ea_b573_02420a394e7erow1_col15\" class=\"data row1 col15\" >518</td>\n",
       "                        <td id=\"T_34d6b688_d260_11ea_b573_02420a394e7erow1_col16\" class=\"data row1 col16\" >181</td>\n",
       "            </tr>\n",
       "            <tr>\n",
       "                        <th id=\"T_34d6b688_d260_11ea_b573_02420a394e7elevel0_row2\" class=\"row_heading level0 row2\" >std</th>\n",
       "                        <td id=\"T_34d6b688_d260_11ea_b573_02420a394e7erow2_col0\" class=\"data row2 col0\" >6</td>\n",
       "                        <td id=\"T_34d6b688_d260_11ea_b573_02420a394e7erow2_col1\" class=\"data row2 col1\" >10,887,013</td>\n",
       "                        <td id=\"T_34d6b688_d260_11ea_b573_02420a394e7erow2_col2\" class=\"data row2 col2\" >36</td>\n",
       "                        <td id=\"T_34d6b688_d260_11ea_b573_02420a394e7erow2_col3\" class=\"data row2 col3\" >1</td>\n",
       "                        <td id=\"T_34d6b688_d260_11ea_b573_02420a394e7erow2_col4\" class=\"data row2 col4\" >1</td>\n",
       "                        <td id=\"T_34d6b688_d260_11ea_b573_02420a394e7erow2_col5\" class=\"data row2 col5\" >7</td>\n",
       "                        <td id=\"T_34d6b688_d260_11ea_b573_02420a394e7erow2_col6\" class=\"data row2 col6\" >22</td>\n",
       "                        <td id=\"T_34d6b688_d260_11ea_b573_02420a394e7erow2_col7\" class=\"data row2 col7\" >5</td>\n",
       "                        <td id=\"T_34d6b688_d260_11ea_b573_02420a394e7erow2_col8\" class=\"data row2 col8\" >6</td>\n",
       "                        <td id=\"T_34d6b688_d260_11ea_b573_02420a394e7erow2_col9\" class=\"data row2 col9\" >1</td>\n",
       "                        <td id=\"T_34d6b688_d260_11ea_b573_02420a394e7erow2_col10\" class=\"data row2 col10\" >12,631</td>\n",
       "                        <td id=\"T_34d6b688_d260_11ea_b573_02420a394e7erow2_col11\" class=\"data row2 col11\" >8,608</td>\n",
       "                        <td id=\"T_34d6b688_d260_11ea_b573_02420a394e7erow2_col12\" class=\"data row2 col12\" >1</td>\n",
       "                        <td id=\"T_34d6b688_d260_11ea_b573_02420a394e7erow2_col13\" class=\"data row2 col13\" >342</td>\n",
       "                        <td id=\"T_34d6b688_d260_11ea_b573_02420a394e7erow2_col14\" class=\"data row2 col14\" >1</td>\n",
       "                        <td id=\"T_34d6b688_d260_11ea_b573_02420a394e7erow2_col15\" class=\"data row2 col15\" >278</td>\n",
       "                        <td id=\"T_34d6b688_d260_11ea_b573_02420a394e7erow2_col16\" class=\"data row2 col16\" >220</td>\n",
       "            </tr>\n",
       "            <tr>\n",
       "                        <th id=\"T_34d6b688_d260_11ea_b573_02420a394e7elevel0_row3\" class=\"row_heading level0 row3\" >min</th>\n",
       "                        <td id=\"T_34d6b688_d260_11ea_b573_02420a394e7erow3_col0\" class=\"data row3 col0\" >0</td>\n",
       "                        <td id=\"T_34d6b688_d260_11ea_b573_02420a394e7erow3_col1\" class=\"data row3 col1\" >12,190</td>\n",
       "                        <td id=\"T_34d6b688_d260_11ea_b573_02420a394e7erow3_col2\" class=\"data row3 col2\" >12</td>\n",
       "                        <td id=\"T_34d6b688_d260_11ea_b573_02420a394e7erow3_col3\" class=\"data row3 col3\" >0</td>\n",
       "                        <td id=\"T_34d6b688_d260_11ea_b573_02420a394e7erow3_col4\" class=\"data row3 col4\" >1</td>\n",
       "                        <td id=\"T_34d6b688_d260_11ea_b573_02420a394e7erow3_col5\" class=\"data row3 col5\" >1</td>\n",
       "                        <td id=\"T_34d6b688_d260_11ea_b573_02420a394e7erow3_col6\" class=\"data row3 col6\" >2</td>\n",
       "                        <td id=\"T_34d6b688_d260_11ea_b573_02420a394e7erow3_col7\" class=\"data row3 col7\" >1</td>\n",
       "                        <td id=\"T_34d6b688_d260_11ea_b573_02420a394e7erow3_col8\" class=\"data row3 col8\" >1</td>\n",
       "                        <td id=\"T_34d6b688_d260_11ea_b573_02420a394e7erow3_col9\" class=\"data row3 col9\" >0</td>\n",
       "                        <td id=\"T_34d6b688_d260_11ea_b573_02420a394e7erow3_col10\" class=\"data row3 col10\" >0</td>\n",
       "                        <td id=\"T_34d6b688_d260_11ea_b573_02420a394e7erow3_col11\" class=\"data row3 col11\" >181</td>\n",
       "                        <td id=\"T_34d6b688_d260_11ea_b573_02420a394e7erow3_col12\" class=\"data row3 col12\" >0</td>\n",
       "                        <td id=\"T_34d6b688_d260_11ea_b573_02420a394e7erow3_col13\" class=\"data row3 col13\" >1</td>\n",
       "                        <td id=\"T_34d6b688_d260_11ea_b573_02420a394e7erow3_col14\" class=\"data row3 col14\" >0</td>\n",
       "                        <td id=\"T_34d6b688_d260_11ea_b573_02420a394e7erow3_col15\" class=\"data row3 col15\" >13</td>\n",
       "                        <td id=\"T_34d6b688_d260_11ea_b573_02420a394e7erow3_col16\" class=\"data row3 col16\" >1</td>\n",
       "            </tr>\n",
       "            <tr>\n",
       "                        <th id=\"T_34d6b688_d260_11ea_b573_02420a394e7elevel0_row4\" class=\"row_heading level0 row4\" >25%</th>\n",
       "                        <td id=\"T_34d6b688_d260_11ea_b573_02420a394e7erow4_col0\" class=\"data row4 col0\" >6</td>\n",
       "                        <td id=\"T_34d6b688_d260_11ea_b573_02420a394e7erow4_col1\" class=\"data row4 col1\" >3,400,000</td>\n",
       "                        <td id=\"T_34d6b688_d260_11ea_b573_02420a394e7erow4_col2\" class=\"data row4 col2\" >40</td>\n",
       "                        <td id=\"T_34d6b688_d260_11ea_b573_02420a394e7erow4_col3\" class=\"data row4 col3\" >1</td>\n",
       "                        <td id=\"T_34d6b688_d260_11ea_b573_02420a394e7erow4_col4\" class=\"data row4 col4\" >3</td>\n",
       "                        <td id=\"T_34d6b688_d260_11ea_b573_02420a394e7erow4_col5\" class=\"data row4 col5\" >5</td>\n",
       "                        <td id=\"T_34d6b688_d260_11ea_b573_02420a394e7erow4_col6\" class=\"data row4 col6\" >19</td>\n",
       "                        <td id=\"T_34d6b688_d260_11ea_b573_02420a394e7erow4_col7\" class=\"data row4 col7\" >2</td>\n",
       "                        <td id=\"T_34d6b688_d260_11ea_b573_02420a394e7erow4_col8\" class=\"data row4 col8\" >7</td>\n",
       "                        <td id=\"T_34d6b688_d260_11ea_b573_02420a394e7erow4_col9\" class=\"data row4 col9\" >0</td>\n",
       "                        <td id=\"T_34d6b688_d260_11ea_b573_02420a394e7erow4_col10\" class=\"data row4 col10\" >18,585</td>\n",
       "                        <td id=\"T_34d6b688_d260_11ea_b573_02420a394e7erow4_col11\" class=\"data row4 col11\" >9,238</td>\n",
       "                        <td id=\"T_34d6b688_d260_11ea_b573_02420a394e7erow4_col12\" class=\"data row4 col12\" >0</td>\n",
       "                        <td id=\"T_34d6b688_d260_11ea_b573_02420a394e7erow4_col13\" class=\"data row4 col13\" >288</td>\n",
       "                        <td id=\"T_34d6b688_d260_11ea_b573_02420a394e7erow4_col14\" class=\"data row4 col14\" >0</td>\n",
       "                        <td id=\"T_34d6b688_d260_11ea_b573_02420a394e7erow4_col15\" class=\"data row4 col15\" >294</td>\n",
       "                        <td id=\"T_34d6b688_d260_11ea_b573_02420a394e7erow4_col16\" class=\"data row4 col16\" >45</td>\n",
       "            </tr>\n",
       "            <tr>\n",
       "                        <th id=\"T_34d6b688_d260_11ea_b573_02420a394e7elevel0_row5\" class=\"row_heading level0 row5\" >50%</th>\n",
       "                        <td id=\"T_34d6b688_d260_11ea_b573_02420a394e7erow5_col0\" class=\"data row5 col0\" >9</td>\n",
       "                        <td id=\"T_34d6b688_d260_11ea_b573_02420a394e7erow5_col1\" class=\"data row5 col1\" >4,650,000</td>\n",
       "                        <td id=\"T_34d6b688_d260_11ea_b573_02420a394e7erow5_col2\" class=\"data row5 col2\" >52</td>\n",
       "                        <td id=\"T_34d6b688_d260_11ea_b573_02420a394e7erow5_col3\" class=\"data row5 col3\" >2</td>\n",
       "                        <td id=\"T_34d6b688_d260_11ea_b573_02420a394e7erow5_col4\" class=\"data row5 col4\" >3</td>\n",
       "                        <td id=\"T_34d6b688_d260_11ea_b573_02420a394e7erow5_col5\" class=\"data row5 col5\" >9</td>\n",
       "                        <td id=\"T_34d6b688_d260_11ea_b573_02420a394e7erow5_col6\" class=\"data row5 col6\" >30</td>\n",
       "                        <td id=\"T_34d6b688_d260_11ea_b573_02420a394e7erow5_col7\" class=\"data row5 col7\" >4</td>\n",
       "                        <td id=\"T_34d6b688_d260_11ea_b573_02420a394e7erow5_col8\" class=\"data row5 col8\" >9</td>\n",
       "                        <td id=\"T_34d6b688_d260_11ea_b573_02420a394e7erow5_col9\" class=\"data row5 col9\" >1</td>\n",
       "                        <td id=\"T_34d6b688_d260_11ea_b573_02420a394e7erow5_col10\" class=\"data row5 col10\" >26,726</td>\n",
       "                        <td id=\"T_34d6b688_d260_11ea_b573_02420a394e7erow5_col11\" class=\"data row5 col11\" >13,098</td>\n",
       "                        <td id=\"T_34d6b688_d260_11ea_b573_02420a394e7erow5_col12\" class=\"data row5 col12\" >0</td>\n",
       "                        <td id=\"T_34d6b688_d260_11ea_b573_02420a394e7erow5_col13\" class=\"data row5 col13\" >455</td>\n",
       "                        <td id=\"T_34d6b688_d260_11ea_b573_02420a394e7erow5_col14\" class=\"data row5 col14\" >1</td>\n",
       "                        <td id=\"T_34d6b688_d260_11ea_b573_02420a394e7erow5_col15\" class=\"data row5 col15\" >502</td>\n",
       "                        <td id=\"T_34d6b688_d260_11ea_b573_02420a394e7erow5_col16\" class=\"data row5 col16\" >95</td>\n",
       "            </tr>\n",
       "            <tr>\n",
       "                        <th id=\"T_34d6b688_d260_11ea_b573_02420a394e7elevel0_row6\" class=\"row_heading level0 row6\" >75%</th>\n",
       "                        <td id=\"T_34d6b688_d260_11ea_b573_02420a394e7erow6_col0\" class=\"data row6 col0\" >14</td>\n",
       "                        <td id=\"T_34d6b688_d260_11ea_b573_02420a394e7erow6_col1\" class=\"data row6 col1\" >6,800,000</td>\n",
       "                        <td id=\"T_34d6b688_d260_11ea_b573_02420a394e7erow6_col2\" class=\"data row6 col2\" >70</td>\n",
       "                        <td id=\"T_34d6b688_d260_11ea_b573_02420a394e7erow6_col3\" class=\"data row6 col3\" >3</td>\n",
       "                        <td id=\"T_34d6b688_d260_11ea_b573_02420a394e7erow6_col4\" class=\"data row6 col4\" >3</td>\n",
       "                        <td id=\"T_34d6b688_d260_11ea_b573_02420a394e7erow6_col5\" class=\"data row6 col5\" >16</td>\n",
       "                        <td id=\"T_34d6b688_d260_11ea_b573_02420a394e7erow6_col6\" class=\"data row6 col6\" >42</td>\n",
       "                        <td id=\"T_34d6b688_d260_11ea_b573_02420a394e7erow6_col7\" class=\"data row6 col7\" >8</td>\n",
       "                        <td id=\"T_34d6b688_d260_11ea_b573_02420a394e7erow6_col8\" class=\"data row6 col8\" >12</td>\n",
       "                        <td id=\"T_34d6b688_d260_11ea_b573_02420a394e7erow6_col9\" class=\"data row6 col9\" >2</td>\n",
       "                        <td id=\"T_34d6b688_d260_11ea_b573_02420a394e7erow6_col10\" class=\"data row6 col10\" >37,273</td>\n",
       "                        <td id=\"T_34d6b688_d260_11ea_b573_02420a394e7erow6_col11\" class=\"data row6 col11\" >16,293</td>\n",
       "                        <td id=\"T_34d6b688_d260_11ea_b573_02420a394e7erow6_col12\" class=\"data row6 col12\" >1</td>\n",
       "                        <td id=\"T_34d6b688_d260_11ea_b573_02420a394e7erow6_col13\" class=\"data row6 col13\" >612</td>\n",
       "                        <td id=\"T_34d6b688_d260_11ea_b573_02420a394e7erow6_col14\" class=\"data row6 col14\" >1</td>\n",
       "                        <td id=\"T_34d6b688_d260_11ea_b573_02420a394e7erow6_col15\" class=\"data row6 col15\" >729</td>\n",
       "                        <td id=\"T_34d6b688_d260_11ea_b573_02420a394e7erow6_col16\" class=\"data row6 col16\" >232</td>\n",
       "            </tr>\n",
       "            <tr>\n",
       "                        <th id=\"T_34d6b688_d260_11ea_b573_02420a394e7elevel0_row7\" class=\"row_heading level0 row7\" >max</th>\n",
       "                        <td id=\"T_34d6b688_d260_11ea_b573_02420a394e7erow7_col0\" class=\"data row7 col0\" >50</td>\n",
       "                        <td id=\"T_34d6b688_d260_11ea_b573_02420a394e7erow7_col1\" class=\"data row7 col1\" >763,000,000</td>\n",
       "                        <td id=\"T_34d6b688_d260_11ea_b573_02420a394e7erow7_col2\" class=\"data row7 col2\" >900</td>\n",
       "                        <td id=\"T_34d6b688_d260_11ea_b573_02420a394e7erow7_col3\" class=\"data row7 col3\" >19</td>\n",
       "                        <td id=\"T_34d6b688_d260_11ea_b573_02420a394e7erow7_col4\" class=\"data row7 col4\" >100</td>\n",
       "                        <td id=\"T_34d6b688_d260_11ea_b573_02420a394e7erow7_col5\" class=\"data row7 col5\" >60</td>\n",
       "                        <td id=\"T_34d6b688_d260_11ea_b573_02420a394e7erow7_col6\" class=\"data row7 col6\" >410</td>\n",
       "                        <td id=\"T_34d6b688_d260_11ea_b573_02420a394e7erow7_col7\" class=\"data row7 col7\" >33</td>\n",
       "                        <td id=\"T_34d6b688_d260_11ea_b573_02420a394e7erow7_col8\" class=\"data row7 col8\" >112</td>\n",
       "                        <td id=\"T_34d6b688_d260_11ea_b573_02420a394e7erow7_col9\" class=\"data row7 col9\" >5</td>\n",
       "                        <td id=\"T_34d6b688_d260_11ea_b573_02420a394e7erow7_col10\" class=\"data row7 col10\" >84,869</td>\n",
       "                        <td id=\"T_34d6b688_d260_11ea_b573_02420a394e7erow7_col11\" class=\"data row7 col11\" >65,968</td>\n",
       "                        <td id=\"T_34d6b688_d260_11ea_b573_02420a394e7erow7_col12\" class=\"data row7 col12\" >3</td>\n",
       "                        <td id=\"T_34d6b688_d260_11ea_b573_02420a394e7erow7_col13\" class=\"data row7 col13\" >3,190</td>\n",
       "                        <td id=\"T_34d6b688_d260_11ea_b573_02420a394e7erow7_col14\" class=\"data row7 col14\" >3</td>\n",
       "                        <td id=\"T_34d6b688_d260_11ea_b573_02420a394e7erow7_col15\" class=\"data row7 col15\" >1,344</td>\n",
       "                        <td id=\"T_34d6b688_d260_11ea_b573_02420a394e7erow7_col16\" class=\"data row7 col16\" >1,580</td>\n",
       "            </tr>\n",
       "    </tbody></table>"
      ],
      "text/plain": [
       "<pandas.io.formats.style.Styler at 0x7f532d91f5d0>"
      ]
     },
     "execution_count": 3,
     "metadata": {},
     "output_type": "execute_result"
    }
   ],
   "source": [
    "df.describe().style.format('{:,.0f}')"
   ]
  },
  {
   "cell_type": "markdown",
   "metadata": {},
   "source": [
    "Видим аномальные значения в колонках. Минимальная last_price: 12190 рублей - слишком мало для квартиры. rooms: 0 комнат - тоже странно. ceiling_height: от 1 метра до 100 метров - нужно будет посмотреть внимально на такой нечеловеческий размах. living_area - 2 метра подойдет только собачке."
   ]
  },
  {
   "cell_type": "markdown",
   "metadata": {},
   "source": [
    "### Вывод"
   ]
  },
  {
   "cell_type": "markdown",
   "metadata": {},
   "source": [
    "На первом шаге загрузили набор данных и обнаружили множество пропусков, необходимость привести ряд числовых показателей к целочисленным, строки в дату, признаки к булевым, а названия городов к категориям. При этом мы обратили внимание на аномальные граничные значения по ряду колонок, нужно будет их обработать."
   ]
  },
  {
   "cell_type": "markdown",
   "metadata": {},
   "source": [
    "## Предобработка данных <a name=\"2\"></a>"
   ]
  },
  {
   "cell_type": "markdown",
   "metadata": {},
   "source": [
    "### Обработка пропусков <a name=\"2_1\"></a>"
   ]
  },
  {
   "cell_type": "markdown",
   "metadata": {},
   "source": [
    "Выведем сколько пропусков."
   ]
  },
  {
   "cell_type": "code",
   "execution_count": 4,
   "metadata": {},
   "outputs": [
    {
     "data": {
      "text/plain": [
       "total_images                0\n",
       "last_price                  0\n",
       "total_area                  0\n",
       "first_day_exposition        0\n",
       "rooms                       0\n",
       "ceiling_height           9195\n",
       "floors_total               86\n",
       "living_area              1903\n",
       "floor                       0\n",
       "is_apartment            20924\n",
       "studio                      0\n",
       "open_plan                   0\n",
       "kitchen_area             2278\n",
       "balcony                 11519\n",
       "locality_name              49\n",
       "airports_nearest         5542\n",
       "cityCenters_nearest      5519\n",
       "parks_around3000         5518\n",
       "parks_nearest           15620\n",
       "ponds_around3000         5518\n",
       "ponds_nearest           14589\n",
       "days_exposition          3181\n",
       "dtype: int64"
      ]
     },
     "execution_count": 4,
     "metadata": {},
     "output_type": "execute_result"
    }
   ],
   "source": [
    "df.isnull().sum()"
   ]
  },
  {
   "cell_type": "markdown",
   "metadata": {},
   "source": [
    "Заменим медианами высоту потолков и количество этажей. Причем когда текущий этаж больше количества этажей в здании, то за количество этажей возьмем текущий этаж.\n",
    "\n",
    "Если пропущен признак апартаментов, то будем считать их жилым фондом.\n",
    "\n",
    "Пропуски в количестве балконов будем трактовать как их отсутствие.\n",
    "\n",
    "Записи, в которых не указан город, удалим. Их мало и без этих ключевых сведений нет смыла производить анализ.\n",
    "\n",
    "Удаленность от парков и прудов будем заполнять максимальным значением в случае пропуска. А количество на расстоянии 3 км нулями.\n",
    "\n",
    "Если дни выставки не указаны, то будет считать, что это новое объявление.\n",
    "\n",
    "Если количество комнат 0, то это пропуск, заменим его единицей.\n",
    "\n",
    "Посмотрим, нельзя ли востановить медианными значениями расстояния до центра и аэропорта сгруппированными по населенным пунктам. Отдельно посчитаем медианы для не Санкт-Петербурга."
   ]
  },
  {
   "cell_type": "code",
   "execution_count": 5,
   "metadata": {},
   "outputs": [
    {
     "name": "stdout",
     "output_type": "stream",
     "text": [
      "\n",
      " МЕДИАННЫЕ РАССТОЯНИЯ ДЛЯ НАСЕЛЕННЫХ ПУНКТОВ\n",
      "                         airports_nearest  cityCenters_nearest\n",
      "locality_name                                                 \n",
      "Зеленогорск                       72282.0              53381.0\n",
      "Колпино                           26232.0              32018.0\n",
      "Красное Село                      25715.5              29140.5\n",
      "Кронштадт                         67850.0              49575.0\n",
      "Ломоносов                         48415.5              51677.0\n",
      "Павловск                          20529.5              32683.0\n",
      "Петергоф                          39231.0              33771.0\n",
      "Пушкин                            15766.0              27930.5\n",
      "Санкт-Петербург                   26757.5              12244.5\n",
      "Сестрорецк                        56692.0              34821.0\n",
      "поселок Лисий Нос                 55930.0              28246.0\n",
      "поселок Мурино                    51553.0              21888.0\n",
      "посёлок Александровская           12896.5              27468.0\n",
      "посёлок Белоостров                57769.0              38868.0\n",
      "посёлок Левашово                  52693.0              25727.0\n",
      "посёлок Лисий Нос                 54988.5              27297.0\n",
      "посёлок Металлострой              25758.0              27602.0\n",
      "посёлок Молодёжное                84665.0              65764.0\n",
      "посёлок Парголово                 53426.0              19311.0\n",
      "посёлок Песочный                  54831.5              26099.5\n",
      "посёлок Петро-Славянка            20605.0              27165.0\n",
      "посёлок Понтонный                 30642.0              32354.0\n",
      "посёлок Репино                    61797.5              42896.5\n",
      "посёлок Сапёрный                  34147.5              35859.5\n",
      "посёлок Стрельна                  28317.0              23506.0\n",
      "посёлок Усть-Ижора                26510.5              28222.5\n",
      "посёлок Шушары                    17427.0              24212.0\n",
      "посёлок Щеглово                   61908.0              34085.0\n",
      "\n",
      " МЕДИАННЫЕ РАССТОЯНИЯ ВНЕ САНКТ-ПЕТЕРБУРГА\n",
      "airports_nearest       26599.0\n",
      "cityCenters_nearest    30308.5\n",
      "dtype: float64\n",
      "\n",
      " КОЛИЧЕСТВО УНИКАЛЬНЫХ НАСЕЛЕННЫХ ПУНКТОВ: 364\n"
     ]
    }
   ],
   "source": [
    "print('\\n','Медианные расстояния для населенных пунктов'.upper())\n",
    "print(df[['airports_nearest', 'cityCenters_nearest', 'locality_name']] \\\n",
    ".groupby(by='locality_name') \\\n",
    ".median() \\\n",
    ".dropna()\n",
    "     )\n",
    "print('\\n', 'Медианные расстояния вне Санкт-Петербурга'.upper())\n",
    "print(df[df['locality_name'] != 'Санкт-Петербург'][['airports_nearest', 'cityCenters_nearest']].median())\n",
    "\n",
    "print('\\n', 'Количество уникальных населенных пунктов:'.upper(), df['locality_name'].nunique())"
   ]
  },
  {
   "cell_type": "markdown",
   "metadata": {},
   "source": [
    "Видим, что количество данных по расстояниям, которые мы можем восстановить по населенному пункту мало в сравнении с общим количеством населенных пунктов. Поэтому восстановим, что получится, а остальное заполним медианами вне Санкт-Петербурга."
   ]
  },
  {
   "cell_type": "code",
   "execution_count": 6,
   "metadata": {},
   "outputs": [
    {
     "data": {
      "text/plain": [
       "total_images            0\n",
       "last_price              0\n",
       "total_area              0\n",
       "first_day_exposition    0\n",
       "rooms                   0\n",
       "ceiling_height          0\n",
       "floors_total            0\n",
       "living_area             0\n",
       "floor                   0\n",
       "is_apartment            0\n",
       "studio                  0\n",
       "open_plan               0\n",
       "kitchen_area            0\n",
       "balcony                 0\n",
       "locality_name           0\n",
       "airports_nearest        0\n",
       "cityCenters_nearest     0\n",
       "parks_around3000        0\n",
       "parks_nearest           0\n",
       "ponds_around3000        0\n",
       "ponds_nearest           0\n",
       "days_exposition         0\n",
       "dtype: int64"
      ]
     },
     "execution_count": 6,
     "metadata": {},
     "output_type": "execute_result"
    }
   ],
   "source": [
    "def fillna_median(data, group, col_list):\n",
    "    col_list.append(group)\n",
    "    upd = data[col_list]\n",
    "    upd = upd.join(upd.groupby(group).median().dropna(), on=group, rsuffix='_')\n",
    "    for col in col_list[:-1]:\n",
    "        data[col].fillna(upd[col + '_'], inplace=True)\n",
    "    del upd\n",
    "\n",
    "    \n",
    "for column in ['ceiling_height', 'floors_total']:\n",
    "    df[column].fillna(df[column].median(), inplace=True)\n",
    "\n",
    "df.loc[df['floors_total'] < df['floor'], 'floors_total'] = df['floor']\n",
    "    \n",
    "df.loc[df['rooms']==0, 'rooms'] = 1    \n",
    "    \n",
    "fillna_median(df, 'rooms', ['kitchen_area', 'living_area'])\n",
    "fillna_median(df, 'locality_name', ['airports_nearest', 'cityCenters_nearest'])\n",
    "\n",
    "df['airports_nearest'].fillna(26186.0, inplace=True)\n",
    "df['cityCenters_nearest'].fillna(29936.0, inplace=True)\n",
    "\n",
    "for column in ['parks_around3000', \n",
    "               'ponds_around3000',\n",
    "               'balcony', \n",
    "               'days_exposition']:\n",
    "    df[column].fillna(0, inplace=True)\n",
    "    \n",
    "df['parks_nearest'].fillna(df['parks_nearest'].max(), inplace=True)\n",
    "df['ponds_nearest'].fillna(df['ponds_nearest'].max(), inplace=True)\n",
    "df['is_apartment'].fillna(False, inplace=True)\n",
    "\n",
    "df = df.dropna(subset=['locality_name'])\n",
    "\n",
    "df.isnull().sum()"
   ]
  },
  {
   "cell_type": "markdown",
   "metadata": {},
   "source": [
    "Пропусков не осталось."
   ]
  },
  {
   "cell_type": "markdown",
   "metadata": {},
   "source": [
    "### Изменение типов данных <a name=\"2_2\"></a>"
   ]
  },
  {
   "cell_type": "markdown",
   "metadata": {},
   "source": [
    "Типы до преобразований."
   ]
  },
  {
   "cell_type": "code",
   "execution_count": 7,
   "metadata": {},
   "outputs": [
    {
     "data": {
      "text/plain": [
       "total_images              int64\n",
       "last_price              float64\n",
       "total_area              float64\n",
       "first_day_exposition     object\n",
       "rooms                     int64\n",
       "ceiling_height          float64\n",
       "floors_total            float64\n",
       "living_area             float64\n",
       "floor                     int64\n",
       "is_apartment               bool\n",
       "studio                     bool\n",
       "open_plan                  bool\n",
       "kitchen_area            float64\n",
       "balcony                 float64\n",
       "locality_name            object\n",
       "airports_nearest        float64\n",
       "cityCenters_nearest     float64\n",
       "parks_around3000        float64\n",
       "parks_nearest           float64\n",
       "ponds_around3000        float64\n",
       "ponds_nearest           float64\n",
       "days_exposition         float64\n",
       "dtype: object"
      ]
     },
     "execution_count": 7,
     "metadata": {},
     "output_type": "execute_result"
    }
   ],
   "source": [
    "df.dtypes"
   ]
  },
  {
   "cell_type": "markdown",
   "metadata": {},
   "source": [
    "Максимальные значения, чтобы подобрать минимальный целочисленный тип."
   ]
  },
  {
   "cell_type": "code",
   "execution_count": 8,
   "metadata": {},
   "outputs": [
    {
     "data": {
      "text/plain": [
       "total_images                             50\n",
       "last_price                         7.63e+08\n",
       "total_area                              900\n",
       "first_day_exposition    2019-05-03T00:00:00\n",
       "rooms                                    19\n",
       "ceiling_height                          100\n",
       "floors_total                             60\n",
       "living_area                           409.7\n",
       "floor                                    33\n",
       "is_apartment                           True\n",
       "studio                                 True\n",
       "open_plan                              True\n",
       "kitchen_area                            112\n",
       "balcony                                   5\n",
       "locality_name                      село Шум\n",
       "airports_nearest                      84869\n",
       "cityCenters_nearest                   65968\n",
       "parks_around3000                          3\n",
       "parks_nearest                          3190\n",
       "ponds_around3000                          3\n",
       "ponds_nearest                          1344\n",
       "days_exposition                        1580\n",
       "dtype: object"
      ]
     },
     "execution_count": 8,
     "metadata": {},
     "output_type": "execute_result"
    }
   ],
   "source": [
    "df.max()"
   ]
  },
  {
   "cell_type": "markdown",
   "metadata": {},
   "source": [
    "Все численные показатели можно свести к целым безнаковым без особых потерь для аналитических целей, чтобы сократить использование оперативной памяти и скорость обработки данных. \n",
    "\n",
    "Для подобра будем использовать следующий список:\n",
    "* uint8\tUnsigned integer (0 to 255)\n",
    "* uint16\tUnsigned integer (0 to 65535)\n",
    "* uint32\tUnsigned integer (0 to 4294967295)\n",
    "\n",
    "locality_name - ограниченный список значений, переведем в категорию.\n",
    "first_day_exposition - в дату."
   ]
  },
  {
   "cell_type": "code",
   "execution_count": 9,
   "metadata": {},
   "outputs": [
    {
     "name": "stdout",
     "output_type": "stream",
     "text": [
      "<class 'pandas.core.frame.DataFrame'>\n",
      "Int64Index: 23650 entries, 0 to 23698\n",
      "Data columns (total 22 columns):\n",
      "total_images            23650 non-null uint8\n",
      "last_price              23650 non-null uint32\n",
      "total_area              23650 non-null uint16\n",
      "first_day_exposition    23650 non-null datetime64[ns]\n",
      "rooms                   23650 non-null uint8\n",
      "ceiling_height          23650 non-null uint8\n",
      "floors_total            23650 non-null uint8\n",
      "living_area             23650 non-null uint16\n",
      "floor                   23650 non-null uint8\n",
      "is_apartment            23650 non-null bool\n",
      "studio                  23650 non-null bool\n",
      "open_plan               23650 non-null bool\n",
      "kitchen_area            23650 non-null uint8\n",
      "balcony                 23650 non-null uint8\n",
      "locality_name           23650 non-null category\n",
      "airports_nearest        23650 non-null uint32\n",
      "cityCenters_nearest     23650 non-null uint32\n",
      "parks_around3000        23650 non-null uint8\n",
      "parks_nearest           23650 non-null uint16\n",
      "ponds_around3000        23650 non-null uint8\n",
      "ponds_nearest           23650 non-null uint16\n",
      "days_exposition         23650 non-null uint16\n",
      "dtypes: bool(3), category(1), datetime64[ns](1), uint16(5), uint32(3), uint8(9)\n",
      "memory usage: 1.2 MB\n"
     ]
    }
   ],
   "source": [
    "df = df.astype({'total_images': 'uint8',\n",
    "                'last_price': 'uint32',\n",
    "                'total_area': 'uint16',\n",
    "                'rooms': 'uint8',\n",
    "                'ceiling_height': 'uint8',\n",
    "                'floors_total': 'uint8',\n",
    "                'living_area': 'uint16',\n",
    "                'floor': 'uint8',\n",
    "                'kitchen_area': 'uint8',\n",
    "                'balcony': 'uint8',\n",
    "                'locality_name': 'category',\n",
    "                'airports_nearest': 'uint32',\n",
    "                'cityCenters_nearest': 'uint32',\n",
    "                'parks_around3000': 'uint8',\n",
    "                'parks_nearest': 'uint16',\n",
    "                'ponds_around3000': 'uint8',\n",
    "                'ponds_nearest': 'uint16',\n",
    "                'days_exposition': 'uint16'})\n",
    "df['first_day_exposition'] = pd.to_datetime(df['first_day_exposition'], format='%Y-%m-%d')\n",
    "df.info(memory_usage='deep')"
   ]
  },
  {
   "cell_type": "markdown",
   "metadata": {},
   "source": [
    "Использование памяти сократилось с 8.1 MB до 1.2 Мб."
   ]
  },
  {
   "cell_type": "markdown",
   "metadata": {},
   "source": [
    "### Обработка дублей <a name=\"2_3\"></a>"
   ]
  },
  {
   "cell_type": "code",
   "execution_count": 10,
   "metadata": {},
   "outputs": [
    {
     "data": {
      "text/plain": [
       "0"
      ]
     },
     "execution_count": 10,
     "metadata": {},
     "output_type": "execute_result"
    }
   ],
   "source": [
    "df.duplicated().sum()"
   ]
  },
  {
   "cell_type": "markdown",
   "metadata": {},
   "source": [
    " Полных дубликатов нет. Категориальное значение у нас только locality_name. Определим количество различных."
   ]
  },
  {
   "cell_type": "code",
   "execution_count": 11,
   "metadata": {},
   "outputs": [
    {
     "data": {
      "text/plain": [
       "364"
      ]
     },
     "execution_count": 11,
     "metadata": {},
     "output_type": "execute_result"
    }
   ],
   "source": [
    " df['locality_name'].nunique()"
   ]
  },
  {
   "cell_type": "markdown",
   "metadata": {},
   "source": [
    "Посмотрим какие различные слова встречаются и как часто."
   ]
  },
  {
   "cell_type": "code",
   "execution_count": 12,
   "metadata": {
    "scrolled": true
   },
   "outputs": [
    {
     "data": {
      "text/plain": [
       "{'Санкт-Петербург': 15721,\n",
       " 'посёлок': 2108,\n",
       " 'Шушары': 440,\n",
       " 'городской': 187,\n",
       " 'Янино-1': 68,\n",
       " 'Парголово': 327,\n",
       " 'Мурино': 590,\n",
       " 'Ломоносов': 133,\n",
       " 'Сертолово': 142,\n",
       " 'Петергоф': 201,\n",
       " 'Пушкин': 369,\n",
       " 'деревня': 945,\n",
       " 'Кудрово': 472,\n",
       " 'Коммунар': 89,\n",
       " 'Колпино': 338,\n",
       " 'поселок': 552,\n",
       " 'городского': 363,\n",
       " 'типа': 363,\n",
       " 'Красный': 8,\n",
       " 'Бор': 101,\n",
       " 'Гатчина': 307,\n",
       " 'Фёдоровское': 15,\n",
       " 'Выборг': 237,\n",
       " 'Кронштадт': 96,\n",
       " 'Кировск': 84,\n",
       " 'Новое': 144,\n",
       " 'Девяткино': 144,\n",
       " 'Металлострой': 66,\n",
       " 'Лебяжье': 15,\n",
       " 'Сиверский': 29,\n",
       " 'Молодцово': 9,\n",
       " 'Кузьмоловский': 35,\n",
       " 'садовое': 4,\n",
       " 'товарищество': 5,\n",
       " 'Новая': 15,\n",
       " 'Ропша': 2,\n",
       " 'Павловск': 38,\n",
       " 'Пикколово': 1,\n",
       " 'Всеволожск': 398,\n",
       " 'Волхов': 111,\n",
       " 'Кингисепп': 104,\n",
       " 'Приозерск': 66,\n",
       " 'Сестрорецк': 183,\n",
       " 'Куттузи': 7,\n",
       " 'Аннино': 16,\n",
       " 'Ефимовский': 3,\n",
       " 'Плодовое': 5,\n",
       " 'Заклинье': 3,\n",
       " 'Торковичи': 3,\n",
       " 'Первомайское': 8,\n",
       " 'Красное': 178,\n",
       " 'Село': 178,\n",
       " 'Понтонный': 20,\n",
       " 'Сясьстрой': 24,\n",
       " 'Старая': 72,\n",
       " 'Лесколово': 20,\n",
       " 'Новый': 28,\n",
       " 'Свет': 22,\n",
       " 'Сланцы': 112,\n",
       " 'село': 32,\n",
       " 'Путилово': 2,\n",
       " 'Ивангород': 28,\n",
       " 'Шлиссельбург': 57,\n",
       " 'Никольское': 94,\n",
       " 'Зеленогорск': 24,\n",
       " 'Сосновый': 87,\n",
       " 'Оржицы': 9,\n",
       " 'Кальтино': 7,\n",
       " 'Романовка': 37,\n",
       " 'Бугры': 114,\n",
       " 'Рощино': 39,\n",
       " 'Кириши': 125,\n",
       " 'Луга': 56,\n",
       " 'Волосово': 36,\n",
       " 'Отрадное': 80,\n",
       " 'Павлово': 18,\n",
       " 'Оредеж': 3,\n",
       " 'Копорье': 5,\n",
       " 'Молодёжное': 5,\n",
       " 'Тихвин': 49,\n",
       " 'Победа': 6,\n",
       " 'Нурма': 11,\n",
       " 'Синявино': 21,\n",
       " 'Тосно': 104,\n",
       " 'Стрельна': 44,\n",
       " 'Бокситогорск': 16,\n",
       " 'Александровская': 2,\n",
       " 'Лопухинка': 6,\n",
       " 'Пикалёво': 18,\n",
       " 'Терволово': 6,\n",
       " 'Советский': 11,\n",
       " 'Подпорожье': 19,\n",
       " 'Петровское': 5,\n",
       " 'Токсово': 20,\n",
       " 'Сельцо': 9,\n",
       " 'Вырица': 22,\n",
       " 'Кипень': 7,\n",
       " 'Келози': 4,\n",
       " 'Вартемяги': 20,\n",
       " 'Тельмана': 41,\n",
       " 'Севастьяново': 1,\n",
       " 'Большая': 22,\n",
       " 'Ижора': 17,\n",
       " 'Агалатово': 4,\n",
       " 'Новогорелово': 20,\n",
       " 'Лесогорский': 5,\n",
       " 'Лаголово': 10,\n",
       " 'Цвелодубово': 4,\n",
       " 'Рахья': 16,\n",
       " 'Белогорка': 11,\n",
       " 'Заводской': 3,\n",
       " 'Новоселье': 28,\n",
       " 'Большие': 16,\n",
       " 'Колпаны': 23,\n",
       " 'Горбунки': 15,\n",
       " 'Батово': 9,\n",
       " 'Заневка': 6,\n",
       " 'Иссад': 1,\n",
       " 'Приморск': 8,\n",
       " 'Мистолово': 11,\n",
       " 'Ладога': 16,\n",
       " 'Зимитицы': 4,\n",
       " 'Барышево': 2,\n",
       " 'Разметелево': 4,\n",
       " 'имени': 53,\n",
       " 'Свердлова': 36,\n",
       " 'Пеники': 6,\n",
       " 'Рябово': 4,\n",
       " 'Пудомяги': 6,\n",
       " 'станции': 15,\n",
       " 'Корнево': 1,\n",
       " 'Низино': 10,\n",
       " 'Бегуницы': 19,\n",
       " 'Поляны': 6,\n",
       " 'Мга': 33,\n",
       " 'Елизаветино': 13,\n",
       " 'Кузнечное': 13,\n",
       " 'Колтуши': 11,\n",
       " 'Запорожское': 8,\n",
       " 'Гостилицы': 11,\n",
       " 'Малое': 20,\n",
       " 'Карлино': 9,\n",
       " 'Мичуринское': 11,\n",
       " 'Морозова': 17,\n",
       " 'Песочный': 4,\n",
       " 'Сосново': 18,\n",
       " 'Аро': 3,\n",
       " 'Ильичёво': 8,\n",
       " 'Тайцы': 6,\n",
       " 'Верево': 11,\n",
       " 'Извара': 7,\n",
       " 'Вещево': 5,\n",
       " 'Паша': 2,\n",
       " 'Калитино': 8,\n",
       " 'Ульяновка': 13,\n",
       " 'Чудской': 1,\n",
       " 'Дубровка': 15,\n",
       " 'Мины': 2,\n",
       " 'Войсковицы': 10,\n",
       " 'Коркино': 2,\n",
       " 'Приладожский': 10,\n",
       " 'Щеглово': 24,\n",
       " 'Гаврилово': 5,\n",
       " 'Лодейное': 20,\n",
       " 'Поле': 20,\n",
       " 'Рабитицы': 3,\n",
       " 'Никольский': 7,\n",
       " 'Кузьмолово': 7,\n",
       " 'Малые': 7,\n",
       " 'Петро-Славянка': 1,\n",
       " 'Назия': 17,\n",
       " 'Репино': 4,\n",
       " 'Углово': 7,\n",
       " 'Малукса': 4,\n",
       " 'Меньково': 1,\n",
       " 'Старые': 2,\n",
       " 'Сапёрный': 6,\n",
       " 'Семрино': 5,\n",
       " 'Глажево': 5,\n",
       " 'Кобринское': 6,\n",
       " 'Гарболово': 17,\n",
       " 'Юкки': 5,\n",
       " 'Приветнинское': 3,\n",
       " 'Мануйлово': 1,\n",
       " 'Пчева': 1,\n",
       " 'Цвылёво': 1,\n",
       " 'Мельниково': 5,\n",
       " 'Пудость': 9,\n",
       " 'Усть-Луга': 5,\n",
       " 'Светогорск': 11,\n",
       " 'Любань': 11,\n",
       " 'Селезнёво': 5,\n",
       " 'Каменногорск': 13,\n",
       " 'Кривко': 1,\n",
       " 'Глебычево': 3,\n",
       " 'Парицы': 4,\n",
       " 'Жилпосёлок': 1,\n",
       " 'Войскорово': 5,\n",
       " 'Стеклянный': 8,\n",
       " 'Важины': 6,\n",
       " 'Мыза-Ивановка': 1,\n",
       " 'Русско-Высоцкое': 9,\n",
       " 'Форносово': 6,\n",
       " 'Житково': 2,\n",
       " 'Виллози': 3,\n",
       " 'Лампово': 6,\n",
       " 'Шпаньково': 1,\n",
       " 'Лаврики': 1,\n",
       " 'Сумино': 2,\n",
       " 'Возрождение': 3,\n",
       " 'Старосиверская': 3,\n",
       " 'Кикерино': 4,\n",
       " 'Старое': 1,\n",
       " 'Хинколово': 1,\n",
       " 'Пригородный': 3,\n",
       " 'Торфяное': 4,\n",
       " 'Будогощь': 4,\n",
       " 'Суходолье': 8,\n",
       " 'Красная': 4,\n",
       " 'Долина': 3,\n",
       " 'Хапо-Ое': 1,\n",
       " 'Дружная': 5,\n",
       " 'Горка': 6,\n",
       " 'Лисий': 3,\n",
       " 'Нос': 3,\n",
       " 'Яльгелево': 6,\n",
       " 'Рождествено': 3,\n",
       " 'Старополье': 3,\n",
       " 'Левашово': 1,\n",
       " 'Сяськелево': 10,\n",
       " 'Камышовка': 2,\n",
       " 'садоводческое': 1,\n",
       " 'некоммерческое': 1,\n",
       " 'Лесная': 1,\n",
       " 'Поляна': 1,\n",
       " 'Хязельки': 1,\n",
       " 'Жилгородок': 3,\n",
       " 'Ялгино': 1,\n",
       " 'Учхоз': 6,\n",
       " 'Гончарово': 1,\n",
       " 'Почап': 1,\n",
       " 'Сапёрное': 2,\n",
       " 'Платформа': 1,\n",
       " '69-й': 1,\n",
       " 'километр': 1,\n",
       " 'Каложицы': 1,\n",
       " 'Фалилеево': 2,\n",
       " 'Пельгора': 1,\n",
       " 'Торошковичи': 3,\n",
       " 'Белоостров': 1,\n",
       " 'Алексеевка': 1,\n",
       " 'Серебрянский': 2,\n",
       " 'Лукаши': 3,\n",
       " 'Тарасово': 2,\n",
       " 'Кингисеппский': 2,\n",
       " 'при': 2,\n",
       " 'железнодорожной': 2,\n",
       " 'Ушаки': 6,\n",
       " 'Котлы': 1,\n",
       " 'Сижно': 1,\n",
       " 'Торосово': 3,\n",
       " 'Форт': 1,\n",
       " 'Новолисино': 1,\n",
       " 'Громово': 6,\n",
       " 'Глинка': 2,\n",
       " 'Пустошь': 2,\n",
       " 'Коммунары': 1,\n",
       " 'Починок': 2,\n",
       " 'Вознесенье': 2,\n",
       " 'Разбегаево': 4,\n",
       " 'Гладкое': 1,\n",
       " 'Тёсово-4': 1,\n",
       " 'Коробицыно': 2,\n",
       " 'Вруда': 4,\n",
       " 'Курковицы': 1,\n",
       " 'Кобралово': 9,\n",
       " 'Суоранда': 2,\n",
       " 'Кондратьево': 1,\n",
       " 'коттеджный': 3,\n",
       " 'Счастье': 1,\n",
       " 'Реброво': 1,\n",
       " 'Тойворово': 1,\n",
       " 'Семиозерье': 1,\n",
       " 'Лесное': 3,\n",
       " 'Совхозный': 2,\n",
       " 'Ленинское': 2,\n",
       " 'Суйда': 4,\n",
       " 'Нижние': 1,\n",
       " 'Осельки': 1,\n",
       " 'Свирь': 2,\n",
       " 'Перово': 4,\n",
       " 'Высоцк': 4,\n",
       " 'Шум': 1,\n",
       " 'Котельский': 3,\n",
       " 'Лужайка': 1,\n",
       " 'Пустомержа': 1,\n",
       " 'Красносельское': 1,\n",
       " 'Вахнова': 1,\n",
       " 'Кара': 1,\n",
       " 'Пижма': 1,\n",
       " 'Кивеннапа': 1,\n",
       " 'Север': 1,\n",
       " 'Ромашки': 1,\n",
       " 'Каськово': 1,\n",
       " 'Куровицы': 1,\n",
       " 'Плоское': 1,\n",
       " 'Кирпичное': 1,\n",
       " 'Ям-Тесово': 2,\n",
       " 'Раздолье': 1,\n",
       " 'Терпилицы': 1,\n",
       " 'Шугозеро': 1,\n",
       " 'Ваганово': 3,\n",
       " 'Пушное': 2,\n",
       " 'Садко': 1,\n",
       " 'Усть-Ижора': 2,\n",
       " 'Выскатка': 2,\n",
       " 'Свирьстрой': 1,\n",
       " 'Кисельня': 1,\n",
       " 'Трубников': 1,\n",
       " 'Высокоключевой': 1,\n",
       " 'Пансионат': 2,\n",
       " 'Зелёный': 2,\n",
       " 'Ненимяки': 2,\n",
       " 'Снегирёвка': 1,\n",
       " 'Рапполово': 1,\n",
       " 'Пустынка': 1,\n",
       " 'Большой': 1,\n",
       " 'Сабск': 1,\n",
       " 'Русско': 1,\n",
       " 'Лупполово': 1,\n",
       " 'Большое': 1,\n",
       " 'Рейзино': 1,\n",
       " 'Малая': 1,\n",
       " 'Дружноселье': 1,\n",
       " 'Пчевжа': 1,\n",
       " 'Володарское': 1,\n",
       " 'Нижняя': 1,\n",
       " 'Тихковицы': 1,\n",
       " 'Борисова': 1,\n",
       " 'Грива': 1,\n",
       " 'Дзержинского': 1}"
      ]
     },
     "execution_count": 12,
     "metadata": {},
     "output_type": "execute_result"
    }
   ],
   "source": [
    "from collections import Counter\n",
    "\n",
    "def count_words(row):\n",
    "    global cnt\n",
    "    words = row['locality_name'].split()\n",
    "    i = 0\n",
    "    while i < len(words):\n",
    "        word = words[i]\n",
    "        cnt[word] += 1\n",
    "        i += 1\n",
    "\n",
    "        \n",
    "cnt = Counter()\n",
    "df.apply(count_words, axis=1)\n",
    "words = dict(cnt)\n",
    "words"
   ]
  },
  {
   "cell_type": "markdown",
   "metadata": {},
   "source": [
    "Чтобы выявить дубли лемматизируем названия населенных пунктов, но уберем слова обозначающий тип населенного пункта:\n",
    "   * поселок\n",
    "   * деревня\n",
    "   * городской\n",
    "   * тип\n",
    "   * пансионат\n",
    "   * коттеджный\n",
    "   * товарищество\n",
    "   * садовый\n",
    "   * при\n",
    "   * железнодорожный\n",
    "   * село\n",
    "   * садоводческий\n",
    "   * некоммерческий"
   ]
  },
  {
   "cell_type": "code",
   "execution_count": 13,
   "metadata": {
    "scrolled": false
   },
   "outputs": [
    {
     "data": {
      "text/plain": [
       "306"
      ]
     },
     "execution_count": 13,
     "metadata": {},
     "output_type": "execute_result"
    }
   ],
   "source": [
    "from pymystem3 import Mystem\n",
    "\n",
    "def lemmatize(row):\n",
    "    global cnt\n",
    "    global exceptions\n",
    "    # Сначало разберем строку на слова и уберем лишнее.\n",
    "    words = row['locality_name'].split()\n",
    "    i = 0\n",
    "    while i < len(words):\n",
    "        word = words[i]\n",
    "        lemma = m.lemmatize(word)\n",
    "        lemma.pop()\n",
    "        if not (lemma[0] in exceptions):\n",
    "            cnt[word] += 1\n",
    "            i += 1\n",
    "        else:        \n",
    "            words.remove(word)\n",
    "    #  Потом соберем обратно, что получилось.\n",
    "    words[0] = words[0].title()\n",
    "    result = ' '.join(words)\n",
    "    return result\n",
    "\n",
    "\n",
    "exceptions = [\n",
    "    ' ',\n",
    "    '-',\n",
    "    'поселок',\n",
    "    'деревня',\n",
    "    'городской',\n",
    "    'тип',\n",
    "    'пансионат',\n",
    "    'коттеджный',\n",
    "    'товарищество',\n",
    "    'садовый',\n",
    "    'при',\n",
    "    'железнодорожный',\n",
    "    'село',\n",
    "    'садоводческий',\n",
    "    'некоммерческий']\n",
    "\n",
    "cnt = Counter()\n",
    "m = Mystem()\n",
    "\n",
    "df['locality_name'] = df.apply(lemmatize, axis=1)\n",
    "df['locality_name'].nunique()"
   ]
  },
  {
   "cell_type": "markdown",
   "metadata": {},
   "source": [
    "Таким образом мы устранили 364 - 306 = 58 дублей в названиях."
   ]
  },
  {
   "cell_type": "markdown",
   "metadata": {},
   "source": [
    "### Вывод"
   ]
  },
  {
   "cell_type": "markdown",
   "metadata": {},
   "source": [
    "Мы подготовили таблицу к дальнейшему анализу: обработали пропуски, изменили типы данных, устранили дубли."
   ]
  },
  {
   "cell_type": "markdown",
   "metadata": {},
   "source": [
    "## Добавление новых колонок <a name=\"3\"></a>"
   ]
  },
  {
   "cell_type": "markdown",
   "metadata": {},
   "source": [
    "Добавим:\n",
    "* цену квадратного метра;\n",
    "* день недели, месяц и год публикации объявления;\n",
    "* этаж квартиры; варианты — первый, последний, другой;\n",
    "* соотношение жилой и общей площади,\n",
    "* отношение площади кухни к общей.\n",
    "\n",
    "Новым колонки приведем к минимальным типам, показатель этажа к категории."
   ]
  },
  {
   "cell_type": "code",
   "execution_count": 14,
   "metadata": {},
   "outputs": [],
   "source": [
    "def floorclassifier(row):\n",
    "    if row['floor'] == 1:\n",
    "        return 'Первый'\n",
    "    elif row['floor'] == row['floors_total']:\n",
    "        return 'Последний'\n",
    "    else:\n",
    "        return 'Другой'\n",
    "        \n",
    "        \n",
    "df['area_price'] = df['last_price'] // df['total_area']\n",
    "\n",
    "df['weekday'] = df['first_day_exposition'].dt.weekday\n",
    "df['month'] = df['first_day_exposition'].dt.month\n",
    "df['year'] = df['first_day_exposition'].dt.year\n",
    "\n",
    "df['living_ratio'] = df['living_area'] / df['total_area']\n",
    "df['kitchen_ratio'] = df['kitchen_area'] / df['total_area']\n",
    "\n",
    "df['floor_type'] = df.apply(floorclassifier, axis=1)\n",
    "\n",
    "df = df.astype({'floor_type':'category',\n",
    "                'area_price': 'uint32',\n",
    "                'weekday': 'uint8',\n",
    "                'month': 'uint8',\n",
    "                'year': 'uint16',\n",
    "               })"
   ]
  },
  {
   "cell_type": "markdown",
   "metadata": {},
   "source": [
    "### Вывод"
   ]
  },
  {
   "cell_type": "markdown",
   "metadata": {},
   "source": [
    "Добавили колонки для дальнейшего анализа."
   ]
  },
  {
   "cell_type": "markdown",
   "metadata": {},
   "source": [
    "## Исследовательский анализ данных <a name=\"4\"></a>"
   ]
  },
  {
   "cell_type": "markdown",
   "metadata": {},
   "source": [
    "### Общие статистические характеристики и графики <a name=\"4_1\"></a>"
   ]
  },
  {
   "cell_type": "markdown",
   "metadata": {},
   "source": [
    "Изучим параметры: площадь, цена, число комнат, высота потолков, - и построим их гистограммы."
   ]
  },
  {
   "cell_type": "code",
   "execution_count": 15,
   "metadata": {
    "scrolled": true
   },
   "outputs": [
    {
     "data": {
      "text/html": [
       "<style  type=\"text/css\" >\n",
       "    #T_3fba43ee_d260_11ea_b573_02420a394e7e caption {\n",
       "          text-align: left;\n",
       "          font-size: 150%;\n",
       "          color: black;\n",
       "    }</style><table id=\"T_3fba43ee_d260_11ea_b573_02420a394e7e\" ><caption>Общие статистические характеристики</caption><thead>    <tr>        <th class=\"blank level0\" ></th>        <th class=\"col_heading level0 col0\" >total_area</th>        <th class=\"col_heading level0 col1\" >last_price</th>        <th class=\"col_heading level0 col2\" >rooms</th>        <th class=\"col_heading level0 col3\" >ceiling_height</th>    </tr></thead><tbody>\n",
       "                <tr>\n",
       "                        <th id=\"T_3fba43ee_d260_11ea_b573_02420a394e7elevel0_row0\" class=\"row_heading level0 row0\" >count</th>\n",
       "                        <td id=\"T_3fba43ee_d260_11ea_b573_02420a394e7erow0_col0\" class=\"data row0 col0\" >23,650</td>\n",
       "                        <td id=\"T_3fba43ee_d260_11ea_b573_02420a394e7erow0_col1\" class=\"data row0 col1\" >23,650</td>\n",
       "                        <td id=\"T_3fba43ee_d260_11ea_b573_02420a394e7erow0_col2\" class=\"data row0 col2\" >23,650</td>\n",
       "                        <td id=\"T_3fba43ee_d260_11ea_b573_02420a394e7erow0_col3\" class=\"data row0 col3\" >23,650</td>\n",
       "            </tr>\n",
       "            <tr>\n",
       "                        <th id=\"T_3fba43ee_d260_11ea_b573_02420a394e7elevel0_row1\" class=\"row_heading level0 row1\" >mean</th>\n",
       "                        <td id=\"T_3fba43ee_d260_11ea_b573_02420a394e7erow1_col0\" class=\"data row1 col0\" >60</td>\n",
       "                        <td id=\"T_3fba43ee_d260_11ea_b573_02420a394e7erow1_col1\" class=\"data row1 col1\" >6,541,127</td>\n",
       "                        <td id=\"T_3fba43ee_d260_11ea_b573_02420a394e7erow1_col2\" class=\"data row1 col2\" >2</td>\n",
       "                        <td id=\"T_3fba43ee_d260_11ea_b573_02420a394e7erow1_col3\" class=\"data row1 col3\" >2</td>\n",
       "            </tr>\n",
       "            <tr>\n",
       "                        <th id=\"T_3fba43ee_d260_11ea_b573_02420a394e7elevel0_row2\" class=\"row_heading level0 row2\" >std</th>\n",
       "                        <td id=\"T_3fba43ee_d260_11ea_b573_02420a394e7erow2_col0\" class=\"data row2 col0\" >36</td>\n",
       "                        <td id=\"T_3fba43ee_d260_11ea_b573_02420a394e7erow2_col1\" class=\"data row2 col1\" >10,896,399</td>\n",
       "                        <td id=\"T_3fba43ee_d260_11ea_b573_02420a394e7erow2_col2\" class=\"data row2 col2\" >1</td>\n",
       "                        <td id=\"T_3fba43ee_d260_11ea_b573_02420a394e7erow2_col3\" class=\"data row2 col3\" >1</td>\n",
       "            </tr>\n",
       "            <tr>\n",
       "                        <th id=\"T_3fba43ee_d260_11ea_b573_02420a394e7elevel0_row3\" class=\"row_heading level0 row3\" >min</th>\n",
       "                        <td id=\"T_3fba43ee_d260_11ea_b573_02420a394e7erow3_col0\" class=\"data row3 col0\" >12</td>\n",
       "                        <td id=\"T_3fba43ee_d260_11ea_b573_02420a394e7erow3_col1\" class=\"data row3 col1\" >12,190</td>\n",
       "                        <td id=\"T_3fba43ee_d260_11ea_b573_02420a394e7erow3_col2\" class=\"data row3 col2\" >1</td>\n",
       "                        <td id=\"T_3fba43ee_d260_11ea_b573_02420a394e7erow3_col3\" class=\"data row3 col3\" >1</td>\n",
       "            </tr>\n",
       "            <tr>\n",
       "                        <th id=\"T_3fba43ee_d260_11ea_b573_02420a394e7elevel0_row4\" class=\"row_heading level0 row4\" >25%</th>\n",
       "                        <td id=\"T_3fba43ee_d260_11ea_b573_02420a394e7erow4_col0\" class=\"data row4 col0\" >40</td>\n",
       "                        <td id=\"T_3fba43ee_d260_11ea_b573_02420a394e7erow4_col1\" class=\"data row4 col1\" >3,400,000</td>\n",
       "                        <td id=\"T_3fba43ee_d260_11ea_b573_02420a394e7erow4_col2\" class=\"data row4 col2\" >1</td>\n",
       "                        <td id=\"T_3fba43ee_d260_11ea_b573_02420a394e7erow4_col3\" class=\"data row4 col3\" >2</td>\n",
       "            </tr>\n",
       "            <tr>\n",
       "                        <th id=\"T_3fba43ee_d260_11ea_b573_02420a394e7elevel0_row5\" class=\"row_heading level0 row5\" >50%</th>\n",
       "                        <td id=\"T_3fba43ee_d260_11ea_b573_02420a394e7erow5_col0\" class=\"data row5 col0\" >52</td>\n",
       "                        <td id=\"T_3fba43ee_d260_11ea_b573_02420a394e7erow5_col1\" class=\"data row5 col1\" >4,650,000</td>\n",
       "                        <td id=\"T_3fba43ee_d260_11ea_b573_02420a394e7erow5_col2\" class=\"data row5 col2\" >2</td>\n",
       "                        <td id=\"T_3fba43ee_d260_11ea_b573_02420a394e7erow5_col3\" class=\"data row5 col3\" >2</td>\n",
       "            </tr>\n",
       "            <tr>\n",
       "                        <th id=\"T_3fba43ee_d260_11ea_b573_02420a394e7elevel0_row6\" class=\"row_heading level0 row6\" >75%</th>\n",
       "                        <td id=\"T_3fba43ee_d260_11ea_b573_02420a394e7erow6_col0\" class=\"data row6 col0\" >69</td>\n",
       "                        <td id=\"T_3fba43ee_d260_11ea_b573_02420a394e7erow6_col1\" class=\"data row6 col1\" >6,799,000</td>\n",
       "                        <td id=\"T_3fba43ee_d260_11ea_b573_02420a394e7erow6_col2\" class=\"data row6 col2\" >3</td>\n",
       "                        <td id=\"T_3fba43ee_d260_11ea_b573_02420a394e7erow6_col3\" class=\"data row6 col3\" >2</td>\n",
       "            </tr>\n",
       "            <tr>\n",
       "                        <th id=\"T_3fba43ee_d260_11ea_b573_02420a394e7elevel0_row7\" class=\"row_heading level0 row7\" >max</th>\n",
       "                        <td id=\"T_3fba43ee_d260_11ea_b573_02420a394e7erow7_col0\" class=\"data row7 col0\" >900</td>\n",
       "                        <td id=\"T_3fba43ee_d260_11ea_b573_02420a394e7erow7_col1\" class=\"data row7 col1\" >763,000,000</td>\n",
       "                        <td id=\"T_3fba43ee_d260_11ea_b573_02420a394e7erow7_col2\" class=\"data row7 col2\" >19</td>\n",
       "                        <td id=\"T_3fba43ee_d260_11ea_b573_02420a394e7erow7_col3\" class=\"data row7 col3\" >100</td>\n",
       "            </tr>\n",
       "    </tbody></table>"
      ],
      "text/plain": [
       "<pandas.io.formats.style.Styler at 0x7f5344f5bf50>"
      ]
     },
     "metadata": {},
     "output_type": "display_data"
    },
    {
     "data": {
      "image/png": "[encoded data removed]",
      "text/plain": [
       "<Figure size 864x2160 with 4 Axes>"
      ]
     },
     "metadata": {},
     "output_type": "display_data"
    }
   ],
   "source": [
    "import matplotlib.pyplot as plt\n",
    "import seaborn as sns\n",
    "sns.set()\n",
    "\n",
    "styles = [dict(selector=\"caption\", \n",
    "    props=[(\"text-align\", \"left\"),\n",
    "    (\"font-size\", \"150%\"),\n",
    "    (\"color\", 'black')])]\n",
    "\n",
    "def show_stats(parameters=None):\n",
    "    if parameters == None:\n",
    "        parameters = ['total_area', 'last_price', 'rooms', 'ceiling_height']\n",
    "    display(df[parameters] \\\n",
    "          .describe() \\\n",
    "          .style.format('{:,.0f}') \\\n",
    "          .set_caption('Общие статистические характеристики') \\\n",
    "          .set_table_styles(styles) \\\n",
    "         )\n",
    "    l = len(parameters)\n",
    "    fig, axes = plt.subplots(nrows=l, ncols=1, figsize=(12, 30))\n",
    "\n",
    "    i = 0\n",
    "    for i in range(l):\n",
    "        ax = axes[i]\n",
    "        df[parameters[i]].hist(bins=50, ax=ax)\n",
    "        ax.set_xlabel(parameters[i])\n",
    "        ax.set_ylabel('Количество')\n",
    "        ax.set_title('Гистограмма распределения')\n",
    "        ax.ticklabel_format(style='plain')\n",
    "        \n",
    "        \n",
    "show_stats()"
   ]
  },
  {
   "cell_type": "markdown",
   "metadata": {},
   "source": [
    "Более подробно посмотрим околонулевые значения по потолкам. "
   ]
  },
  {
   "cell_type": "code",
   "execution_count": 16,
   "metadata": {},
   "outputs": [
    {
     "data": {
      "text/plain": [
       "<matplotlib.axes._subplots.AxesSubplot at 0x7f530cf37990>"
      ]
     },
     "execution_count": 16,
     "metadata": {},
     "output_type": "execute_result"
    },
    {
     "data": {
      "image/png": "[encoded data removed]",
      "text/plain": [
       "<Figure size 864x432 with 1 Axes>"
      ]
     },
     "metadata": {},
     "output_type": "display_data"
    }
   ],
   "source": [
    "df['ceiling_height'].hist(range=(0, 1.75), bins=50, figsize=(12, 6))"
   ]
  },
  {
   "cell_type": "markdown",
   "metadata": {},
   "source": [
    "Изучим время продажи квартиры. Построим гистограмму. Посчитаем среднее, медиану и ряд вспомогательных статистических характеристик."
   ]
  },
  {
   "cell_type": "code",
   "execution_count": 17,
   "metadata": {
    "scrolled": false
   },
   "outputs": [
    {
     "name": "stdout",
     "output_type": "stream",
     "text": [
      "Минимальное:  0\n",
      "Максимальное:  1580\n",
      "Среднее:  156.4489640591966\n",
      "Медиана:  73.0\n",
      "Первый квартиль:  22.0\n",
      "Третий квартиль:  198.0\n",
      "15-ый процентиль:  5.0\n",
      "95-ый процентиль:  603.0\n"
     ]
    },
    {
     "data": {
      "text/plain": [
       "<matplotlib.axes._subplots.AxesSubplot at 0x7f530c725410>"
      ]
     },
     "execution_count": 17,
     "metadata": {},
     "output_type": "execute_result"
    },
    {
     "data": {
      "image/png": "[encoded data removed]",
      "text/plain": [
       "<Figure size 864x432 with 1 Axes>"
      ]
     },
     "metadata": {},
     "output_type": "display_data"
    }
   ],
   "source": [
    "print('Минимальное: ', df['days_exposition'].min())\n",
    "print('Максимальное: ', df['days_exposition'].max())\n",
    "print('Среднее: ', df['days_exposition'].mean())\n",
    "print('Медиана: ', df['days_exposition'].median())\n",
    "print('Первый квартиль: ', df['days_exposition'].quantile(q=0.25))\n",
    "print('Третий квартиль: ', df['days_exposition'].quantile(q=0.75))\n",
    "print('15-ый процентиль: ', df['days_exposition'].quantile(q=0.15))\n",
    "print('95-ый процентиль: ', df['days_exposition'].quantile(q=0.95))\n",
    "df['days_exposition'].hist(bins=50, figsize=(12, 6))"
   ]
  },
  {
   "cell_type": "code",
   "execution_count": 18,
   "metadata": {},
   "outputs": [
    {
     "data": {
      "text/plain": [
       "<matplotlib.axes._subplots.AxesSubplot at 0x7f530c6357d0>"
      ]
     },
     "execution_count": 18,
     "metadata": {},
     "output_type": "execute_result"
    },
    {
     "data": {
      "image/png": "[encoded data removed]",
      "text/plain": [
       "<Figure size 864x432 with 1 Axes>"
      ]
     },
     "metadata": {},
     "output_type": "display_data"
    }
   ],
   "source": [
    "df['days_exposition'].hist(range=(0, 20), bins=50, figsize=(12, 6))"
   ]
  },
  {
   "cell_type": "markdown",
   "metadata": {},
   "source": [
    "Обычно продажа занимает два с половиной месяца (половина так продает). \n",
    "\n",
    "Если продали за 22 дня, то это быстро, всего у четверти так получается. Если продали за 5 дней, то это очень быстро, таких всего 15 процентов и это вместе с теми, что продали в первый же день, их получилось больше трех тысяч.\n",
    "\n",
    "Если продавали полгода, то это уже долго, к тому времени три четверти продадут свои квартиры. А вот если продажа длится уже полтора года, то это необычно долго, такой продавец входит в неудачные 5%."
   ]
  },
  {
   "cell_type": "markdown",
   "metadata": {},
   "source": [
    "### Обработка выбросов <a name=\"4_2\"></a>"
   ]
  },
  {
   "cell_type": "markdown",
   "metadata": {},
   "source": [
    "Посмотрим вспомогательные значения у границ."
   ]
  },
  {
   "cell_type": "code",
   "execution_count": 19,
   "metadata": {
    "scrolled": false
   },
   "outputs": [
    {
     "name": "stdout",
     "output_type": "stream",
     "text": [
      "Большая площадь: 61\n",
      "Большая площадь, %: 0.26\n",
      "Супер люкс: 4\n",
      "Очень маленькая: 27\n",
      "Очень дорогая: 76\n",
      "Очень дешевая: 33\n",
      "Нет комнат: 0\n",
      "Очень много комнат: 19\n",
      "Невероятно высокие потолки: 24\n",
      "Очень высокие потолки: 13\n",
      "Потолки свыше 4 метров: 37\n",
      "В первую неделю, кроме первого дня:  612\n",
      "В первый день, количество продаж:  3180\n",
      "Свыше трех лет:  166\n"
     ]
    },
    {
     "data": {
      "text/plain": [
       "355       25\n",
       "3148      32\n",
       "4643      25\n",
       "4876      27\n",
       "5076      24\n",
       "5246      27\n",
       "5669      26\n",
       "5807      27\n",
       "6246      25\n",
       "9379      25\n",
       "10773     27\n",
       "11285     25\n",
       "14382     25\n",
       "15061     14\n",
       "17496     20\n",
       "17857     27\n",
       "18545     25\n",
       "20478     27\n",
       "20507     22\n",
       "21377     27\n",
       "21824     27\n",
       "22336     32\n",
       "22869    100\n",
       "22938     27\n",
       "Name: ceiling_height, dtype: uint8"
      ]
     },
     "execution_count": 19,
     "metadata": {},
     "output_type": "execute_result"
    }
   ],
   "source": [
    "big_area = df[df['total_area'] > 300].shape[0] * 100 / len(df)\n",
    "print('Большая площадь:', df[df['total_area'] > 300].shape[0])\n",
    "print('Большая площадь, %:', f'{big_area:.2f}')\n",
    "print('Супер люкс:',df[df['total_area'] > 600].shape[0])\n",
    "print('Очень маленькая:', df[df['total_area'] < 20].shape[0])\n",
    "print('Очень дорогая:', df[df['last_price'] > 7e7].shape[0])\n",
    "print('Очень дешевая:', df[df['last_price'] < 6e5].shape[0])\n",
    "print('Нет комнат:', df[df['rooms'] == 0].shape[0])\n",
    "print('Очень много комнат:', df[df['rooms'] > 8].shape[0])\n",
    "print('Невероятно высокие потолки:', df[df['ceiling_height'] > 13].shape[0])\n",
    "print('Очень высокие потолки:', df[df['ceiling_height'].isin(range(5, 13))].shape[0])\n",
    "print('Потолки свыше 4 метров:', df[df['ceiling_height'] > 4].shape[0])\n",
    "print('В первую неделю, кроме первого дня: ', df[df['days_exposition'].isin(range(1, 7))].shape[0])\n",
    "print('В первый день, количество продаж: ', df[df['days_exposition'] == 0].shape[0])\n",
    "print('Свыше трех лет: ', df[df['days_exposition'] > 1095].shape[0])\n",
    "df[df['ceiling_height'] > 13]['ceiling_height']"
   ]
  },
  {
   "cell_type": "markdown",
   "metadata": {},
   "source": [
    "Наблюдаем следующие особенности.\n",
    "\n",
    "total_area - у распределения по площадям очень длинных хвост, только у 0,25% представленых продаж площадь была 300 кв.м., а люксовые 600 кв.м. превысили только 4 продажи. Вряд ли такая недвижимость характеризует рынок продаж в целом, поэтому отбросим строки свыше 300 кв.м. По этой же причине отбросим квариры с площадью ниже 20 кв.м.\n",
    "\n",
    "last_price - жилье со стоймостью свыше 70 миллионов считанные десятки. Это продажи живут по своим правилам, отбросим их. То же самое с квартирами с ценой бюджетного автомобиля, менее 600 тыс.\n",
    "\n",
    "rooms - у пары сотен вариантов указано нулевое количество комнат, похоже на то, что это пропущенные значения. Заполним их единицей. Еще пару десятков имеют комнат больше 8, их отбросим, как плохо характеризующие общую ситуацию.\n",
    "\n",
    "ceiling_height - очевидный выброс 100 метров, скорее всего было среднее значение 2м, для пары десятков скорее ошиблись запятой в при вводе. Потолки с 5 до 13 метров выбросим: их пару десятков и они не характеризуют общую ситуацию. Кроме того, если варианты с высотой потолка 1 метр, скорее всего это ошибка ввода, отбросим такие значения, их 4. Итого, значения свыше 4 метров и 1 метр отбросим как незначимые для общей выборки.\n",
    "\n",
    "days_exposition - необычный пик на первый день продаж на 3 тыс, при том, что в первую неделю было всего 600 продаж. Сверхбыстрые продажи заменим на медианное значение. Сверхдолгие продажи, свыше 3 лет уберем из набора, поскольку их небольшое число и они в целом не характерезуют общую ситуацию, скорее всего по этой недвижимости были особые проблемы. Пик на первый день придется убрать, на медиану заменить не получится, так как приведет к искажению распределения по медианному значению. Придется их отбросить.\n"
   ]
  },
  {
   "cell_type": "code",
   "execution_count": 20,
   "metadata": {
    "scrolled": false
   },
   "outputs": [
    {
     "name": "stdout",
     "output_type": "stream",
     "text": [
      "Количество граничных значений, убираемых из набора: 3526\n"
     ]
    },
    {
     "data": {
      "text/html": [
       "<style  type=\"text/css\" >\n",
       "    #T_43d29008_d260_11ea_b573_02420a394e7e caption {\n",
       "          text-align: left;\n",
       "          font-size: 150%;\n",
       "          color: black;\n",
       "    }</style><table id=\"T_43d29008_d260_11ea_b573_02420a394e7e\" ><caption>Общие статистические характеристики</caption><thead>    <tr>        <th class=\"blank level0\" ></th>        <th class=\"col_heading level0 col0\" >total_area</th>        <th class=\"col_heading level0 col1\" >last_price</th>        <th class=\"col_heading level0 col2\" >rooms</th>        <th class=\"col_heading level0 col3\" >ceiling_height</th>        <th class=\"col_heading level0 col4\" >days_exposition</th>    </tr></thead><tbody>\n",
       "                <tr>\n",
       "                        <th id=\"T_43d29008_d260_11ea_b573_02420a394e7elevel0_row0\" class=\"row_heading level0 row0\" >count</th>\n",
       "                        <td id=\"T_43d29008_d260_11ea_b573_02420a394e7erow0_col0\" class=\"data row0 col0\" >20,124</td>\n",
       "                        <td id=\"T_43d29008_d260_11ea_b573_02420a394e7erow0_col1\" class=\"data row0 col1\" >20,124</td>\n",
       "                        <td id=\"T_43d29008_d260_11ea_b573_02420a394e7erow0_col2\" class=\"data row0 col2\" >20,124</td>\n",
       "                        <td id=\"T_43d29008_d260_11ea_b573_02420a394e7erow0_col3\" class=\"data row0 col3\" >20,124</td>\n",
       "                        <td id=\"T_43d29008_d260_11ea_b573_02420a394e7erow0_col4\" class=\"data row0 col4\" >20,124</td>\n",
       "            </tr>\n",
       "            <tr>\n",
       "                        <th id=\"T_43d29008_d260_11ea_b573_02420a394e7elevel0_row1\" class=\"row_heading level0 row1\" >mean</th>\n",
       "                        <td id=\"T_43d29008_d260_11ea_b573_02420a394e7erow1_col0\" class=\"data row1 col0\" >57</td>\n",
       "                        <td id=\"T_43d29008_d260_11ea_b573_02420a394e7erow1_col1\" class=\"data row1 col1\" >5,793,421</td>\n",
       "                        <td id=\"T_43d29008_d260_11ea_b573_02420a394e7erow1_col2\" class=\"data row1 col2\" >2</td>\n",
       "                        <td id=\"T_43d29008_d260_11ea_b573_02420a394e7erow1_col3\" class=\"data row1 col3\" >2</td>\n",
       "                        <td id=\"T_43d29008_d260_11ea_b573_02420a394e7erow1_col4\" class=\"data row1 col4\" >172</td>\n",
       "            </tr>\n",
       "            <tr>\n",
       "                        <th id=\"T_43d29008_d260_11ea_b573_02420a394e7elevel0_row2\" class=\"row_heading level0 row2\" >std</th>\n",
       "                        <td id=\"T_43d29008_d260_11ea_b573_02420a394e7erow2_col0\" class=\"data row2 col0\" >28</td>\n",
       "                        <td id=\"T_43d29008_d260_11ea_b573_02420a394e7erow2_col1\" class=\"data row2 col1\" >5,042,423</td>\n",
       "                        <td id=\"T_43d29008_d260_11ea_b573_02420a394e7erow2_col2\" class=\"data row2 col2\" >1</td>\n",
       "                        <td id=\"T_43d29008_d260_11ea_b573_02420a394e7erow2_col3\" class=\"data row2 col3\" >0</td>\n",
       "                        <td id=\"T_43d29008_d260_11ea_b573_02420a394e7erow2_col4\" class=\"data row2 col4\" >198</td>\n",
       "            </tr>\n",
       "            <tr>\n",
       "                        <th id=\"T_43d29008_d260_11ea_b573_02420a394e7elevel0_row3\" class=\"row_heading level0 row3\" >min</th>\n",
       "                        <td id=\"T_43d29008_d260_11ea_b573_02420a394e7erow3_col0\" class=\"data row3 col0\" >20</td>\n",
       "                        <td id=\"T_43d29008_d260_11ea_b573_02420a394e7erow3_col1\" class=\"data row3 col1\" >600,000</td>\n",
       "                        <td id=\"T_43d29008_d260_11ea_b573_02420a394e7erow3_col2\" class=\"data row3 col2\" >1</td>\n",
       "                        <td id=\"T_43d29008_d260_11ea_b573_02420a394e7erow3_col3\" class=\"data row3 col3\" >2</td>\n",
       "                        <td id=\"T_43d29008_d260_11ea_b573_02420a394e7erow3_col4\" class=\"data row3 col4\" >1</td>\n",
       "            </tr>\n",
       "            <tr>\n",
       "                        <th id=\"T_43d29008_d260_11ea_b573_02420a394e7elevel0_row4\" class=\"row_heading level0 row4\" >25%</th>\n",
       "                        <td id=\"T_43d29008_d260_11ea_b573_02420a394e7erow4_col0\" class=\"data row4 col0\" >39</td>\n",
       "                        <td id=\"T_43d29008_d260_11ea_b573_02420a394e7erow4_col1\" class=\"data row4 col1\" >3,400,000</td>\n",
       "                        <td id=\"T_43d29008_d260_11ea_b573_02420a394e7erow4_col2\" class=\"data row4 col2\" >1</td>\n",
       "                        <td id=\"T_43d29008_d260_11ea_b573_02420a394e7erow4_col3\" class=\"data row4 col3\" >2</td>\n",
       "                        <td id=\"T_43d29008_d260_11ea_b573_02420a394e7erow4_col4\" class=\"data row4 col4\" >44</td>\n",
       "            </tr>\n",
       "            <tr>\n",
       "                        <th id=\"T_43d29008_d260_11ea_b573_02420a394e7elevel0_row5\" class=\"row_heading level0 row5\" >50%</th>\n",
       "                        <td id=\"T_43d29008_d260_11ea_b573_02420a394e7erow5_col0\" class=\"data row5 col0\" >50</td>\n",
       "                        <td id=\"T_43d29008_d260_11ea_b573_02420a394e7erow5_col1\" class=\"data row5 col1\" >4,500,000</td>\n",
       "                        <td id=\"T_43d29008_d260_11ea_b573_02420a394e7erow5_col2\" class=\"data row5 col2\" >2</td>\n",
       "                        <td id=\"T_43d29008_d260_11ea_b573_02420a394e7erow5_col3\" class=\"data row5 col3\" >2</td>\n",
       "                        <td id=\"T_43d29008_d260_11ea_b573_02420a394e7erow5_col4\" class=\"data row5 col4\" >94</td>\n",
       "            </tr>\n",
       "            <tr>\n",
       "                        <th id=\"T_43d29008_d260_11ea_b573_02420a394e7elevel0_row6\" class=\"row_heading level0 row6\" >75%</th>\n",
       "                        <td id=\"T_43d29008_d260_11ea_b573_02420a394e7erow6_col0\" class=\"data row6 col0\" >67</td>\n",
       "                        <td id=\"T_43d29008_d260_11ea_b573_02420a394e7erow6_col1\" class=\"data row6 col1\" >6,450,000</td>\n",
       "                        <td id=\"T_43d29008_d260_11ea_b573_02420a394e7erow6_col2\" class=\"data row6 col2\" >3</td>\n",
       "                        <td id=\"T_43d29008_d260_11ea_b573_02420a394e7erow6_col3\" class=\"data row6 col3\" >2</td>\n",
       "                        <td id=\"T_43d29008_d260_11ea_b573_02420a394e7erow6_col4\" class=\"data row6 col4\" >225</td>\n",
       "            </tr>\n",
       "            <tr>\n",
       "                        <th id=\"T_43d29008_d260_11ea_b573_02420a394e7elevel0_row7\" class=\"row_heading level0 row7\" >max</th>\n",
       "                        <td id=\"T_43d29008_d260_11ea_b573_02420a394e7erow7_col0\" class=\"data row7 col0\" >300</td>\n",
       "                        <td id=\"T_43d29008_d260_11ea_b573_02420a394e7erow7_col1\" class=\"data row7 col1\" >68,500,000</td>\n",
       "                        <td id=\"T_43d29008_d260_11ea_b573_02420a394e7erow7_col2\" class=\"data row7 col2\" >8</td>\n",
       "                        <td id=\"T_43d29008_d260_11ea_b573_02420a394e7erow7_col3\" class=\"data row7 col3\" >4</td>\n",
       "                        <td id=\"T_43d29008_d260_11ea_b573_02420a394e7erow7_col4\" class=\"data row7 col4\" >1,095</td>\n",
       "            </tr>\n",
       "    </tbody></table>"
      ],
      "text/plain": [
       "<pandas.io.formats.style.Styler at 0x7f5344ccbbd0>"
      ]
     },
     "metadata": {},
     "output_type": "display_data"
    },
    {
     "data": {
      "image/png": "[encoded data removed]",
      "text/plain": [
       "<Figure size 864x2160 with 5 Axes>"
      ]
     },
     "metadata": {},
     "output_type": "display_data"
    }
   ],
   "source": [
    "drop_conditionals = (df['total_area'] > 300) | (df['total_area'] < 20) \\\n",
    "                    | (df['last_price'] > 7e7) | (df['last_price'] < 6e5) \\\n",
    "                    | (df['rooms'] > 8) \\\n",
    "                    | (df['ceiling_height'] > 4) | (df['ceiling_height'] == 1)\\\n",
    "                    | (df['days_exposition'] > 1095) | (df['days_exposition'] == 0)\n",
    "\n",
    "print('Количество граничных значений, убираемых из набора:', df[drop_conditionals].shape[0])\n",
    "df = df[~drop_conditionals]\n",
    "df.loc[df['rooms'] == 0, 'rooms'] = 1\n",
    "\n",
    "# Посмотрим на распределения после обработки\n",
    "parameters = ['total_area', 'last_price', 'rooms', 'ceiling_height', 'days_exposition']\n",
    "show_stats(parameters)"
   ]
  },
  {
   "cell_type": "markdown",
   "metadata": {},
   "source": [
    "### Изучаем зависимости <a name=\"4_3\"></a>"
   ]
  },
  {
   "cell_type": "code",
   "execution_count": 21,
   "metadata": {},
   "outputs": [
    {
     "data": {
      "text/plain": [
       "['0.8', '0.5', '-0.4', '-0.0', '0.0', '-0.1']"
      ]
     },
     "execution_count": 21,
     "metadata": {},
     "output_type": "execute_result"
    }
   ],
   "source": [
    "coef = df['last_price'].corr(df['total_area']), \\\n",
    "        df['last_price'].corr(df['rooms']), \\\n",
    "        df['last_price'].corr(df['cityCenters_nearest']), \\\n",
    "        df['last_price'].corr(df['weekday']), \\\n",
    "        df['last_price'].corr(df['month']), \\\n",
    "        df['last_price'].corr(df['year']), \\\n",
    "\n",
    "[f'{elem:.1f}' for elem in coef]"
   ]
  },
  {
   "cell_type": "markdown",
   "metadata": {},
   "source": [
    "Судя по коофициентам Пирсона, зависимость цены от:\n",
    "* общей площади - высокая прямая;\n",
    "* количества комнат - средняя прямая;\n",
    "* удаленности от центра - слабая обратная.\n",
    "* от дня недели, месяца и года - не зависит"
   ]
  },
  {
   "cell_type": "code",
   "execution_count": 22,
   "metadata": {},
   "outputs": [
    {
     "data": {
      "text/html": [
       "<style  type=\"text/css\" >\n",
       "</style><table id=\"T_45ba7ea8_d260_11ea_b573_02420a394e7e\" ><thead>    <tr>        <th class=\"blank level0\" ></th>        <th class=\"col_heading level0 col0\" >last_price</th>    </tr>    <tr>        <th class=\"index_name level0\" >floor_type</th>        <th class=\"blank\" ></th>    </tr></thead><tbody>\n",
       "                <tr>\n",
       "                        <th id=\"T_45ba7ea8_d260_11ea_b573_02420a394e7elevel0_row0\" class=\"row_heading level0 row0\" >Первый</th>\n",
       "                        <td id=\"T_45ba7ea8_d260_11ea_b573_02420a394e7erow0_col0\" class=\"data row0 col0\" >4,473,757</td>\n",
       "            </tr>\n",
       "            <tr>\n",
       "                        <th id=\"T_45ba7ea8_d260_11ea_b573_02420a394e7elevel0_row1\" class=\"row_heading level0 row1\" >Последний</th>\n",
       "                        <td id=\"T_45ba7ea8_d260_11ea_b573_02420a394e7erow1_col0\" class=\"data row1 col0\" >5,696,021</td>\n",
       "            </tr>\n",
       "            <tr>\n",
       "                        <th id=\"T_45ba7ea8_d260_11ea_b573_02420a394e7elevel0_row2\" class=\"row_heading level0 row2\" >Другой</th>\n",
       "                        <td id=\"T_45ba7ea8_d260_11ea_b573_02420a394e7erow2_col0\" class=\"data row2 col0\" >6,025,078</td>\n",
       "            </tr>\n",
       "    </tbody></table>"
      ],
      "text/plain": [
       "<pandas.io.formats.style.Styler at 0x7f530c0430d0>"
      ]
     },
     "execution_count": 22,
     "metadata": {},
     "output_type": "execute_result"
    }
   ],
   "source": [
    "(df\n",
    "    .pivot_table(index='floor_type', values='last_price')\n",
    "    .sort_values(by='last_price')\n",
    "    .style.format('{:,.0f}')\n",
    ")"
   ]
  },
  {
   "cell_type": "markdown",
   "metadata": {},
   "source": [
    "Видим, что первые этажи обычно дешевле, потом последние и уже дальше все остальные."
   ]
  },
  {
   "cell_type": "code",
   "execution_count": 23,
   "metadata": {},
   "outputs": [
    {
     "data": {
      "text/html": [
       "<style  type=\"text/css\" >\n",
       "    #T_45c6c65e_d260_11ea_b573_02420a394e7e caption {\n",
       "          text-align: left;\n",
       "          font-size: 150%;\n",
       "          color: black;\n",
       "    }</style><table id=\"T_45c6c65e_d260_11ea_b573_02420a394e7e\" ><caption>Зависимость цены от населенного пункта</caption><thead>    <tr>        <th class=\"blank level0\" ></th>        <th class=\"col_heading level0 col0\" >last_price</th>        <th class=\"col_heading level0 col1\" >total_area</th>        <th class=\"col_heading level0 col2\" >area_price</th>    </tr>    <tr>        <th class=\"index_name level0\" >locality_name</th>        <th class=\"blank\" ></th>        <th class=\"blank\" ></th>        <th class=\"blank\" ></th>    </tr></thead><tbody>\n",
       "                <tr>\n",
       "                        <th id=\"T_45c6c65e_d260_11ea_b573_02420a394e7elevel0_row0\" class=\"row_heading level0 row0\" >Выборг</th>\n",
       "                        <td id=\"T_45c6c65e_d260_11ea_b573_02420a394e7erow0_col0\" class=\"data row0 col0\" >3,050,543</td>\n",
       "                        <td id=\"T_45c6c65e_d260_11ea_b573_02420a394e7erow0_col1\" class=\"data row0 col1\" >54</td>\n",
       "                        <td id=\"T_45c6c65e_d260_11ea_b573_02420a394e7erow0_col2\" class=\"data row0 col2\" >56,597</td>\n",
       "            </tr>\n",
       "            <tr>\n",
       "                        <th id=\"T_45c6c65e_d260_11ea_b573_02420a394e7elevel0_row1\" class=\"row_heading level0 row1\" >Гатчина</th>\n",
       "                        <td id=\"T_45c6c65e_d260_11ea_b573_02420a394e7erow1_col0\" class=\"data row1 col0\" >3,367,978</td>\n",
       "                        <td id=\"T_45c6c65e_d260_11ea_b573_02420a394e7erow1_col1\" class=\"data row1 col1\" >50</td>\n",
       "                        <td id=\"T_45c6c65e_d260_11ea_b573_02420a394e7erow1_col2\" class=\"data row1 col2\" >67,268</td>\n",
       "            </tr>\n",
       "            <tr>\n",
       "                        <th id=\"T_45c6c65e_d260_11ea_b573_02420a394e7elevel0_row2\" class=\"row_heading level0 row2\" >Всеволожск</th>\n",
       "                        <td id=\"T_45c6c65e_d260_11ea_b573_02420a394e7erow2_col0\" class=\"data row2 col0\" >3,687,604</td>\n",
       "                        <td id=\"T_45c6c65e_d260_11ea_b573_02420a394e7erow2_col1\" class=\"data row2 col1\" >54</td>\n",
       "                        <td id=\"T_45c6c65e_d260_11ea_b573_02420a394e7erow2_col2\" class=\"data row2 col2\" >67,730</td>\n",
       "            </tr>\n",
       "            <tr>\n",
       "                        <th id=\"T_45c6c65e_d260_11ea_b573_02420a394e7elevel0_row3\" class=\"row_heading level0 row3\" >Колпино</th>\n",
       "                        <td id=\"T_45c6c65e_d260_11ea_b573_02420a394e7erow3_col0\" class=\"data row3 col0\" >3,798,971</td>\n",
       "                        <td id=\"T_45c6c65e_d260_11ea_b573_02420a394e7erow3_col1\" class=\"data row3 col1\" >52</td>\n",
       "                        <td id=\"T_45c6c65e_d260_11ea_b573_02420a394e7erow3_col2\" class=\"data row3 col2\" >73,407</td>\n",
       "            </tr>\n",
       "            <tr>\n",
       "                        <th id=\"T_45c6c65e_d260_11ea_b573_02420a394e7elevel0_row4\" class=\"row_heading level0 row4\" >Шушары</th>\n",
       "                        <td id=\"T_45c6c65e_d260_11ea_b573_02420a394e7erow4_col0\" class=\"data row4 col0\" >4,055,066</td>\n",
       "                        <td id=\"T_45c6c65e_d260_11ea_b573_02420a394e7erow4_col1\" class=\"data row4 col1\" >53</td>\n",
       "                        <td id=\"T_45c6c65e_d260_11ea_b573_02420a394e7erow4_col2\" class=\"data row4 col2\" >75,924</td>\n",
       "            </tr>\n",
       "            <tr>\n",
       "                        <th id=\"T_45c6c65e_d260_11ea_b573_02420a394e7elevel0_row5\" class=\"row_heading level0 row5\" >Мурино</th>\n",
       "                        <td id=\"T_45c6c65e_d260_11ea_b573_02420a394e7erow5_col0\" class=\"data row5 col0\" >3,646,569</td>\n",
       "                        <td id=\"T_45c6c65e_d260_11ea_b573_02420a394e7erow5_col1\" class=\"data row5 col1\" >44</td>\n",
       "                        <td id=\"T_45c6c65e_d260_11ea_b573_02420a394e7erow5_col2\" class=\"data row5 col2\" >83,742</td>\n",
       "            </tr>\n",
       "            <tr>\n",
       "                        <th id=\"T_45c6c65e_d260_11ea_b573_02420a394e7elevel0_row6\" class=\"row_heading level0 row6\" >Парголово</th>\n",
       "                        <td id=\"T_45c6c65e_d260_11ea_b573_02420a394e7erow6_col0\" class=\"data row6 col0\" >4,393,433</td>\n",
       "                        <td id=\"T_45c6c65e_d260_11ea_b573_02420a394e7erow6_col1\" class=\"data row6 col1\" >51</td>\n",
       "                        <td id=\"T_45c6c65e_d260_11ea_b573_02420a394e7erow6_col2\" class=\"data row6 col2\" >86,767</td>\n",
       "            </tr>\n",
       "            <tr>\n",
       "                        <th id=\"T_45c6c65e_d260_11ea_b573_02420a394e7elevel0_row7\" class=\"row_heading level0 row7\" >Кудрово</th>\n",
       "                        <td id=\"T_45c6c65e_d260_11ea_b573_02420a394e7erow7_col0\" class=\"data row7 col0\" >4,279,416</td>\n",
       "                        <td id=\"T_45c6c65e_d260_11ea_b573_02420a394e7erow7_col1\" class=\"data row7 col1\" >46</td>\n",
       "                        <td id=\"T_45c6c65e_d260_11ea_b573_02420a394e7erow7_col2\" class=\"data row7 col2\" >93,335</td>\n",
       "            </tr>\n",
       "            <tr>\n",
       "                        <th id=\"T_45c6c65e_d260_11ea_b573_02420a394e7elevel0_row8\" class=\"row_heading level0 row8\" >Пушкин</th>\n",
       "                        <td id=\"T_45c6c65e_d260_11ea_b573_02420a394e7erow8_col0\" class=\"data row8 col0\" >5,979,193</td>\n",
       "                        <td id=\"T_45c6c65e_d260_11ea_b573_02420a394e7erow8_col1\" class=\"data row8 col1\" >57</td>\n",
       "                        <td id=\"T_45c6c65e_d260_11ea_b573_02420a394e7erow8_col2\" class=\"data row8 col2\" >104,142</td>\n",
       "            </tr>\n",
       "            <tr>\n",
       "                        <th id=\"T_45c6c65e_d260_11ea_b573_02420a394e7elevel0_row9\" class=\"row_heading level0 row9\" >Санкт-Петербург</th>\n",
       "                        <td id=\"T_45c6c65e_d260_11ea_b573_02420a394e7erow9_col0\" class=\"data row9 col0\" >6,959,728</td>\n",
       "                        <td id=\"T_45c6c65e_d260_11ea_b573_02420a394e7erow9_col1\" class=\"data row9 col1\" >61</td>\n",
       "                        <td id=\"T_45c6c65e_d260_11ea_b573_02420a394e7erow9_col2\" class=\"data row9 col2\" >114,476</td>\n",
       "            </tr>\n",
       "    </tbody></table>"
      ],
      "text/plain": [
       "<pandas.io.formats.style.Styler at 0x7f5344f69f90>"
      ]
     },
     "execution_count": 23,
     "metadata": {},
     "output_type": "execute_result"
    }
   ],
   "source": [
    "top10 = df['locality_name'].value_counts().head(10)\n",
    "top10df = df[df['locality_name'].isin(top10.index)]\n",
    "result = (top10df\n",
    "             .pivot_table(index = 'locality_name', values=['last_price', 'total_area'])\n",
    "             \n",
    ")\n",
    "\n",
    "result['area_price'] = result['last_price'] // result['total_area']\n",
    "(result\n",
    "    .sort_values(by='area_price')\n",
    "    .style.format('{:,.0f}')\n",
    "    .set_caption('Зависимость цены от населенного пункта')\n",
    "    .set_table_styles(styles)\n",
    ")"
   ]
  },
  {
   "cell_type": "markdown",
   "metadata": {},
   "source": [
    "Судя по топ 10 популярных населенных пунктов, самые дорогие квартиры в Санкт-Петербурге, а самые дешевые в Выборге."
   ]
  },
  {
   "cell_type": "code",
   "execution_count": 24,
   "metadata": {},
   "outputs": [],
   "source": [
    "piter = df[df['locality_name'] == 'Санкт-Петербург'].copy()\n",
    "piter['distance'] = piter['cityCenters_nearest'] // 1000"
   ]
  },
  {
   "cell_type": "code",
   "execution_count": 25,
   "metadata": {},
   "outputs": [
    {
     "data": {
      "image/png": "[encoded data removed]",
      "text/plain": [
       "<Figure size 864x432 with 1 Axes>"
      ]
     },
     "metadata": {},
     "output_type": "display_data"
    }
   ],
   "source": [
    "pt = piter.pivot_table(index = 'distance', values='last_price') \\\n",
    "    .plot(title = 'График зависимости цены от расстояния',\n",
    "        figsize=(12, 6),\n",
    "        legend=False)\n",
    "plt.ylabel('Цена квартиры')\n",
    "plt.xlabel('Расстояние до центра')\n",
    "plt.ticklabel_format(style='plain')"
   ]
  },
  {
   "cell_type": "markdown",
   "metadata": {},
   "source": [
    "Видим, что на расстоянии более 5 км, стоимость значительно снижается. Значит до 5 киллометров - это центральная зона."
   ]
  },
  {
   "cell_type": "code",
   "execution_count": 26,
   "metadata": {},
   "outputs": [
    {
     "data": {
      "text/html": [
       "<style  type=\"text/css\" >\n",
       "    #T_4641eaf0_d260_11ea_b573_02420a394e7e caption {\n",
       "          text-align: left;\n",
       "          font-size: 150%;\n",
       "          color: black;\n",
       "    }</style><table id=\"T_4641eaf0_d260_11ea_b573_02420a394e7e\" ><caption>Сравнение в центре и вне по цене, количеству комнат, высоте потолков</caption><thead>    <tr>        <th class=\"blank level0\" ></th>        <th class=\"col_heading level0 col0\" >total</th>        <th class=\"col_heading level0 col1\" >center</th>    </tr></thead><tbody>\n",
       "                <tr>\n",
       "                        <th id=\"T_4641eaf0_d260_11ea_b573_02420a394e7elevel0_row0\" class=\"row_heading level0 row0\" >total_area</th>\n",
       "                        <td id=\"T_4641eaf0_d260_11ea_b573_02420a394e7erow0_col0\" class=\"data row0 col0\" >57.3</td>\n",
       "                        <td id=\"T_4641eaf0_d260_11ea_b573_02420a394e7erow0_col1\" class=\"data row0 col1\" >87.3</td>\n",
       "            </tr>\n",
       "            <tr>\n",
       "                        <th id=\"T_4641eaf0_d260_11ea_b573_02420a394e7elevel0_row1\" class=\"row_heading level0 row1\" >last_price</th>\n",
       "                        <td id=\"T_4641eaf0_d260_11ea_b573_02420a394e7erow1_col0\" class=\"data row1 col0\" >5,793,420.5</td>\n",
       "                        <td id=\"T_4641eaf0_d260_11ea_b573_02420a394e7erow1_col1\" class=\"data row1 col1\" >11,621,682.9</td>\n",
       "            </tr>\n",
       "            <tr>\n",
       "                        <th id=\"T_4641eaf0_d260_11ea_b573_02420a394e7elevel0_row2\" class=\"row_heading level0 row2\" >rooms</th>\n",
       "                        <td id=\"T_4641eaf0_d260_11ea_b573_02420a394e7erow2_col0\" class=\"data row2 col0\" >2.0</td>\n",
       "                        <td id=\"T_4641eaf0_d260_11ea_b573_02420a394e7erow2_col1\" class=\"data row2 col1\" >2.8</td>\n",
       "            </tr>\n",
       "            <tr>\n",
       "                        <th id=\"T_4641eaf0_d260_11ea_b573_02420a394e7elevel0_row3\" class=\"row_heading level0 row3\" >ceiling_height</th>\n",
       "                        <td id=\"T_4641eaf0_d260_11ea_b573_02420a394e7erow3_col0\" class=\"data row3 col0\" >2.1</td>\n",
       "                        <td id=\"T_4641eaf0_d260_11ea_b573_02420a394e7erow3_col1\" class=\"data row3 col1\" >2.4</td>\n",
       "            </tr>\n",
       "    </tbody></table>"
      ],
      "text/plain": [
       "<pandas.io.formats.style.Styler at 0x7f53478c3990>"
      ]
     },
     "metadata": {},
     "output_type": "display_data"
    },
    {
     "name": "stdout",
     "output_type": "stream",
     "text": [
      "КОЭФИЦИЕНТЫ ПИРСОНА ПО ПОКАЗАТЕЛЯМ В ЦЕНТРЕ\n",
      "\n",
      "total_area 0.7\n",
      "rooms 0.4\n",
      "ceiling_height 0.2\n",
      "distance -0.0\n",
      "days_exposition 0.1\n"
     ]
    },
    {
     "data": {
      "text/html": [
       "<style  type=\"text/css\" >\n",
       "    #T_4646d060_d260_11ea_b573_02420a394e7e caption {\n",
       "          text-align: left;\n",
       "          font-size: 150%;\n",
       "          color: black;\n",
       "    }</style><table id=\"T_4646d060_d260_11ea_b573_02420a394e7e\" ><caption>Зависимость цены от этажа</caption><thead>    <tr>        <th class=\"blank level0\" ></th>        <th class=\"col_heading level0 col0\" >last_price</th>    </tr>    <tr>        <th class=\"index_name level0\" >floor_type</th>        <th class=\"blank\" ></th>    </tr></thead><tbody>\n",
       "                <tr>\n",
       "                        <th id=\"T_4646d060_d260_11ea_b573_02420a394e7elevel0_row0\" class=\"row_heading level0 row0\" >Первый</th>\n",
       "                        <td id=\"T_4646d060_d260_11ea_b573_02420a394e7erow0_col0\" class=\"data row0 col0\" >8,214,610</td>\n",
       "            </tr>\n",
       "            <tr>\n",
       "                        <th id=\"T_4646d060_d260_11ea_b573_02420a394e7elevel0_row1\" class=\"row_heading level0 row1\" >Последний</th>\n",
       "                        <td id=\"T_4646d060_d260_11ea_b573_02420a394e7erow1_col0\" class=\"data row1 col0\" >11,980,778</td>\n",
       "            </tr>\n",
       "            <tr>\n",
       "                        <th id=\"T_4646d060_d260_11ea_b573_02420a394e7elevel0_row2\" class=\"row_heading level0 row2\" >Другой</th>\n",
       "                        <td id=\"T_4646d060_d260_11ea_b573_02420a394e7erow2_col0\" class=\"data row2 col0\" >12,114,347</td>\n",
       "            </tr>\n",
       "    </tbody></table>"
      ],
      "text/plain": [
       "<pandas.io.formats.style.Styler at 0x7f530c410cd0>"
      ]
     },
     "execution_count": 26,
     "metadata": {},
     "output_type": "execute_result"
    }
   ],
   "source": [
    "piter_center = piter[piter['distance'] <= 5].copy()\n",
    "parameters = ['total_area', 'last_price', 'rooms', 'ceiling_height']\n",
    "means_pc = piter_center[parameters].mean().to_frame('center')\n",
    "means_total = df[parameters].mean().to_frame('total')\n",
    "comparison = means_total.join(means_pc)\n",
    "display(comparison.style.format('{:,.1f}') \\\n",
    "    .set_caption('Сравнение в центре и вне по цене, количеству комнат, высоте потолков') \\\n",
    "    .set_table_styles(styles))\n",
    "\n",
    "parameters.extend(['distance', 'days_exposition'])\n",
    "parameters.remove('last_price')\n",
    "print('Коэфициенты Пирсона по показателям в центре'.upper(), end='\\n\\n')\n",
    "for c in parameters:\n",
    "    k = piter_center['last_price'].corr(piter_center[c])\n",
    "    print(c, f'{k:.1f}')\n",
    "\n",
    "(piter_center\n",
    "    .pivot_table(index='floor_type', values='last_price')\n",
    "    .sort_values(by='last_price')\n",
    "    .style.format('{:,.0f}')\n",
    "    .set_caption('Зависимость цены от этажа')\n",
    "    .set_table_styles(styles)\n",
    ")"
   ]
  },
  {
   "cell_type": "markdown",
   "metadata": {},
   "source": [
    "Сравним среднее жилье в центре и за пределами. В центре площадь значительно выше, вдвое дороже, комнат больше и потолки выше.\n",
    "\n",
    "Стомость от площади по прежнему сильно зависит. От количества комнат скорее слабая зависимость, чем средняя. От высоты потолков зависимость очень слабая. От дистанции не зависит и от количесва дней от даты начала объявления.\n",
    "\n",
    "Первый этаж также самый дешевый, потом последний, дальше все остальные.\n",
    "\n",
    "Хотя в целом цены на недвижимость сохраняют тренды по всему городу, но зависимость от параметров уже слабее, причем перестает зависеть от удаленности до центра."
   ]
  },
  {
   "cell_type": "markdown",
   "metadata": {},
   "source": [
    "### Вывод"
   ]
  },
  {
   "cell_type": "markdown",
   "metadata": {},
   "source": [
    "В рамках этого шага мы изучили распределение значений и устранили выбросы. Это позволило нам изучить зависимости цены продажи от ряда признаков как в целом по всей области, так и отдельно для центра Санкт-Петербурга."
   ]
  },
  {
   "cell_type": "markdown",
   "metadata": {},
   "source": [
    "## Общий вывод <a name=\"5\"></a>"
   ]
  },
  {
   "cell_type": "markdown",
   "metadata": {},
   "source": [
    "Мы провели исследование объявлений о продажах квартир и выяснили, что цена зависит от удаленности от центра, количества комнат, общей площади, высоты потолков. При этом квартиры на первом и последнем этаже обычно дешевле.\n",
    "\n",
    "Однако, если квартира в пределах 5 км от Санкт-Петербурга, то ее стоимость перестает зависеть от расстояния до центра."
   ]
  }
 ],
 "metadata": {
  "kernelspec": {
   "display_name": "cinimex",
   "language": "python",
   "name": "cinimex"
  },
  "language_info": {
   "codemirror_mode": {
    "name": "ipython",
    "version": 3
   },
   "file_extension": ".py",
   "mimetype": "text/x-python",
   "name": "python",
   "nbconvert_exporter": "python",
   "pygments_lexer": "ipython3",
   "version": "3.9.1"
  },
  "toc": {
   "base_numbering": 1,
   "nav_menu": {},
   "number_sections": true,
   "sideBar": true,
   "skip_h1_title": true,
   "title_cell": "Оглавление проекта",
   "title_sidebar": "Оглавление",
   "toc_cell": true,
   "toc_position": {},
   "toc_section_display": true,
   "toc_window_display": false
  }
 },
 "nbformat": 4,
 "nbformat_minor": 2
}
