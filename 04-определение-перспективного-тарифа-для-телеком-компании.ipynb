{
 "cells": [
  {
   "cell_type": "markdown",
   "metadata": {},
   "source": [
    "# Определение перспективного тарифа для телеком компании"
   ]
  },
  {
   "cell_type": "markdown",
   "metadata": {
    "toc": true
   },
   "source": [
    "<h1>Оглавление проекта<span class=\"tocSkip\"></span></h1>\n",
    "<div class=\"toc\"><ul class=\"toc-item\"><li><span><a href=\"#Описание-проекта-\" data-toc-modified-id=\"Описание-проекта--1\"><span class=\"toc-item-num\">1&nbsp;&nbsp;</span>Описание проекта <a name=\"1\"></a></a></span><ul class=\"toc-item\"><li><span><a href=\"#Описание-аналитической-задачи\" data-toc-modified-id=\"Описание-аналитической-задачи-1.1\"><span class=\"toc-item-num\">1.1&nbsp;&nbsp;</span>Описание аналитической задачи</a></span></li><li><span><a href=\"#Цель-проекта\" data-toc-modified-id=\"Цель-проекта-1.2\"><span class=\"toc-item-num\">1.2&nbsp;&nbsp;</span>Цель проекта</a></span></li><li><span><a href=\"#Описание-тарифов\" data-toc-modified-id=\"Описание-тарифов-1.3\"><span class=\"toc-item-num\">1.3&nbsp;&nbsp;</span>Описание тарифов</a></span><ul class=\"toc-item\"><li><span><a href=\"#Тариф-«Смарт»\" data-toc-modified-id=\"Тариф-«Смарт»-1.3.1\"><span class=\"toc-item-num\">1.3.1&nbsp;&nbsp;</span>Тариф «Смарт»</a></span></li><li><span><a href=\"#Тариф-«Ультра»\" data-toc-modified-id=\"Тариф-«Ультра»-1.3.2\"><span class=\"toc-item-num\">1.3.2&nbsp;&nbsp;</span>Тариф «Ультра»</a></span></li></ul></li><li><span><a href=\"#Описание-данных\" data-toc-modified-id=\"Описание-данных-1.4\"><span class=\"toc-item-num\">1.4&nbsp;&nbsp;</span>Описание данных</a></span><ul class=\"toc-item\"><li><span><a href=\"#Таблица-users-(информация-о-пользователях):\" data-toc-modified-id=\"Таблица-users-(информация-о-пользователях):-1.4.1\"><span class=\"toc-item-num\">1.4.1&nbsp;&nbsp;</span>Таблица users (информация о пользователях):</a></span></li><li><span><a href=\"#Таблица-calls-(информация-о-звонках):\" data-toc-modified-id=\"Таблица-calls-(информация-о-звонках):-1.4.2\"><span class=\"toc-item-num\">1.4.2&nbsp;&nbsp;</span>Таблица calls (информация о звонках):</a></span></li><li><span><a href=\"#Таблица-messages-(информация-о-сообщениях):\" data-toc-modified-id=\"Таблица-messages-(информация-о-сообщениях):-1.4.3\"><span class=\"toc-item-num\">1.4.3&nbsp;&nbsp;</span>Таблица messages (информация о сообщениях):</a></span></li><li><span><a href=\"#Таблица-internet-(информация-об-интернет-сессиях):\" data-toc-modified-id=\"Таблица-internet-(информация-об-интернет-сессиях):-1.4.4\"><span class=\"toc-item-num\">1.4.4&nbsp;&nbsp;</span>Таблица internet (информация об интернет-сессиях):</a></span></li><li><span><a href=\"#Таблица-tariffs-(информация-о-тарифах):\" data-toc-modified-id=\"Таблица-tariffs-(информация-о-тарифах):-1.4.5\"><span class=\"toc-item-num\">1.4.5&nbsp;&nbsp;</span>Таблица tariffs (информация о тарифах):</a></span></li></ul></li></ul></li><li><span><a href=\"#Знакомство-с-данными-\" data-toc-modified-id=\"Знакомство-с-данными--2\"><span class=\"toc-item-num\">2&nbsp;&nbsp;</span>Знакомство с данными <a name=\"2\"></a></a></span></li><li><span><a href=\"#Подготовка-данных-\" data-toc-modified-id=\"Подготовка-данных--3\"><span class=\"toc-item-num\">3&nbsp;&nbsp;</span>Подготовка данных <a name=\"3\"></a></a></span><ul class=\"toc-item\"><li><span><a href=\"#Изменение-типов-\" data-toc-modified-id=\"Изменение-типов--3.1\"><span class=\"toc-item-num\">3.1&nbsp;&nbsp;</span>Изменение типов <a name=\"3_1\"></a></a></span></li><li><span><a href=\"#Обработка-пропусков-\" data-toc-modified-id=\"Обработка-пропусков--3.2\"><span class=\"toc-item-num\">3.2&nbsp;&nbsp;</span>Обработка пропусков <a name=\"3_2\"></a></a></span></li><li><span><a href=\"#Обработка-дублей-\" data-toc-modified-id=\"Обработка-дублей--3.3\"><span class=\"toc-item-num\">3.3&nbsp;&nbsp;</span>Обработка дублей <a name=\"3_3\"></a></a></span></li><li><span><a href=\"#Обработка-выбросов-\" data-toc-modified-id=\"Обработка-выбросов--3.4\"><span class=\"toc-item-num\">3.4&nbsp;&nbsp;</span>Обработка выбросов <a name=\"3_4\"></a></a></span></li></ul></li><li><span><a href=\"#Расчет-помесячной-выручки-\" data-toc-modified-id=\"Расчет-помесячной-выручки--4\"><span class=\"toc-item-num\">4&nbsp;&nbsp;</span>Расчет помесячной выручки <a name=\"3_5\"></a></a></span></li><li><span><a href=\"#Иследовательский-анализ-данных-\" data-toc-modified-id=\"Иследовательский-анализ-данных--5\"><span class=\"toc-item-num\">5&nbsp;&nbsp;</span>Иследовательский анализ данных <a name=\"4\"></a></a></span></li><li><span><a href=\"#Проверка-гипотез-\" data-toc-modified-id=\"Проверка-гипотез--6\"><span class=\"toc-item-num\">6&nbsp;&nbsp;</span>Проверка гипотез <a name=\"5\"></a></a></span><ul class=\"toc-item\"><li><span><a href=\"#Сравнение-выручки-по-тарифам-\" data-toc-modified-id=\"Сравнение-выручки-по-тарифам--6.1\"><span class=\"toc-item-num\">6.1&nbsp;&nbsp;</span>Сравнение выручки по тарифам <a name=\"5_1\"></a></a></span></li><li><span><a href=\"#Сравнение-выручки-по-Москве-и-остальным-регионам--\" data-toc-modified-id=\"Сравнение-выручки-по-Москве-и-остальным-регионам---6.2\"><span class=\"toc-item-num\">6.2&nbsp;&nbsp;</span>Сравнение выручки по Москве и остальным регионам  <a name=\"5_2\"></a></a></span></li></ul></li><li><span><a href=\"#Общий-вывод-\" data-toc-modified-id=\"Общий-вывод--7\"><span class=\"toc-item-num\">7&nbsp;&nbsp;</span>Общий вывод <a name=\"6\"></a></a></span></li></ul></div>"
   ]
  },
  {
   "cell_type": "markdown",
   "metadata": {},
   "source": [
    "## Описание проекта <a name=\"1\"></a>\n",
    "\n",
    "### Описание аналитической задачи\n",
    "\n",
    "Компания «Мегалайн» — федеральный оператор сотовой связи. Клиентам предлагают два тарифных плана: «Смарт» и «Ультра». Чтобы скорректировать рекламный бюджет, коммерческий департамент хочет понять, какой тариф приносит больше денег.\n",
    "Нам предстоит сделать предварительный анализ тарифов на небольшой выборке клиентов. В нашем распоряжении данные 500 пользователей «Мегалайна»: кто они, откуда, каким тарифом пользуются, сколько звонков и сообщений каждый отправил за 2018 год. Проанализируем поведение клиентов и сделаем вывод — какой тариф лучше.\n",
    "\n",
    "### Цель проекта\n",
    "\n",
    "Ставим перед собой цель вычислить годовую и среднюю выручку по пользователям для тарифов «Смарт» и «Ультра». Сравним полученные значения и определим, на чем лучше сфокусировать рекламный бюджет.\n",
    "\n",
    "### Описание тарифов\n",
    "«Мегалайн» всегда округляет вверх значения минут и мегабайтов. Если пользователь проговорил всего 1 секунду, в тарифе засчитывается целая минута.\n",
    "\n",
    "#### Тариф «Смарт»\n",
    "1. Ежемесячная плата: 550 рублей\n",
    "2. Включено 500 минут разговора, 50 сообщений и 15 Гб интернет-трафика\n",
    "3. Стоимость услуг сверх тарифного пакета:\n",
    "    * минута разговора: 3 рубля\n",
    "    * сообщение: 3 рубля\n",
    "    * 1 Гб интернет-трафика: 200 рублей\n",
    "    \n",
    "#### Тариф «Ультра»\n",
    "1. Ежемесячная плата: 1950 рублей\n",
    "2. Включено 3000 минут разговора, 1000 сообщений и 30 Гб интернет-трафика\n",
    "3. Стоимость услуг сверх тарифного пакета:\n",
    "    * минута разговора: 1 рубль\n",
    "    * сообщение: 1 рубль\n",
    "    * 1 Гб интернет-трафика: 150 рублей\n",
    "\n",
    "### Описание данных\n",
    "\n",
    "#### Таблица users (информация о пользователях):\n",
    "* user_id — уникальный идентификатор пользователя\n",
    "* first_name — имя пользователя\n",
    "* last_name — фамилия пользователя\n",
    "* age — возраст пользователя (годы)\n",
    "* reg_date — дата подключения тарифа (день, месяц, год)\n",
    "* churn_date — дата прекращения пользования тарифом (если значение пропущено, то тариф ещё действовал на момент выгрузки данных)\n",
    "* city — город проживания пользователя\n",
    "* tariff — название тарифного плана\n",
    "\n",
    "#### Таблица calls (информация о звонках):\n",
    "* id — уникальный номер звонка\n",
    "* call_date — дата звонка\n",
    "* duration — длительность звонка в минутах\n",
    "* user_id — идентификатор пользователя, сделавшего звонок\n",
    "\n",
    "#### Таблица messages (информация о сообщениях):\n",
    "* id — уникальный номер сообщения\n",
    "* message_date — дата сообщения\n",
    "* user_id — идентификатор пользователя, отправившего сообщение\n",
    "\n",
    "#### Таблица internet (информация об интернет-сессиях):\n",
    "* id — уникальный номер сессии\n",
    "* mb_used — объём потраченного за сессию интернет-трафика (в мегабайтах)\n",
    "* session_date — дата интернет-сессии\n",
    "* user_id — идентификатор пользователя\n",
    "\n",
    "#### Таблица tariffs (информация о тарифах):\n",
    "* tariff_name — название тарифа\n",
    "* rub_monthly_fee — ежемесячная абонентская плата в рублях\n",
    "* minutes_included — количество минут разговора в месяц, включённых в абонентскую плату\n",
    "* messages_included — количество сообщений в месяц, включённых в абонентскую плату\n",
    "* mb_per_month_included — объём интернет-трафика, включённого в абонентскую плату (в мегабайтах)\n",
    "* rub_per_minute — стоимость минуты разговора сверх тарифного пакета (например, если в тарифе 100 минут разговора в месяц, то со 101 минуты будет взиматься плата)\n",
    "* rub_per_message — стоимость отправки сообщения сверх тарифного пакета\n",
    "* rub_per_gb — стоимость дополнительного гигабайта интернет-трафика сверх тарифного пакета (1 гигабайт = 1024 мегабайта)"
   ]
  },
  {
   "cell_type": "markdown",
   "metadata": {},
   "source": [
    "## Знакомство с данными <a name=\"2\"></a>"
   ]
  },
  {
   "cell_type": "markdown",
   "metadata": {},
   "source": [
    "Импортируем нужные программные библиотеки, установим оформление графиков и заголовков."
   ]
  },
  {
   "cell_type": "code",
   "execution_count": 1,
   "metadata": {},
   "outputs": [],
   "source": [
    "import pandas as pd\n",
    "import matplotlib.pyplot as plt\n",
    "import seaborn as sns\n",
    "import numpy as np\n",
    "from collections import Counter\n",
    "from pymystem3 import Mystem\n",
    "from scipy import stats as st\n",
    "from IPython.display import display, Markdown\n",
    "\n",
    "sns.set()\n",
    "\n",
    "styles = [dict(selector=\"caption\", \n",
    "    props=[(\"text-align\", \"left\"),\n",
    "    (\"font-size\", \"150%\"),\n",
    "    (\"color\", 'black')])]"
   ]
  },
  {
   "cell_type": "markdown",
   "metadata": {},
   "source": [
    "Прочитаем наборы данных.\n",
    "\n",
    "Путь к файлам:\n",
    "* /datasets/calls.csv.\n",
    "* /datasets/internet.csv.\n",
    "* /datasets/messages.csv.\n",
    "* /datasets/tariffs.csv.\n",
    "* /datasets/users.csv.\n",
    "\n",
    "Посмотрим основную информацию по ним и получим их первые записи."
   ]
  },
  {
   "cell_type": "code",
   "execution_count": 2,
   "metadata": {
    "scrolled": false
   },
   "outputs": [
    {
     "data": {
      "text/markdown": [
       "#### USERS"
      ],
      "text/plain": [
       "<IPython.core.display.Markdown object>"
      ]
     },
     "metadata": {},
     "output_type": "display_data"
    },
    {
     "data": {
      "text/markdown": [
       "##### Основная информация о данных"
      ],
      "text/plain": [
       "<IPython.core.display.Markdown object>"
      ]
     },
     "metadata": {},
     "output_type": "display_data"
    },
    {
     "name": "stdout",
     "output_type": "stream",
     "text": [
      "<class 'pandas.core.frame.DataFrame'>\n",
      "RangeIndex: 500 entries, 0 to 499\n",
      "Data columns (total 8 columns):\n",
      "user_id       500 non-null int64\n",
      "age           500 non-null int64\n",
      "churn_date    38 non-null object\n",
      "city          500 non-null object\n",
      "first_name    500 non-null object\n",
      "last_name     500 non-null object\n",
      "reg_date      500 non-null object\n",
      "tariff        500 non-null object\n",
      "dtypes: int64(2), object(6)\n",
      "memory usage: 31.4+ KB\n"
     ]
    },
    {
     "data": {
      "text/markdown": [
       "##### Первые строки"
      ],
      "text/plain": [
       "<IPython.core.display.Markdown object>"
      ]
     },
     "metadata": {},
     "output_type": "display_data"
    },
    {
     "data": {
      "text/html": [
       "<div>\n",
       "<style scoped>\n",
       "    .dataframe tbody tr th:only-of-type {\n",
       "        vertical-align: middle;\n",
       "    }\n",
       "\n",
       "    .dataframe tbody tr th {\n",
       "        vertical-align: top;\n",
       "    }\n",
       "\n",
       "    .dataframe thead th {\n",
       "        text-align: right;\n",
       "    }\n",
       "</style>\n",
       "<table border=\"1\" class=\"dataframe\">\n",
       "  <thead>\n",
       "    <tr style=\"text-align: right;\">\n",
       "      <th></th>\n",
       "      <th>user_id</th>\n",
       "      <th>age</th>\n",
       "      <th>churn_date</th>\n",
       "      <th>city</th>\n",
       "      <th>first_name</th>\n",
       "      <th>last_name</th>\n",
       "      <th>reg_date</th>\n",
       "      <th>tariff</th>\n",
       "    </tr>\n",
       "  </thead>\n",
       "  <tbody>\n",
       "    <tr>\n",
       "      <td>0</td>\n",
       "      <td>1000</td>\n",
       "      <td>52</td>\n",
       "      <td>NaN</td>\n",
       "      <td>Краснодар</td>\n",
       "      <td>Рафаил</td>\n",
       "      <td>Верещагин</td>\n",
       "      <td>2018-05-25</td>\n",
       "      <td>ultra</td>\n",
       "    </tr>\n",
       "    <tr>\n",
       "      <td>1</td>\n",
       "      <td>1001</td>\n",
       "      <td>41</td>\n",
       "      <td>NaN</td>\n",
       "      <td>Москва</td>\n",
       "      <td>Иван</td>\n",
       "      <td>Ежов</td>\n",
       "      <td>2018-11-01</td>\n",
       "      <td>smart</td>\n",
       "    </tr>\n",
       "    <tr>\n",
       "      <td>2</td>\n",
       "      <td>1002</td>\n",
       "      <td>59</td>\n",
       "      <td>NaN</td>\n",
       "      <td>Стерлитамак</td>\n",
       "      <td>Евгений</td>\n",
       "      <td>Абрамович</td>\n",
       "      <td>2018-06-17</td>\n",
       "      <td>smart</td>\n",
       "    </tr>\n",
       "    <tr>\n",
       "      <td>3</td>\n",
       "      <td>1003</td>\n",
       "      <td>23</td>\n",
       "      <td>NaN</td>\n",
       "      <td>Москва</td>\n",
       "      <td>Белла</td>\n",
       "      <td>Белякова</td>\n",
       "      <td>2018-08-17</td>\n",
       "      <td>ultra</td>\n",
       "    </tr>\n",
       "    <tr>\n",
       "      <td>4</td>\n",
       "      <td>1004</td>\n",
       "      <td>68</td>\n",
       "      <td>NaN</td>\n",
       "      <td>Новокузнецк</td>\n",
       "      <td>Татьяна</td>\n",
       "      <td>Авдеенко</td>\n",
       "      <td>2018-05-14</td>\n",
       "      <td>ultra</td>\n",
       "    </tr>\n",
       "  </tbody>\n",
       "</table>\n",
       "</div>"
      ],
      "text/plain": [
       "   user_id  age churn_date         city first_name  last_name    reg_date  \\\n",
       "0     1000   52        NaN    Краснодар     Рафаил  Верещагин  2018-05-25   \n",
       "1     1001   41        NaN       Москва       Иван       Ежов  2018-11-01   \n",
       "2     1002   59        NaN  Стерлитамак    Евгений  Абрамович  2018-06-17   \n",
       "3     1003   23        NaN       Москва      Белла   Белякова  2018-08-17   \n",
       "4     1004   68        NaN  Новокузнецк    Татьяна   Авдеенко  2018-05-14   \n",
       "\n",
       "  tariff  \n",
       "0  ultra  \n",
       "1  smart  \n",
       "2  smart  \n",
       "3  ultra  \n",
       "4  ultra  "
      ]
     },
     "metadata": {},
     "output_type": "display_data"
    },
    {
     "data": {
      "text/markdown": [
       "#### CALLS"
      ],
      "text/plain": [
       "<IPython.core.display.Markdown object>"
      ]
     },
     "metadata": {},
     "output_type": "display_data"
    },
    {
     "data": {
      "text/markdown": [
       "##### Основная информация о данных"
      ],
      "text/plain": [
       "<IPython.core.display.Markdown object>"
      ]
     },
     "metadata": {},
     "output_type": "display_data"
    },
    {
     "name": "stdout",
     "output_type": "stream",
     "text": [
      "<class 'pandas.core.frame.DataFrame'>\n",
      "RangeIndex: 202607 entries, 0 to 202606\n",
      "Data columns (total 4 columns):\n",
      "id           202607 non-null object\n",
      "call_date    202607 non-null object\n",
      "duration     202607 non-null float64\n",
      "user_id      202607 non-null int64\n",
      "dtypes: float64(1), int64(1), object(2)\n",
      "memory usage: 6.2+ MB\n"
     ]
    },
    {
     "data": {
      "text/markdown": [
       "##### Первые строки"
      ],
      "text/plain": [
       "<IPython.core.display.Markdown object>"
      ]
     },
     "metadata": {},
     "output_type": "display_data"
    },
    {
     "data": {
      "text/html": [
       "<div>\n",
       "<style scoped>\n",
       "    .dataframe tbody tr th:only-of-type {\n",
       "        vertical-align: middle;\n",
       "    }\n",
       "\n",
       "    .dataframe tbody tr th {\n",
       "        vertical-align: top;\n",
       "    }\n",
       "\n",
       "    .dataframe thead th {\n",
       "        text-align: right;\n",
       "    }\n",
       "</style>\n",
       "<table border=\"1\" class=\"dataframe\">\n",
       "  <thead>\n",
       "    <tr style=\"text-align: right;\">\n",
       "      <th></th>\n",
       "      <th>id</th>\n",
       "      <th>call_date</th>\n",
       "      <th>duration</th>\n",
       "      <th>user_id</th>\n",
       "    </tr>\n",
       "  </thead>\n",
       "  <tbody>\n",
       "    <tr>\n",
       "      <td>0</td>\n",
       "      <td>1000_0</td>\n",
       "      <td>2018-07-25</td>\n",
       "      <td>0.00</td>\n",
       "      <td>1000</td>\n",
       "    </tr>\n",
       "    <tr>\n",
       "      <td>1</td>\n",
       "      <td>1000_1</td>\n",
       "      <td>2018-08-17</td>\n",
       "      <td>0.00</td>\n",
       "      <td>1000</td>\n",
       "    </tr>\n",
       "    <tr>\n",
       "      <td>2</td>\n",
       "      <td>1000_2</td>\n",
       "      <td>2018-06-11</td>\n",
       "      <td>2.85</td>\n",
       "      <td>1000</td>\n",
       "    </tr>\n",
       "    <tr>\n",
       "      <td>3</td>\n",
       "      <td>1000_3</td>\n",
       "      <td>2018-09-21</td>\n",
       "      <td>13.80</td>\n",
       "      <td>1000</td>\n",
       "    </tr>\n",
       "    <tr>\n",
       "      <td>4</td>\n",
       "      <td>1000_4</td>\n",
       "      <td>2018-12-15</td>\n",
       "      <td>5.18</td>\n",
       "      <td>1000</td>\n",
       "    </tr>\n",
       "  </tbody>\n",
       "</table>\n",
       "</div>"
      ],
      "text/plain": [
       "       id   call_date  duration  user_id\n",
       "0  1000_0  2018-07-25      0.00     1000\n",
       "1  1000_1  2018-08-17      0.00     1000\n",
       "2  1000_2  2018-06-11      2.85     1000\n",
       "3  1000_3  2018-09-21     13.80     1000\n",
       "4  1000_4  2018-12-15      5.18     1000"
      ]
     },
     "metadata": {},
     "output_type": "display_data"
    },
    {
     "data": {
      "text/markdown": [
       "#### INTERNET"
      ],
      "text/plain": [
       "<IPython.core.display.Markdown object>"
      ]
     },
     "metadata": {},
     "output_type": "display_data"
    },
    {
     "data": {
      "text/markdown": [
       "##### Основная информация о данных"
      ],
      "text/plain": [
       "<IPython.core.display.Markdown object>"
      ]
     },
     "metadata": {},
     "output_type": "display_data"
    },
    {
     "name": "stdout",
     "output_type": "stream",
     "text": [
      "<class 'pandas.core.frame.DataFrame'>\n",
      "RangeIndex: 149396 entries, 0 to 149395\n",
      "Data columns (total 5 columns):\n",
      "Unnamed: 0      149396 non-null int64\n",
      "id              149396 non-null object\n",
      "mb_used         149396 non-null float64\n",
      "session_date    149396 non-null object\n",
      "user_id         149396 non-null int64\n",
      "dtypes: float64(1), int64(2), object(2)\n",
      "memory usage: 5.7+ MB\n"
     ]
    },
    {
     "data": {
      "text/markdown": [
       "##### Первые строки"
      ],
      "text/plain": [
       "<IPython.core.display.Markdown object>"
      ]
     },
     "metadata": {},
     "output_type": "display_data"
    },
    {
     "data": {
      "text/html": [
       "<div>\n",
       "<style scoped>\n",
       "    .dataframe tbody tr th:only-of-type {\n",
       "        vertical-align: middle;\n",
       "    }\n",
       "\n",
       "    .dataframe tbody tr th {\n",
       "        vertical-align: top;\n",
       "    }\n",
       "\n",
       "    .dataframe thead th {\n",
       "        text-align: right;\n",
       "    }\n",
       "</style>\n",
       "<table border=\"1\" class=\"dataframe\">\n",
       "  <thead>\n",
       "    <tr style=\"text-align: right;\">\n",
       "      <th></th>\n",
       "      <th>Unnamed: 0</th>\n",
       "      <th>id</th>\n",
       "      <th>mb_used</th>\n",
       "      <th>session_date</th>\n",
       "      <th>user_id</th>\n",
       "    </tr>\n",
       "  </thead>\n",
       "  <tbody>\n",
       "    <tr>\n",
       "      <td>0</td>\n",
       "      <td>0</td>\n",
       "      <td>1000_0</td>\n",
       "      <td>112.95</td>\n",
       "      <td>2018-11-25</td>\n",
       "      <td>1000</td>\n",
       "    </tr>\n",
       "    <tr>\n",
       "      <td>1</td>\n",
       "      <td>1</td>\n",
       "      <td>1000_1</td>\n",
       "      <td>1052.81</td>\n",
       "      <td>2018-09-07</td>\n",
       "      <td>1000</td>\n",
       "    </tr>\n",
       "    <tr>\n",
       "      <td>2</td>\n",
       "      <td>2</td>\n",
       "      <td>1000_2</td>\n",
       "      <td>1197.26</td>\n",
       "      <td>2018-06-25</td>\n",
       "      <td>1000</td>\n",
       "    </tr>\n",
       "    <tr>\n",
       "      <td>3</td>\n",
       "      <td>3</td>\n",
       "      <td>1000_3</td>\n",
       "      <td>550.27</td>\n",
       "      <td>2018-08-22</td>\n",
       "      <td>1000</td>\n",
       "    </tr>\n",
       "    <tr>\n",
       "      <td>4</td>\n",
       "      <td>4</td>\n",
       "      <td>1000_4</td>\n",
       "      <td>302.56</td>\n",
       "      <td>2018-09-24</td>\n",
       "      <td>1000</td>\n",
       "    </tr>\n",
       "  </tbody>\n",
       "</table>\n",
       "</div>"
      ],
      "text/plain": [
       "   Unnamed: 0      id  mb_used session_date  user_id\n",
       "0           0  1000_0   112.95   2018-11-25     1000\n",
       "1           1  1000_1  1052.81   2018-09-07     1000\n",
       "2           2  1000_2  1197.26   2018-06-25     1000\n",
       "3           3  1000_3   550.27   2018-08-22     1000\n",
       "4           4  1000_4   302.56   2018-09-24     1000"
      ]
     },
     "metadata": {},
     "output_type": "display_data"
    },
    {
     "data": {
      "text/markdown": [
       "#### MESSAGES"
      ],
      "text/plain": [
       "<IPython.core.display.Markdown object>"
      ]
     },
     "metadata": {},
     "output_type": "display_data"
    },
    {
     "data": {
      "text/markdown": [
       "##### Основная информация о данных"
      ],
      "text/plain": [
       "<IPython.core.display.Markdown object>"
      ]
     },
     "metadata": {},
     "output_type": "display_data"
    },
    {
     "name": "stdout",
     "output_type": "stream",
     "text": [
      "<class 'pandas.core.frame.DataFrame'>\n",
      "RangeIndex: 123036 entries, 0 to 123035\n",
      "Data columns (total 3 columns):\n",
      "id              123036 non-null object\n",
      "message_date    123036 non-null object\n",
      "user_id         123036 non-null int64\n",
      "dtypes: int64(1), object(2)\n",
      "memory usage: 2.8+ MB\n"
     ]
    },
    {
     "data": {
      "text/markdown": [
       "##### Первые строки"
      ],
      "text/plain": [
       "<IPython.core.display.Markdown object>"
      ]
     },
     "metadata": {},
     "output_type": "display_data"
    },
    {
     "data": {
      "text/html": [
       "<div>\n",
       "<style scoped>\n",
       "    .dataframe tbody tr th:only-of-type {\n",
       "        vertical-align: middle;\n",
       "    }\n",
       "\n",
       "    .dataframe tbody tr th {\n",
       "        vertical-align: top;\n",
       "    }\n",
       "\n",
       "    .dataframe thead th {\n",
       "        text-align: right;\n",
       "    }\n",
       "</style>\n",
       "<table border=\"1\" class=\"dataframe\">\n",
       "  <thead>\n",
       "    <tr style=\"text-align: right;\">\n",
       "      <th></th>\n",
       "      <th>id</th>\n",
       "      <th>message_date</th>\n",
       "      <th>user_id</th>\n",
       "    </tr>\n",
       "  </thead>\n",
       "  <tbody>\n",
       "    <tr>\n",
       "      <td>0</td>\n",
       "      <td>1000_0</td>\n",
       "      <td>2018-06-27</td>\n",
       "      <td>1000</td>\n",
       "    </tr>\n",
       "    <tr>\n",
       "      <td>1</td>\n",
       "      <td>1000_1</td>\n",
       "      <td>2018-10-08</td>\n",
       "      <td>1000</td>\n",
       "    </tr>\n",
       "    <tr>\n",
       "      <td>2</td>\n",
       "      <td>1000_2</td>\n",
       "      <td>2018-08-04</td>\n",
       "      <td>1000</td>\n",
       "    </tr>\n",
       "    <tr>\n",
       "      <td>3</td>\n",
       "      <td>1000_3</td>\n",
       "      <td>2018-06-16</td>\n",
       "      <td>1000</td>\n",
       "    </tr>\n",
       "    <tr>\n",
       "      <td>4</td>\n",
       "      <td>1000_4</td>\n",
       "      <td>2018-12-05</td>\n",
       "      <td>1000</td>\n",
       "    </tr>\n",
       "  </tbody>\n",
       "</table>\n",
       "</div>"
      ],
      "text/plain": [
       "       id message_date  user_id\n",
       "0  1000_0   2018-06-27     1000\n",
       "1  1000_1   2018-10-08     1000\n",
       "2  1000_2   2018-08-04     1000\n",
       "3  1000_3   2018-06-16     1000\n",
       "4  1000_4   2018-12-05     1000"
      ]
     },
     "metadata": {},
     "output_type": "display_data"
    },
    {
     "data": {
      "text/markdown": [
       "#### TARIFFS"
      ],
      "text/plain": [
       "<IPython.core.display.Markdown object>"
      ]
     },
     "metadata": {},
     "output_type": "display_data"
    },
    {
     "data": {
      "text/markdown": [
       "##### Основная информация о данных"
      ],
      "text/plain": [
       "<IPython.core.display.Markdown object>"
      ]
     },
     "metadata": {},
     "output_type": "display_data"
    },
    {
     "name": "stdout",
     "output_type": "stream",
     "text": [
      "<class 'pandas.core.frame.DataFrame'>\n",
      "RangeIndex: 2 entries, 0 to 1\n",
      "Data columns (total 8 columns):\n",
      "messages_included        2 non-null int64\n",
      "mb_per_month_included    2 non-null int64\n",
      "minutes_included         2 non-null int64\n",
      "rub_monthly_fee          2 non-null int64\n",
      "rub_per_gb               2 non-null int64\n",
      "rub_per_message          2 non-null int64\n",
      "rub_per_minute           2 non-null int64\n",
      "tariff_name              2 non-null object\n",
      "dtypes: int64(7), object(1)\n",
      "memory usage: 256.0+ bytes\n"
     ]
    },
    {
     "data": {
      "text/markdown": [
       "##### Первые строки"
      ],
      "text/plain": [
       "<IPython.core.display.Markdown object>"
      ]
     },
     "metadata": {},
     "output_type": "display_data"
    },
    {
     "data": {
      "text/html": [
       "<div>\n",
       "<style scoped>\n",
       "    .dataframe tbody tr th:only-of-type {\n",
       "        vertical-align: middle;\n",
       "    }\n",
       "\n",
       "    .dataframe tbody tr th {\n",
       "        vertical-align: top;\n",
       "    }\n",
       "\n",
       "    .dataframe thead th {\n",
       "        text-align: right;\n",
       "    }\n",
       "</style>\n",
       "<table border=\"1\" class=\"dataframe\">\n",
       "  <thead>\n",
       "    <tr style=\"text-align: right;\">\n",
       "      <th></th>\n",
       "      <th>messages_included</th>\n",
       "      <th>mb_per_month_included</th>\n",
       "      <th>minutes_included</th>\n",
       "      <th>rub_monthly_fee</th>\n",
       "      <th>rub_per_gb</th>\n",
       "      <th>rub_per_message</th>\n",
       "      <th>rub_per_minute</th>\n",
       "      <th>tariff_name</th>\n",
       "    </tr>\n",
       "  </thead>\n",
       "  <tbody>\n",
       "    <tr>\n",
       "      <td>0</td>\n",
       "      <td>50</td>\n",
       "      <td>15360</td>\n",
       "      <td>500</td>\n",
       "      <td>550</td>\n",
       "      <td>200</td>\n",
       "      <td>3</td>\n",
       "      <td>3</td>\n",
       "      <td>smart</td>\n",
       "    </tr>\n",
       "    <tr>\n",
       "      <td>1</td>\n",
       "      <td>1000</td>\n",
       "      <td>30720</td>\n",
       "      <td>3000</td>\n",
       "      <td>1950</td>\n",
       "      <td>150</td>\n",
       "      <td>1</td>\n",
       "      <td>1</td>\n",
       "      <td>ultra</td>\n",
       "    </tr>\n",
       "  </tbody>\n",
       "</table>\n",
       "</div>"
      ],
      "text/plain": [
       "   messages_included  mb_per_month_included  minutes_included  \\\n",
       "0                 50                  15360               500   \n",
       "1               1000                  30720              3000   \n",
       "\n",
       "   rub_monthly_fee  rub_per_gb  rub_per_message  rub_per_minute tariff_name  \n",
       "0              550         200                3               3       smart  \n",
       "1             1950         150                1               1       ultra  "
      ]
     },
     "metadata": {},
     "output_type": "display_data"
    }
   ],
   "source": [
    "# Для удобства дальнейшей работы будем прочитанные датафреймы хранить в словаре.\n",
    "data_dict = dict.fromkeys(['users', 'calls', 'internet', 'messages', 'tariffs'])\n",
    "\n",
    "# Потом сравним использование памяти.\n",
    "usage_dict = data_dict.copy()\n",
    "\n",
    "for data_name in data_dict:\n",
    "    # Прочитаем\n",
    "    data_dict[data_name] = pd.read_csv(f'/datasets/{data_name}.csv')\n",
    "    \n",
    "    # Выведем основную информацию\n",
    "    display(Markdown(f'#### {data_name.upper()}'))    \n",
    "    display(Markdown(f'##### Основная информация о данных'))\n",
    "    data_dict[data_name].info()\n",
    "    usage_dict[data_name] = list()\n",
    "    value = data_dict[data_name].memory_usage(deep=True).sum()\n",
    "    usage_dict[data_name].append(value)\n",
    "    \n",
    "    # Выведем первые строки\n",
    "    display(Markdown(f'##### Первые строки'))\n",
    "    display(data_dict[data_name].head())\n",
    "    \n",
    "# Обозначим синонимы для таблиц с данными\n",
    "users, calls, internet, messages, tariffs = data_dict.values()"
   ]
  },
  {
   "cell_type": "markdown",
   "metadata": {},
   "source": [
    "Похоже, что в наборе данных INTERNET в безымянную колонку загрузились номера строк. Удалим.\n",
    "\n",
    "Обратим внимание, что в стобцах с идентификаторами id в таблицах CALLS, INTERNET, MESSAGES символы с подчеркиванием, например \"1240_372\". Предположим, что они позволяют однозначно идентифицировать пользователя и, например, сообщение в системе, из которой выгружали данные. Нам эта информация не понадобится для анализа, мы можем просто удалить эти столбцы, но вместо этого лучше заменить на значения индексов, чтобы дальше можно было различать звонки, интернет-сессии и сообщения."
   ]
  },
  {
   "cell_type": "code",
   "execution_count": 3,
   "metadata": {},
   "outputs": [],
   "source": [
    "internet.drop(internet.columns[[0]], axis='columns', inplace=True)\n",
    "calls['id'] = calls.index\n",
    "messages['id'] = messages.index\n",
    "internet['id'] = internet.index"
   ]
  },
  {
   "cell_type": "markdown",
   "metadata": {},
   "source": [
    "## Подготовка данных <a name=\"3\"></a>"
   ]
  },
  {
   "cell_type": "markdown",
   "metadata": {},
   "source": [
    "Приведем данные к нужным типам. \n",
    "\n",
    "Найдем и исправим ошибки в данных. Поясним, какие ошибки нашли и как их исправили. Обратим внимание, что длительность многих звонков — 0.0 минут. Это могут быть пропущенные звонки. Решим обрабатывать ли эти нулевые значения и оценим, как их отсутствие повлияет на результаты анализа."
   ]
  },
  {
   "cell_type": "markdown",
   "metadata": {},
   "source": [
    "### Изменение типов <a name=\"3_1\"></a>"
   ]
  },
  {
   "cell_type": "markdown",
   "metadata": {},
   "source": [
    "Получим сводку по статистическим значениям в наборах и количество уникальных значений. Эту информацию будем использовать в дальнейшем для оптимального подбора типов.\n",
    "\n",
    "Тип для числовых значений желательно должен быть целочисленным и позволять размещать максимальное значение. Для подобра будем использовать следующий список:\n",
    "* uint8\tUnsigned integer (0 to 255)\n",
    "* uint16\tUnsigned integer (0 to 65535)\n",
    "* uint32\tUnsigned integer (0 to 4294967295)\n",
    "\n",
    "По значениям с плавающей запятой.\n",
    "* float16 65500.0\n",
    "* float32 3.4028235e+38\n",
    "\n",
    "Для текстовых значений, если они варируются в пределах ограниченного списка значений, то преобразуем в категорию. Даты преобразуем в даты."
   ]
  },
  {
   "cell_type": "code",
   "execution_count": 4,
   "metadata": {
    "scrolled": true
   },
   "outputs": [
    {
     "data": {
      "text/markdown": [
       "#### USERS, количество колонок: 8"
      ],
      "text/plain": [
       "<IPython.core.display.Markdown object>"
      ]
     },
     "metadata": {},
     "output_type": "display_data"
    },
    {
     "data": {
      "text/markdown": [
       "##### Граничные численные значения"
      ],
      "text/plain": [
       "<IPython.core.display.Markdown object>"
      ]
     },
     "metadata": {},
     "output_type": "display_data"
    },
    {
     "data": {
      "text/html": [
       "<div>\n",
       "<style scoped>\n",
       "    .dataframe tbody tr th:only-of-type {\n",
       "        vertical-align: middle;\n",
       "    }\n",
       "\n",
       "    .dataframe tbody tr th {\n",
       "        vertical-align: top;\n",
       "    }\n",
       "\n",
       "    .dataframe thead th {\n",
       "        text-align: right;\n",
       "    }\n",
       "</style>\n",
       "<table border=\"1\" class=\"dataframe\">\n",
       "  <thead>\n",
       "    <tr style=\"text-align: right;\">\n",
       "      <th></th>\n",
       "      <th>user_id</th>\n",
       "      <th>age</th>\n",
       "    </tr>\n",
       "  </thead>\n",
       "  <tbody>\n",
       "    <tr>\n",
       "      <td>min</td>\n",
       "      <td>1000.0</td>\n",
       "      <td>18.0</td>\n",
       "    </tr>\n",
       "    <tr>\n",
       "      <td>max</td>\n",
       "      <td>1499.0</td>\n",
       "      <td>75.0</td>\n",
       "    </tr>\n",
       "  </tbody>\n",
       "</table>\n",
       "</div>"
      ],
      "text/plain": [
       "     user_id   age\n",
       "min   1000.0  18.0\n",
       "max   1499.0  75.0"
      ]
     },
     "metadata": {},
     "output_type": "display_data"
    },
    {
     "data": {
      "text/markdown": [
       "##### Количество уникальных строковых значений"
      ],
      "text/plain": [
       "<IPython.core.display.Markdown object>"
      ]
     },
     "metadata": {},
     "output_type": "display_data"
    },
    {
     "data": {
      "text/html": [
       "<div>\n",
       "<style scoped>\n",
       "    .dataframe tbody tr th:only-of-type {\n",
       "        vertical-align: middle;\n",
       "    }\n",
       "\n",
       "    .dataframe tbody tr th {\n",
       "        vertical-align: top;\n",
       "    }\n",
       "\n",
       "    .dataframe thead th {\n",
       "        text-align: right;\n",
       "    }\n",
       "</style>\n",
       "<table border=\"1\" class=\"dataframe\">\n",
       "  <thead>\n",
       "    <tr style=\"text-align: right;\">\n",
       "      <th></th>\n",
       "      <th>amount</th>\n",
       "    </tr>\n",
       "  </thead>\n",
       "  <tbody>\n",
       "    <tr>\n",
       "      <td>churn_date</td>\n",
       "      <td>33</td>\n",
       "    </tr>\n",
       "    <tr>\n",
       "      <td>city</td>\n",
       "      <td>76</td>\n",
       "    </tr>\n",
       "    <tr>\n",
       "      <td>first_name</td>\n",
       "      <td>246</td>\n",
       "    </tr>\n",
       "    <tr>\n",
       "      <td>last_name</td>\n",
       "      <td>419</td>\n",
       "    </tr>\n",
       "    <tr>\n",
       "      <td>reg_date</td>\n",
       "      <td>270</td>\n",
       "    </tr>\n",
       "    <tr>\n",
       "      <td>tariff</td>\n",
       "      <td>2</td>\n",
       "    </tr>\n",
       "  </tbody>\n",
       "</table>\n",
       "</div>"
      ],
      "text/plain": [
       "            amount\n",
       "churn_date      33\n",
       "city            76\n",
       "first_name     246\n",
       "last_name      419\n",
       "reg_date       270\n",
       "tariff           2"
      ]
     },
     "metadata": {},
     "output_type": "display_data"
    },
    {
     "data": {
      "text/markdown": [
       "#### CALLS, количество колонок: 4"
      ],
      "text/plain": [
       "<IPython.core.display.Markdown object>"
      ]
     },
     "metadata": {},
     "output_type": "display_data"
    },
    {
     "data": {
      "text/markdown": [
       "##### Граничные численные значения"
      ],
      "text/plain": [
       "<IPython.core.display.Markdown object>"
      ]
     },
     "metadata": {},
     "output_type": "display_data"
    },
    {
     "data": {
      "text/html": [
       "<div>\n",
       "<style scoped>\n",
       "    .dataframe tbody tr th:only-of-type {\n",
       "        vertical-align: middle;\n",
       "    }\n",
       "\n",
       "    .dataframe tbody tr th {\n",
       "        vertical-align: top;\n",
       "    }\n",
       "\n",
       "    .dataframe thead th {\n",
       "        text-align: right;\n",
       "    }\n",
       "</style>\n",
       "<table border=\"1\" class=\"dataframe\">\n",
       "  <thead>\n",
       "    <tr style=\"text-align: right;\">\n",
       "      <th></th>\n",
       "      <th>id</th>\n",
       "      <th>duration</th>\n",
       "      <th>user_id</th>\n",
       "    </tr>\n",
       "  </thead>\n",
       "  <tbody>\n",
       "    <tr>\n",
       "      <td>min</td>\n",
       "      <td>0.0</td>\n",
       "      <td>0.0</td>\n",
       "      <td>1000.0</td>\n",
       "    </tr>\n",
       "    <tr>\n",
       "      <td>max</td>\n",
       "      <td>202606.0</td>\n",
       "      <td>38.0</td>\n",
       "      <td>1499.0</td>\n",
       "    </tr>\n",
       "  </tbody>\n",
       "</table>\n",
       "</div>"
      ],
      "text/plain": [
       "           id  duration  user_id\n",
       "min       0.0       0.0   1000.0\n",
       "max  202606.0      38.0   1499.0"
      ]
     },
     "metadata": {},
     "output_type": "display_data"
    },
    {
     "data": {
      "text/markdown": [
       "##### Количество уникальных строковых значений"
      ],
      "text/plain": [
       "<IPython.core.display.Markdown object>"
      ]
     },
     "metadata": {},
     "output_type": "display_data"
    },
    {
     "data": {
      "text/html": [
       "<div>\n",
       "<style scoped>\n",
       "    .dataframe tbody tr th:only-of-type {\n",
       "        vertical-align: middle;\n",
       "    }\n",
       "\n",
       "    .dataframe tbody tr th {\n",
       "        vertical-align: top;\n",
       "    }\n",
       "\n",
       "    .dataframe thead th {\n",
       "        text-align: right;\n",
       "    }\n",
       "</style>\n",
       "<table border=\"1\" class=\"dataframe\">\n",
       "  <thead>\n",
       "    <tr style=\"text-align: right;\">\n",
       "      <th></th>\n",
       "      <th>amount</th>\n",
       "    </tr>\n",
       "  </thead>\n",
       "  <tbody>\n",
       "    <tr>\n",
       "      <td>call_date</td>\n",
       "      <td>365</td>\n",
       "    </tr>\n",
       "  </tbody>\n",
       "</table>\n",
       "</div>"
      ],
      "text/plain": [
       "           amount\n",
       "call_date     365"
      ]
     },
     "metadata": {},
     "output_type": "display_data"
    },
    {
     "data": {
      "text/markdown": [
       "#### INTERNET, количество колонок: 4"
      ],
      "text/plain": [
       "<IPython.core.display.Markdown object>"
      ]
     },
     "metadata": {},
     "output_type": "display_data"
    },
    {
     "data": {
      "text/markdown": [
       "##### Граничные численные значения"
      ],
      "text/plain": [
       "<IPython.core.display.Markdown object>"
      ]
     },
     "metadata": {},
     "output_type": "display_data"
    },
    {
     "data": {
      "text/html": [
       "<div>\n",
       "<style scoped>\n",
       "    .dataframe tbody tr th:only-of-type {\n",
       "        vertical-align: middle;\n",
       "    }\n",
       "\n",
       "    .dataframe tbody tr th {\n",
       "        vertical-align: top;\n",
       "    }\n",
       "\n",
       "    .dataframe thead th {\n",
       "        text-align: right;\n",
       "    }\n",
       "</style>\n",
       "<table border=\"1\" class=\"dataframe\">\n",
       "  <thead>\n",
       "    <tr style=\"text-align: right;\">\n",
       "      <th></th>\n",
       "      <th>id</th>\n",
       "      <th>mb_used</th>\n",
       "      <th>user_id</th>\n",
       "    </tr>\n",
       "  </thead>\n",
       "  <tbody>\n",
       "    <tr>\n",
       "      <td>min</td>\n",
       "      <td>0.0</td>\n",
       "      <td>0.00</td>\n",
       "      <td>1000.0</td>\n",
       "    </tr>\n",
       "    <tr>\n",
       "      <td>max</td>\n",
       "      <td>149395.0</td>\n",
       "      <td>1724.83</td>\n",
       "      <td>1499.0</td>\n",
       "    </tr>\n",
       "  </tbody>\n",
       "</table>\n",
       "</div>"
      ],
      "text/plain": [
       "           id  mb_used  user_id\n",
       "min       0.0     0.00   1000.0\n",
       "max  149395.0  1724.83   1499.0"
      ]
     },
     "metadata": {},
     "output_type": "display_data"
    },
    {
     "data": {
      "text/markdown": [
       "##### Количество уникальных строковых значений"
      ],
      "text/plain": [
       "<IPython.core.display.Markdown object>"
      ]
     },
     "metadata": {},
     "output_type": "display_data"
    },
    {
     "data": {
      "text/html": [
       "<div>\n",
       "<style scoped>\n",
       "    .dataframe tbody tr th:only-of-type {\n",
       "        vertical-align: middle;\n",
       "    }\n",
       "\n",
       "    .dataframe tbody tr th {\n",
       "        vertical-align: top;\n",
       "    }\n",
       "\n",
       "    .dataframe thead th {\n",
       "        text-align: right;\n",
       "    }\n",
       "</style>\n",
       "<table border=\"1\" class=\"dataframe\">\n",
       "  <thead>\n",
       "    <tr style=\"text-align: right;\">\n",
       "      <th></th>\n",
       "      <th>amount</th>\n",
       "    </tr>\n",
       "  </thead>\n",
       "  <tbody>\n",
       "    <tr>\n",
       "      <td>session_date</td>\n",
       "      <td>365</td>\n",
       "    </tr>\n",
       "  </tbody>\n",
       "</table>\n",
       "</div>"
      ],
      "text/plain": [
       "              amount\n",
       "session_date     365"
      ]
     },
     "metadata": {},
     "output_type": "display_data"
    },
    {
     "data": {
      "text/markdown": [
       "#### MESSAGES, количество колонок: 3"
      ],
      "text/plain": [
       "<IPython.core.display.Markdown object>"
      ]
     },
     "metadata": {},
     "output_type": "display_data"
    },
    {
     "data": {
      "text/markdown": [
       "##### Граничные численные значения"
      ],
      "text/plain": [
       "<IPython.core.display.Markdown object>"
      ]
     },
     "metadata": {},
     "output_type": "display_data"
    },
    {
     "data": {
      "text/html": [
       "<div>\n",
       "<style scoped>\n",
       "    .dataframe tbody tr th:only-of-type {\n",
       "        vertical-align: middle;\n",
       "    }\n",
       "\n",
       "    .dataframe tbody tr th {\n",
       "        vertical-align: top;\n",
       "    }\n",
       "\n",
       "    .dataframe thead th {\n",
       "        text-align: right;\n",
       "    }\n",
       "</style>\n",
       "<table border=\"1\" class=\"dataframe\">\n",
       "  <thead>\n",
       "    <tr style=\"text-align: right;\">\n",
       "      <th></th>\n",
       "      <th>id</th>\n",
       "      <th>user_id</th>\n",
       "    </tr>\n",
       "  </thead>\n",
       "  <tbody>\n",
       "    <tr>\n",
       "      <td>min</td>\n",
       "      <td>0.0</td>\n",
       "      <td>1000.0</td>\n",
       "    </tr>\n",
       "    <tr>\n",
       "      <td>max</td>\n",
       "      <td>123035.0</td>\n",
       "      <td>1499.0</td>\n",
       "    </tr>\n",
       "  </tbody>\n",
       "</table>\n",
       "</div>"
      ],
      "text/plain": [
       "           id  user_id\n",
       "min       0.0   1000.0\n",
       "max  123035.0   1499.0"
      ]
     },
     "metadata": {},
     "output_type": "display_data"
    },
    {
     "data": {
      "text/markdown": [
       "##### Количество уникальных строковых значений"
      ],
      "text/plain": [
       "<IPython.core.display.Markdown object>"
      ]
     },
     "metadata": {},
     "output_type": "display_data"
    },
    {
     "data": {
      "text/html": [
       "<div>\n",
       "<style scoped>\n",
       "    .dataframe tbody tr th:only-of-type {\n",
       "        vertical-align: middle;\n",
       "    }\n",
       "\n",
       "    .dataframe tbody tr th {\n",
       "        vertical-align: top;\n",
       "    }\n",
       "\n",
       "    .dataframe thead th {\n",
       "        text-align: right;\n",
       "    }\n",
       "</style>\n",
       "<table border=\"1\" class=\"dataframe\">\n",
       "  <thead>\n",
       "    <tr style=\"text-align: right;\">\n",
       "      <th></th>\n",
       "      <th>amount</th>\n",
       "    </tr>\n",
       "  </thead>\n",
       "  <tbody>\n",
       "    <tr>\n",
       "      <td>message_date</td>\n",
       "      <td>364</td>\n",
       "    </tr>\n",
       "  </tbody>\n",
       "</table>\n",
       "</div>"
      ],
      "text/plain": [
       "              amount\n",
       "message_date     364"
      ]
     },
     "metadata": {},
     "output_type": "display_data"
    },
    {
     "data": {
      "text/markdown": [
       "#### TARIFFS, количество колонок: 8"
      ],
      "text/plain": [
       "<IPython.core.display.Markdown object>"
      ]
     },
     "metadata": {},
     "output_type": "display_data"
    },
    {
     "data": {
      "text/markdown": [
       "##### Граничные численные значения"
      ],
      "text/plain": [
       "<IPython.core.display.Markdown object>"
      ]
     },
     "metadata": {},
     "output_type": "display_data"
    },
    {
     "data": {
      "text/html": [
       "<div>\n",
       "<style scoped>\n",
       "    .dataframe tbody tr th:only-of-type {\n",
       "        vertical-align: middle;\n",
       "    }\n",
       "\n",
       "    .dataframe tbody tr th {\n",
       "        vertical-align: top;\n",
       "    }\n",
       "\n",
       "    .dataframe thead th {\n",
       "        text-align: right;\n",
       "    }\n",
       "</style>\n",
       "<table border=\"1\" class=\"dataframe\">\n",
       "  <thead>\n",
       "    <tr style=\"text-align: right;\">\n",
       "      <th></th>\n",
       "      <th>messages_included</th>\n",
       "      <th>mb_per_month_included</th>\n",
       "      <th>minutes_included</th>\n",
       "      <th>rub_monthly_fee</th>\n",
       "      <th>rub_per_gb</th>\n",
       "      <th>rub_per_message</th>\n",
       "      <th>rub_per_minute</th>\n",
       "    </tr>\n",
       "  </thead>\n",
       "  <tbody>\n",
       "    <tr>\n",
       "      <td>min</td>\n",
       "      <td>50.0</td>\n",
       "      <td>15360.0</td>\n",
       "      <td>500.0</td>\n",
       "      <td>550.0</td>\n",
       "      <td>150.0</td>\n",
       "      <td>1.0</td>\n",
       "      <td>1.0</td>\n",
       "    </tr>\n",
       "    <tr>\n",
       "      <td>max</td>\n",
       "      <td>1000.0</td>\n",
       "      <td>30720.0</td>\n",
       "      <td>3000.0</td>\n",
       "      <td>1950.0</td>\n",
       "      <td>200.0</td>\n",
       "      <td>3.0</td>\n",
       "      <td>3.0</td>\n",
       "    </tr>\n",
       "  </tbody>\n",
       "</table>\n",
       "</div>"
      ],
      "text/plain": [
       "     messages_included  mb_per_month_included  minutes_included  \\\n",
       "min               50.0                15360.0             500.0   \n",
       "max             1000.0                30720.0            3000.0   \n",
       "\n",
       "     rub_monthly_fee  rub_per_gb  rub_per_message  rub_per_minute  \n",
       "min            550.0       150.0              1.0             1.0  \n",
       "max           1950.0       200.0              3.0             3.0  "
      ]
     },
     "metadata": {},
     "output_type": "display_data"
    },
    {
     "data": {
      "text/markdown": [
       "##### Количество уникальных строковых значений"
      ],
      "text/plain": [
       "<IPython.core.display.Markdown object>"
      ]
     },
     "metadata": {},
     "output_type": "display_data"
    },
    {
     "data": {
      "text/html": [
       "<div>\n",
       "<style scoped>\n",
       "    .dataframe tbody tr th:only-of-type {\n",
       "        vertical-align: middle;\n",
       "    }\n",
       "\n",
       "    .dataframe tbody tr th {\n",
       "        vertical-align: top;\n",
       "    }\n",
       "\n",
       "    .dataframe thead th {\n",
       "        text-align: right;\n",
       "    }\n",
       "</style>\n",
       "<table border=\"1\" class=\"dataframe\">\n",
       "  <thead>\n",
       "    <tr style=\"text-align: right;\">\n",
       "      <th></th>\n",
       "      <th>amount</th>\n",
       "    </tr>\n",
       "  </thead>\n",
       "  <tbody>\n",
       "    <tr>\n",
       "      <td>tariff_name</td>\n",
       "      <td>2</td>\n",
       "    </tr>\n",
       "  </tbody>\n",
       "</table>\n",
       "</div>"
      ],
      "text/plain": [
       "             amount\n",
       "tariff_name       2"
      ]
     },
     "metadata": {},
     "output_type": "display_data"
    }
   ],
   "source": [
    "for data_name in data_dict:\n",
    "    # Выведем название набора данных\n",
    "    display(Markdown(f'#### {data_name.upper()}, количество колонок: {len(data_dict[data_name].columns)}')) \n",
    "    \n",
    "    # Выведем минимальные и максимальные значения.\n",
    "    display(Markdown(f'##### Граничные численные значения'))\n",
    "    display(data_dict[data_name]\n",
    "           .describe() \\\n",
    "           .loc[['min', 'max']]\n",
    "          )\n",
    "    # Выведем количество уникальных значений\n",
    "    display(Markdown(f'##### Количество уникальных строковых значений'))\n",
    "    display(data_dict[data_name]\n",
    "           .select_dtypes(include = 'object') \\\n",
    "           .nunique() \\\n",
    "           .to_frame('amount')\n",
    "          )"
   ]
  },
  {
   "cell_type": "markdown",
   "metadata": {},
   "source": [
    "Изменим типы колонок и посмотрим как изменилась используемая память. Только фамилии не будем преобразовывать: количество различных близко к общему количеству, не будет выигрыша по памяти."
   ]
  },
  {
   "cell_type": "code",
   "execution_count": 5,
   "metadata": {
    "scrolled": true
   },
   "outputs": [
    {
     "data": {
      "text/markdown": [
       "##### Сравнение использования памяти до и после изменения типов в мегабайтах"
      ],
      "text/plain": [
       "<IPython.core.display.Markdown object>"
      ]
     },
     "metadata": {},
     "output_type": "display_data"
    },
    {
     "data": {
      "text/html": [
       "<style  type=\"text/css\" >\n",
       "</style><table id=\"T_22ddc022_12e6_11eb_aa0b_02420a399c9e\" ><thead>    <tr>        <th class=\"blank level0\" ></th>        <th class=\"col_heading level0 col0\" >users</th>        <th class=\"col_heading level0 col1\" >calls</th>        <th class=\"col_heading level0 col2\" >internet</th>        <th class=\"col_heading level0 col3\" >messages</th>        <th class=\"col_heading level0 col4\" >tariffs</th>        <th class=\"col_heading level0 col5\" >total</th>    </tr></thead><tbody>\n",
       "                <tr>\n",
       "                        <th id=\"T_22ddc022_12e6_11eb_aa0b_02420a399c9elevel0_row0\" class=\"row_heading level0 row0\" >before</th>\n",
       "                        <td id=\"T_22ddc022_12e6_11eb_aa0b_02420a399c9erow0_col0\" class=\"data row0 col0\" >0.22</td>\n",
       "                        <td id=\"T_22ddc022_12e6_11eb_aa0b_02420a399c9erow0_col1\" class=\"data row0 col1\" >28.55</td>\n",
       "                        <td id=\"T_22ddc022_12e6_11eb_aa0b_02420a399c9erow0_col2\" class=\"data row0 col2\" >22.18</td>\n",
       "                        <td id=\"T_22ddc022_12e6_11eb_aa0b_02420a399c9erow0_col3\" class=\"data row0 col3\" >16.39</td>\n",
       "                        <td id=\"T_22ddc022_12e6_11eb_aa0b_02420a399c9erow0_col4\" class=\"data row0 col4\" >0.00</td>\n",
       "                        <td id=\"T_22ddc022_12e6_11eb_aa0b_02420a399c9erow0_col5\" class=\"data row0 col5\" >67.34</td>\n",
       "            </tr>\n",
       "            <tr>\n",
       "                        <th id=\"T_22ddc022_12e6_11eb_aa0b_02420a399c9elevel0_row1\" class=\"row_heading level0 row1\" >after</th>\n",
       "                        <td id=\"T_22ddc022_12e6_11eb_aa0b_02420a399c9erow1_col0\" class=\"data row1 col0\" >0.25</td>\n",
       "                        <td id=\"T_22ddc022_12e6_11eb_aa0b_02420a399c9erow1_col1\" class=\"data row1 col1\" >17.58</td>\n",
       "                        <td id=\"T_22ddc022_12e6_11eb_aa0b_02420a399c9erow1_col2\" class=\"data row1 col2\" >12.97</td>\n",
       "                        <td id=\"T_22ddc022_12e6_11eb_aa0b_02420a399c9erow1_col3\" class=\"data row1 col3\" >9.74</td>\n",
       "                        <td id=\"T_22ddc022_12e6_11eb_aa0b_02420a399c9erow1_col4\" class=\"data row1 col4\" >0.00</td>\n",
       "                        <td id=\"T_22ddc022_12e6_11eb_aa0b_02420a399c9erow1_col5\" class=\"data row1 col5\" >40.53</td>\n",
       "            </tr>\n",
       "            <tr>\n",
       "                        <th id=\"T_22ddc022_12e6_11eb_aa0b_02420a399c9elevel0_row2\" class=\"row_heading level0 row2\" >difference</th>\n",
       "                        <td id=\"T_22ddc022_12e6_11eb_aa0b_02420a399c9erow2_col0\" class=\"data row2 col0\" >-0.02</td>\n",
       "                        <td id=\"T_22ddc022_12e6_11eb_aa0b_02420a399c9erow2_col1\" class=\"data row2 col1\" >10.97</td>\n",
       "                        <td id=\"T_22ddc022_12e6_11eb_aa0b_02420a399c9erow2_col2\" class=\"data row2 col2\" >9.21</td>\n",
       "                        <td id=\"T_22ddc022_12e6_11eb_aa0b_02420a399c9erow2_col3\" class=\"data row2 col3\" >6.65</td>\n",
       "                        <td id=\"T_22ddc022_12e6_11eb_aa0b_02420a399c9erow2_col4\" class=\"data row2 col4\" >0.00</td>\n",
       "                        <td id=\"T_22ddc022_12e6_11eb_aa0b_02420a399c9erow2_col5\" class=\"data row2 col5\" >26.81</td>\n",
       "            </tr>\n",
       "    </tbody></table>"
      ],
      "text/plain": [
       "<pandas.io.formats.style.Styler at 0x7f4ef299f910>"
      ]
     },
     "metadata": {},
     "output_type": "display_data"
    }
   ],
   "source": [
    "users = users.astype({\n",
    "                       'user_id': 'uint16',\n",
    "                       'age': 'uint8',\n",
    "                       'churn_date': 'datetime64[D]',\n",
    "                       'city': 'category',\n",
    "                       'first_name': 'category',\n",
    "                       'reg_date': 'datetime64[D]',\n",
    "                       'tariff': 'category'\n",
    "                                            })\n",
    "calls = calls.astype({\n",
    "                       'call_date': 'datetime64[D]',\n",
    "                       'duration': 'float16',\n",
    "                       'user_id': 'uint16'\n",
    "                                            })\n",
    "internet = internet.astype({\n",
    "                       'mb_used': 'float16',\n",
    "                       'session_date': 'datetime64[D]',\n",
    "                       'user_id': 'uint16'\n",
    "                                            })\n",
    "messages = messages.astype({\n",
    "                       'message_date': 'datetime64[D]',\n",
    "                       'user_id': 'uint16'\n",
    "                                            })\n",
    "tariffs = tariffs.astype({\n",
    "                       'messages_included': 'uint16',\n",
    "                       'mb_per_month_included': 'uint16',\n",
    "                       'minutes_included': 'uint16',\n",
    "                       'rub_monthly_fee': 'uint16',\n",
    "                       'rub_per_gb': 'uint16',\n",
    "                       'rub_per_message': 'uint16',\n",
    "                       'rub_per_minute': 'uint8',\n",
    "                       'tariff_name': 'category'\n",
    "                                            })\n",
    "\n",
    "for data_name in data_dict:\n",
    "    # Отдельно посчитаем используемую память\n",
    "    value = data_dict[data_name].memory_usage(deep=True).sum()\n",
    "    usage_dict[data_name].append(value)\n",
    "    \n",
    "usage_frame = pd.DataFrame(data=usage_dict, index=['before','after'])\n",
    "usage_frame['total'] =  usage_frame.sum(axis=1)\n",
    "usage_frame.loc['difference',:] = usage_frame.diff(-1).iloc[0]\n",
    "usage_frame/= 1024 * 1024\n",
    "\n",
    "display(Markdown(f'##### Сравнение использования памяти до и после изменения типов в мегабайтах'))\n",
    "display(usage_frame.style.format('{:,.2f}'))"
   ]
  },
  {
   "cell_type": "markdown",
   "metadata": {},
   "source": [
    "Использование памяти сократилось на 58 Мб, всего теперь используется 9 Мб."
   ]
  },
  {
   "cell_type": "markdown",
   "metadata": {},
   "source": [
    "### Обработка пропусков <a name=\"3_2\"></a>"
   ]
  },
  {
   "cell_type": "markdown",
   "metadata": {},
   "source": [
    "Единственные явные пропуски присутствуют в таблице USERS, столбец churn_date. Они означают, что тарифом еще пользуются. Нам эта информация понадобится при анализе помесечных параметров. Например, при расчете месячной выручки. Поскольку выгрузка за 2018 год, то заполним пропуски максимальной датой в этом году: 31.12.2018."
   ]
  },
  {
   "cell_type": "code",
   "execution_count": 6,
   "metadata": {},
   "outputs": [
    {
     "data": {
      "text/markdown": [
       "*Количество оставшихся пропусков*"
      ],
      "text/plain": [
       "<IPython.core.display.Markdown object>"
      ]
     },
     "metadata": {},
     "output_type": "display_data"
    },
    {
     "data": {
      "text/plain": [
       "0"
      ]
     },
     "execution_count": 6,
     "metadata": {},
     "output_type": "execute_result"
    }
   ],
   "source": [
    "users['churn_date'].fillna(pd.Timestamp('20181231'), inplace=True)\n",
    "display(Markdown(f'*Количество оставшихся пропусков*'))\n",
    "users['churn_date'].isnull().sum()"
   ]
  },
  {
   "cell_type": "markdown",
   "metadata": {},
   "source": [
    "### Обработка дублей <a name=\"3_3\"></a>"
   ]
  },
  {
   "cell_type": "markdown",
   "metadata": {},
   "source": [
    "Проверим наличие полных дублей в данных."
   ]
  },
  {
   "cell_type": "code",
   "execution_count": 7,
   "metadata": {
    "scrolled": true
   },
   "outputs": [
    {
     "data": {
      "text/markdown": [
       "**Количество обнаруженных дублей в наборе**"
      ],
      "text/plain": [
       "<IPython.core.display.Markdown object>"
      ]
     },
     "metadata": {},
     "output_type": "display_data"
    },
    {
     "data": {
      "text/markdown": [
       "USERS: 0"
      ],
      "text/plain": [
       "<IPython.core.display.Markdown object>"
      ]
     },
     "metadata": {},
     "output_type": "display_data"
    },
    {
     "data": {
      "text/markdown": [
       "CALLS: 0"
      ],
      "text/plain": [
       "<IPython.core.display.Markdown object>"
      ]
     },
     "metadata": {},
     "output_type": "display_data"
    },
    {
     "data": {
      "text/markdown": [
       "INTERNET: 0"
      ],
      "text/plain": [
       "<IPython.core.display.Markdown object>"
      ]
     },
     "metadata": {},
     "output_type": "display_data"
    },
    {
     "data": {
      "text/markdown": [
       "MESSAGES: 0"
      ],
      "text/plain": [
       "<IPython.core.display.Markdown object>"
      ]
     },
     "metadata": {},
     "output_type": "display_data"
    },
    {
     "data": {
      "text/markdown": [
       "TARIFFS: 0"
      ],
      "text/plain": [
       "<IPython.core.display.Markdown object>"
      ]
     },
     "metadata": {},
     "output_type": "display_data"
    }
   ],
   "source": [
    "display(Markdown('**Количество обнаруженных дублей в наборе**'))\n",
    "for data_name in data_dict:\n",
    "    duplicates = data_dict[data_name].duplicated().sum()\n",
    "    display(Markdown(f'{data_name.upper()}: {duplicates}'))"
   ]
  },
  {
   "cell_type": "markdown",
   "metadata": {},
   "source": [
    "### Обработка выбросов <a name=\"3_4\"></a>"
   ]
  },
  {
   "cell_type": "markdown",
   "metadata": {},
   "source": [
    "Построим диаграммы распределения для звонков, интернет-сессий. Отдельно покажем красными маркерами сколько было нулевых звонков и интернет-сессий. Отобразим 99,5%-персентили зелеными маркерами."
   ]
  },
  {
   "cell_type": "code",
   "execution_count": 8,
   "metadata": {},
   "outputs": [
    {
     "data": {
      "image/png": "[encoded data removed]",
      "text/plain": [
       "<Figure size 864x648 with 2 Axes>"
      ]
     },
     "metadata": {},
     "output_type": "display_data"
    }
   ],
   "source": [
    "_, axes = plt.subplots(nrows=2, ncols=1, figsize=(12, 9))\n",
    "\n",
    "calls[['duration']].hist(bins=50, ax=axes[0])\n",
    "\n",
    "axes[0].set_title('Гистограмма распределения звонков')\n",
    "axes[0].set_xlabel('Длительность звонков в минутах')\n",
    "axes[0].set_ylabel('Количество звонков')\n",
    "\n",
    "zero_calls = len(calls[calls['duration'] == 0])\n",
    "axes[0].plot([0], [zero_calls], marker='o', markersize=10, color=\"red\")\n",
    "axes[0].text(1, zero_calls, f'Количество нулевых звонков: {zero_calls}', color=\"red\")\n",
    "\n",
    "q_calls = calls['duration'].quantile(q=.995)\n",
    "num_q_calls = calls[calls['duration'] == q_calls].shape[0]\n",
    "axes[0].plot([q_calls], [num_q_calls + 2000], marker='v', markersize=10, color=\"green\")\n",
    "axes[0].text(q_calls + 1, num_q_calls + 2000,\n",
    "    f'0,5%: {num_q_calls} звонков больше {q_calls:.0f} мин.', color=\"green\")\n",
    "\n",
    "\n",
    "internet[['mb_used']].hist(bins=50, ax=axes[1])\n",
    "\n",
    "axes[1].set_title('Гистограмма распределения для интернета')\n",
    "axes[1].set_xlabel('Объём потраченного за сессию интернет-трафика (в мегабайтах)')\n",
    "axes[1].set_ylabel('Количество интернет-сессий')\n",
    "\n",
    "zero_int = len(internet[internet['mb_used'] == 0])\n",
    "axes[1].plot([0], [zero_int], marker='o', markersize=10, color=\"red\")\n",
    "axes[1].text(50, zero_int, f'Количество нулевых интернет-сессий: {zero_int}', color=\"red\")\n",
    "\n",
    "q_int = internet['mb_used'].quantile(q=.995)\n",
    "num_q_int = internet[internet['mb_used'] == q_int].shape[0]\n",
    "axes[1].plot([q_int], [num_q_int + 1000], marker='v', markersize=10, color=\"green\")\n",
    "axes[1].text(q_int + 50, num_q_int + 1000,\n",
    "    f'0,5%: {num_q_int} сессий больше {q_int:.0f} Мб', color=\"green\");"
   ]
  },
  {
   "cell_type": "markdown",
   "metadata": {},
   "source": [
    "Видим нулевые выбросы. Точная их природа нам не известна, можем предполагать, что в набор попали ситуации, когда соединение было установлено, но звонка или интернет-сессии не состоялось, услуга не была оказана. Вероятно, такая особенность работы билинговой системы, чтобы фиксировать такие нулевые соединения.\n",
    "\n",
    "Полагаем, что за нулевые звонки или интернет-сессии клиентам не были выставлены счета, а цель нашего исследования анализ выручки. Поэтому, чтобы не вносить искажения в финансовые показатели по тарифам, мы отбросим нулевые выбросы.  \n",
    "\n",
    "Очень длинные хвосты укоротим. Их вклад в годовую выручку: 6 Гб и 2,5 часа, сравнительно мал, но их отсутствие позволит более компактно отображать распределения и такие редкие случаи плохо характеризуют общую ситуацию все равно."
   ]
  },
  {
   "cell_type": "code",
   "execution_count": 9,
   "metadata": {},
   "outputs": [],
   "source": [
    "drop_calls = (calls['duration'] == 0) \\\n",
    "        | (calls['duration'] > q_calls)\n",
    "calls = calls[~drop_calls]\n",
    "\n",
    "drop_int = (internet['mb_used'] == 0) \\\n",
    "        | (internet['mb_used'] > q_int)\n",
    "internet = internet[~drop_int]"
   ]
  },
  {
   "cell_type": "markdown",
   "metadata": {},
   "source": [
    "## Расчет помесячной выручки <a name=\"3_5\"></a>"
   ]
  },
  {
   "cell_type": "markdown",
   "metadata": {},
   "source": [
    "Посчитаем для каждого пользователя:\n",
    "* количество сделанных звонков и израсходованных минут разговора по месяцам;\n",
    "* количество отправленных сообщений по месяцам;\n",
    "* объем израсходованного интернет-трафика по месяцам;\n",
    "* помесячную выручку с каждого пользователя (вычтем бесплатный лимит из суммарного количества звонков, сообщений и интернет-трафика; остаток умножим на значение из тарифного плана; прибавим абонентскую плату, соответствующую тарифному плану).\n",
    "\n",
    "Все сведения будем собирать в один датафрейм. Для дальнейшего анализа добавим признак, что город пользователя столица Москва.\n",
    "\n",
    "При соединении данных по услугам будут возникать пропуски или нули. Такое может получиться, потому что какими-то услугами не пользовались в течении месяца. Например, были звонки, но не пользовались интернетом. Или пользовались интернетом, но не было сообщений."
   ]
  },
  {
   "cell_type": "code",
   "execution_count": 10,
   "metadata": {},
   "outputs": [
    {
     "data": {
      "text/html": [
       "<style  type=\"text/css\" >\n",
       "    #T_2450a348_12e6_11eb_aa0b_02420a399c9e caption {\n",
       "          text-align: left;\n",
       "          font-size: 150%;\n",
       "          color: black;\n",
       "    }</style><table id=\"T_2450a348_12e6_11eb_aa0b_02420a399c9e\" ><caption>Выручка по клиентам и месяцам</caption><thead>    <tr>        <th class=\"blank level0\" ></th>        <th class=\"col_heading level0 col0\" >user_id</th>        <th class=\"col_heading level0 col1\" >month</th>        <th class=\"col_heading level0 col2\" >calls_used</th>        <th class=\"col_heading level0 col3\" >minutes_used</th>        <th class=\"col_heading level0 col4\" >sms_used</th>        <th class=\"col_heading level0 col5\" >mb_used</th>        <th class=\"col_heading level0 col6\" >revenue</th>        <th class=\"col_heading level0 col7\" >tariff</th>        <th class=\"col_heading level0 col8\" >is_capital</th>    </tr></thead><tbody>\n",
       "                <tr>\n",
       "                        <th id=\"T_2450a348_12e6_11eb_aa0b_02420a399c9elevel0_row0\" class=\"row_heading level0 row0\" >0</th>\n",
       "                        <td id=\"T_2450a348_12e6_11eb_aa0b_02420a399c9erow0_col0\" class=\"data row0 col0\" >1000</td>\n",
       "                        <td id=\"T_2450a348_12e6_11eb_aa0b_02420a399c9erow0_col1\" class=\"data row0 col1\" >5</td>\n",
       "                        <td id=\"T_2450a348_12e6_11eb_aa0b_02420a399c9erow0_col2\" class=\"data row0 col2\" >17</td>\n",
       "                        <td id=\"T_2450a348_12e6_11eb_aa0b_02420a399c9erow0_col3\" class=\"data row0 col3\" >150</td>\n",
       "                        <td id=\"T_2450a348_12e6_11eb_aa0b_02420a399c9erow0_col4\" class=\"data row0 col4\" >22</td>\n",
       "                        <td id=\"T_2450a348_12e6_11eb_aa0b_02420a399c9erow0_col5\" class=\"data row0 col5\" >2254</td>\n",
       "                        <td id=\"T_2450a348_12e6_11eb_aa0b_02420a399c9erow0_col6\" class=\"data row0 col6\" >1950</td>\n",
       "                        <td id=\"T_2450a348_12e6_11eb_aa0b_02420a399c9erow0_col7\" class=\"data row0 col7\" >ultra</td>\n",
       "                        <td id=\"T_2450a348_12e6_11eb_aa0b_02420a399c9erow0_col8\" class=\"data row0 col8\" >False</td>\n",
       "            </tr>\n",
       "            <tr>\n",
       "                        <th id=\"T_2450a348_12e6_11eb_aa0b_02420a399c9elevel0_row1\" class=\"row_heading level0 row1\" >1</th>\n",
       "                        <td id=\"T_2450a348_12e6_11eb_aa0b_02420a399c9erow1_col0\" class=\"data row1 col0\" >1000</td>\n",
       "                        <td id=\"T_2450a348_12e6_11eb_aa0b_02420a399c9erow1_col1\" class=\"data row1 col1\" >6</td>\n",
       "                        <td id=\"T_2450a348_12e6_11eb_aa0b_02420a399c9erow1_col2\" class=\"data row1 col2\" >28</td>\n",
       "                        <td id=\"T_2450a348_12e6_11eb_aa0b_02420a399c9erow1_col3\" class=\"data row1 col3\" >158</td>\n",
       "                        <td id=\"T_2450a348_12e6_11eb_aa0b_02420a399c9erow1_col4\" class=\"data row1 col4\" >60</td>\n",
       "                        <td id=\"T_2450a348_12e6_11eb_aa0b_02420a399c9erow1_col5\" class=\"data row1 col5\" >22032</td>\n",
       "                        <td id=\"T_2450a348_12e6_11eb_aa0b_02420a399c9erow1_col6\" class=\"data row1 col6\" >1950</td>\n",
       "                        <td id=\"T_2450a348_12e6_11eb_aa0b_02420a399c9erow1_col7\" class=\"data row1 col7\" >ultra</td>\n",
       "                        <td id=\"T_2450a348_12e6_11eb_aa0b_02420a399c9erow1_col8\" class=\"data row1 col8\" >False</td>\n",
       "            </tr>\n",
       "            <tr>\n",
       "                        <th id=\"T_2450a348_12e6_11eb_aa0b_02420a399c9elevel0_row2\" class=\"row_heading level0 row2\" >2</th>\n",
       "                        <td id=\"T_2450a348_12e6_11eb_aa0b_02420a399c9erow2_col0\" class=\"data row2 col0\" >1000</td>\n",
       "                        <td id=\"T_2450a348_12e6_11eb_aa0b_02420a399c9erow2_col1\" class=\"data row2 col1\" >7</td>\n",
       "                        <td id=\"T_2450a348_12e6_11eb_aa0b_02420a399c9erow2_col2\" class=\"data row2 col2\" >41</td>\n",
       "                        <td id=\"T_2450a348_12e6_11eb_aa0b_02420a399c9erow2_col3\" class=\"data row2 col3\" >318</td>\n",
       "                        <td id=\"T_2450a348_12e6_11eb_aa0b_02420a399c9erow2_col4\" class=\"data row2 col4\" >75</td>\n",
       "                        <td id=\"T_2450a348_12e6_11eb_aa0b_02420a399c9erow2_col5\" class=\"data row2 col5\" >14008</td>\n",
       "                        <td id=\"T_2450a348_12e6_11eb_aa0b_02420a399c9erow2_col6\" class=\"data row2 col6\" >1950</td>\n",
       "                        <td id=\"T_2450a348_12e6_11eb_aa0b_02420a399c9erow2_col7\" class=\"data row2 col7\" >ultra</td>\n",
       "                        <td id=\"T_2450a348_12e6_11eb_aa0b_02420a399c9erow2_col8\" class=\"data row2 col8\" >False</td>\n",
       "            </tr>\n",
       "            <tr>\n",
       "                        <th id=\"T_2450a348_12e6_11eb_aa0b_02420a399c9elevel0_row3\" class=\"row_heading level0 row3\" >3</th>\n",
       "                        <td id=\"T_2450a348_12e6_11eb_aa0b_02420a399c9erow3_col0\" class=\"data row3 col0\" >1000</td>\n",
       "                        <td id=\"T_2450a348_12e6_11eb_aa0b_02420a399c9erow3_col1\" class=\"data row3 col1\" >8</td>\n",
       "                        <td id=\"T_2450a348_12e6_11eb_aa0b_02420a399c9erow3_col2\" class=\"data row3 col2\" >42</td>\n",
       "                        <td id=\"T_2450a348_12e6_11eb_aa0b_02420a399c9erow3_col3\" class=\"data row3 col3\" >390</td>\n",
       "                        <td id=\"T_2450a348_12e6_11eb_aa0b_02420a399c9erow3_col4\" class=\"data row3 col4\" >81</td>\n",
       "                        <td id=\"T_2450a348_12e6_11eb_aa0b_02420a399c9erow3_col5\" class=\"data row3 col5\" >14056</td>\n",
       "                        <td id=\"T_2450a348_12e6_11eb_aa0b_02420a399c9erow3_col6\" class=\"data row3 col6\" >1950</td>\n",
       "                        <td id=\"T_2450a348_12e6_11eb_aa0b_02420a399c9erow3_col7\" class=\"data row3 col7\" >ultra</td>\n",
       "                        <td id=\"T_2450a348_12e6_11eb_aa0b_02420a399c9erow3_col8\" class=\"data row3 col8\" >False</td>\n",
       "            </tr>\n",
       "            <tr>\n",
       "                        <th id=\"T_2450a348_12e6_11eb_aa0b_02420a399c9elevel0_row4\" class=\"row_heading level0 row4\" >4</th>\n",
       "                        <td id=\"T_2450a348_12e6_11eb_aa0b_02420a399c9erow4_col0\" class=\"data row4 col0\" >1000</td>\n",
       "                        <td id=\"T_2450a348_12e6_11eb_aa0b_02420a399c9erow4_col1\" class=\"data row4 col1\" >9</td>\n",
       "                        <td id=\"T_2450a348_12e6_11eb_aa0b_02420a399c9erow4_col2\" class=\"data row4 col2\" >46</td>\n",
       "                        <td id=\"T_2450a348_12e6_11eb_aa0b_02420a399c9erow4_col3\" class=\"data row4 col3\" >440</td>\n",
       "                        <td id=\"T_2450a348_12e6_11eb_aa0b_02420a399c9erow4_col4\" class=\"data row4 col4\" >57</td>\n",
       "                        <td id=\"T_2450a348_12e6_11eb_aa0b_02420a399c9erow4_col5\" class=\"data row4 col5\" >14568</td>\n",
       "                        <td id=\"T_2450a348_12e6_11eb_aa0b_02420a399c9erow4_col6\" class=\"data row4 col6\" >1950</td>\n",
       "                        <td id=\"T_2450a348_12e6_11eb_aa0b_02420a399c9erow4_col7\" class=\"data row4 col7\" >ultra</td>\n",
       "                        <td id=\"T_2450a348_12e6_11eb_aa0b_02420a399c9erow4_col8\" class=\"data row4 col8\" >False</td>\n",
       "            </tr>\n",
       "    </tbody></table>"
      ],
      "text/plain": [
       "<pandas.io.formats.style.Styler at 0x7f4ed41d9190>"
      ]
     },
     "metadata": {},
     "output_type": "display_data"
    }
   ],
   "source": [
    "# Добавим колонки с месяцами\n",
    "calls['month'] = calls['call_date'].dt.month\n",
    "messages['month'] = messages['message_date'].dt.month\n",
    "internet['month'] = internet['session_date'].dt.month\n",
    "\n",
    "# Выберем нужные столбцы в услугах\n",
    "t_calls = calls[['user_id','month', 'duration']]\n",
    "t_messages = messages[['user_id','month', 'id']]\n",
    "t_internet = internet[['user_id','month', 'mb_used']]\n",
    "\n",
    "# Установим индексы для соединения\n",
    "t_calls.set_index(['user_id','month'], inplace=True)\n",
    "t_messages.set_index(['user_id','month'], inplace=True)\n",
    "t_internet.set_index(['user_id','month'], inplace=True)\n",
    "\n",
    "# Объединим в единый набор данных по услугам\n",
    "services = pd.concat([t_calls, t_messages, t_internet], sort=False)\n",
    "\n",
    "# Так как объединили записи, но еще не группировали, то заполним пропуски нулями\n",
    "services.fillna(0)\n",
    "\n",
    "# Теперь сгруппируем и переименуем столбцы\n",
    "agg_dict = {'duration':['sum','count'], 'id':'count', 'mb_used': 'sum'}\n",
    "services = services.groupby(by=['user_id', 'month']).agg(agg_dict)\n",
    "services.columns = services.columns.map('_'.join).str.strip('_')\n",
    "new_columns = ['minutes_used', 'calls_used', 'sms_used', 'mb_used']\n",
    "services.set_axis(new_columns, axis=1, inplace=True)\n",
    "\n",
    "# Выберем нужные столбцы сведений по пользователям\n",
    "t_users = users[['user_id', 'city', 'tariff']]\n",
    "\n",
    "# Установим индекс для соединения\n",
    "t_users.set_index('user_id', inplace=True)\n",
    "\n",
    "# Добавим сведения по пользователям\n",
    "services = services.join(t_users)\n",
    "\n",
    "# Проставим признак, что пользователь из Москвы\n",
    "services['is_capital'] = services['city'] == 'Москва'\n",
    "\n",
    "# Выберем нужные стобцы по тарифам\n",
    "t_tariffs = tariffs[['rub_monthly_fee',\n",
    "                     'tariff_name',\n",
    "                     'rub_per_minute',\n",
    "                     'minutes_included',\n",
    "                     'messages_included',\n",
    "                     'rub_per_message',\n",
    "                     'mb_per_month_included',\n",
    "                     'rub_per_gb']]\n",
    "\n",
    "# Переименуем колонку для дальнейшего соединения\n",
    "t_tariffs.rename(columns={'tariff_name':'tariff'}, inplace=True)\n",
    "\n",
    "# Установим индексы для соединения\n",
    "t_tariffs.set_index('tariff', inplace=True)\n",
    "\n",
    "# Добавим сведения по тарифам\n",
    "services = services.join(t_tariffs, on='tariff')\n",
    "\n",
    "# Найдем разницу между использованными услугами и включенными\n",
    "services['calls_revenue'] = services['minutes_used'] - services['minutes_included']\n",
    "services['sms_revenue'] = services['sms_used'] - services['messages_included']\n",
    "services['int_revenue'] = services['mb_used'] - services['mb_per_month_included']\n",
    "\n",
    "# Оставим только положительные значения, так как это разница со включенными услугами, остальные обнулим\n",
    "services.loc[services['calls_revenue'] < 0, 'calls_revenue'] = 0\n",
    "services.loc[services['sms_revenue'] < 0, 'sms_revenue'] = 0\n",
    "services.loc[services['int_revenue'] < 0, 'int_revenue'] = 0\n",
    "\n",
    "# Доведем интернет-услуги до гигабайтов\n",
    "services['int_revenue'] /= 1024\n",
    "\n",
    "# Домножим на тарифы\n",
    "services['calls_revenue'] *= services['rub_per_minute']\n",
    "services['sms_revenue'] *= services['rub_per_message']\n",
    "services['int_revenue'] *= services['rub_per_gb']\n",
    "\n",
    "# Рассчитаем полную выручку по месяцам добавив фиксированную часть\n",
    "services['revenue'] = services['rub_monthly_fee'] \\\n",
    "                    + services['calls_revenue'] \\\n",
    "                    + services['sms_revenue'] \\\n",
    "                    + services['int_revenue']\n",
    "\n",
    "# Оставим только нужные столбцы\n",
    "revenues = services[['calls_used', 'minutes_used',\n",
    "                     'sms_used', 'mb_used',\n",
    "                     'revenue', 'tariff', 'is_capital']]\n",
    "\n",
    "revenues.reset_index(inplace=True)\n",
    "\n",
    "# Приведем к минимальным типам\n",
    "revenues = revenues.astype({\n",
    "                       'user_id': 'uint16',\n",
    "                       'month': 'uint8',\n",
    "                       'calls_used': 'uint16',\n",
    "                       'minutes_used': 'uint16',\n",
    "                       'sms_used': 'uint16',\n",
    "                       'mb_used': 'uint32',\n",
    "                       'revenue': 'uint32'\n",
    "                                            })\n",
    "# Удалим вспомогательные объекты\n",
    "del t_calls, t_messages, t_internet, t_users, t_tariffs, services\n",
    "\n",
    "display(revenues\n",
    "        .head() \\\n",
    "        .style \\\n",
    "        .set_caption('Выручка по клиентам и месяцам') \\\n",
    "        .set_table_styles(styles)\n",
    "       )"
   ]
  },
  {
   "cell_type": "markdown",
   "metadata": {},
   "source": [
    "## Иследовательский анализ данных <a name=\"4\"></a>"
   ]
  },
  {
   "cell_type": "markdown",
   "metadata": {},
   "source": [
    "Опишем поведение клиентов оператора, исходя из выборки. Сколько минут разговора, сколько сообщений и какой объём интернет-трафика требуется пользователям каждого тарифа в месяц? Выведем данные по выручке. Посчитаем среднее количество, медиану, дисперсию и стандартное отклонение. Построим гистограммы. Опишем распределения."
   ]
  },
  {
   "cell_type": "code",
   "execution_count": 11,
   "metadata": {
    "scrolled": false
   },
   "outputs": [
    {
     "data": {
      "text/html": [
       "<style  type=\"text/css\" >\n",
       "    #T_246091ae_12e6_11eb_aa0b_02420a399c9e caption {\n",
       "          text-align: left;\n",
       "          font-size: 150%;\n",
       "          color: black;\n",
       "    }</style><table id=\"T_246091ae_12e6_11eb_aa0b_02420a399c9e\" ><caption>Статистический анализ данных по тарифам</caption><thead>    <tr>        <th class=\"blank\" ></th>        <th class=\"index_name level0\" >tariff</th>        <th class=\"col_heading level0 col0\" >smart</th>        <th class=\"col_heading level0 col1\" >ultra</th>    </tr></thead><tbody>\n",
       "                <tr>\n",
       "                        <th id=\"T_246091ae_12e6_11eb_aa0b_02420a399c9elevel0_row0\" class=\"row_heading level0 row0\" rowspan=4>mean</th>\n",
       "                        <th id=\"T_246091ae_12e6_11eb_aa0b_02420a399c9elevel1_row0\" class=\"row_heading level1 row0\" >calls_used</th>\n",
       "                        <td id=\"T_246091ae_12e6_11eb_aa0b_02420a399c9erow0_col0\" class=\"data row0 col0\" >47</td>\n",
       "                        <td id=\"T_246091ae_12e6_11eb_aa0b_02420a399c9erow0_col1\" class=\"data row0 col1\" >59</td>\n",
       "            </tr>\n",
       "            <tr>\n",
       "                                <th id=\"T_246091ae_12e6_11eb_aa0b_02420a399c9elevel1_row1\" class=\"row_heading level1 row1\" >mb_used</th>\n",
       "                        <td id=\"T_246091ae_12e6_11eb_aa0b_02420a399c9erow1_col0\" class=\"data row1 col0\" >16,086</td>\n",
       "                        <td id=\"T_246091ae_12e6_11eb_aa0b_02420a399c9erow1_col1\" class=\"data row1 col1\" >18,797</td>\n",
       "            </tr>\n",
       "            <tr>\n",
       "                                <th id=\"T_246091ae_12e6_11eb_aa0b_02420a399c9elevel1_row2\" class=\"row_heading level1 row2\" >revenue</th>\n",
       "                        <td id=\"T_246091ae_12e6_11eb_aa0b_02420a399c9erow2_col0\" class=\"data row2 col0\" >1,170</td>\n",
       "                        <td id=\"T_246091ae_12e6_11eb_aa0b_02420a399c9erow2_col1\" class=\"data row2 col1\" >2,034</td>\n",
       "            </tr>\n",
       "            <tr>\n",
       "                                <th id=\"T_246091ae_12e6_11eb_aa0b_02420a399c9elevel1_row3\" class=\"row_heading level1 row3\" >sms_used</th>\n",
       "                        <td id=\"T_246091ae_12e6_11eb_aa0b_02420a399c9erow3_col0\" class=\"data row3 col0\" >33</td>\n",
       "                        <td id=\"T_246091ae_12e6_11eb_aa0b_02420a399c9erow3_col1\" class=\"data row3 col1\" >49</td>\n",
       "            </tr>\n",
       "            <tr>\n",
       "                        <th id=\"T_246091ae_12e6_11eb_aa0b_02420a399c9elevel0_row4\" class=\"row_heading level0 row4\" rowspan=4>median</th>\n",
       "                        <th id=\"T_246091ae_12e6_11eb_aa0b_02420a399c9elevel1_row4\" class=\"row_heading level1 row4\" >calls_used</th>\n",
       "                        <td id=\"T_246091ae_12e6_11eb_aa0b_02420a399c9erow4_col0\" class=\"data row4 col0\" >47</td>\n",
       "                        <td id=\"T_246091ae_12e6_11eb_aa0b_02420a399c9erow4_col1\" class=\"data row4 col1\" >58</td>\n",
       "            </tr>\n",
       "            <tr>\n",
       "                                <th id=\"T_246091ae_12e6_11eb_aa0b_02420a399c9elevel1_row5\" class=\"row_heading level1 row5\" >mb_used</th>\n",
       "                        <td id=\"T_246091ae_12e6_11eb_aa0b_02420a399c9erow5_col0\" class=\"data row5 col0\" >16,328</td>\n",
       "                        <td id=\"T_246091ae_12e6_11eb_aa0b_02420a399c9erow5_col1\" class=\"data row5 col1\" >18,528</td>\n",
       "            </tr>\n",
       "            <tr>\n",
       "                                <th id=\"T_246091ae_12e6_11eb_aa0b_02420a399c9elevel1_row6\" class=\"row_heading level1 row6\" >revenue</th>\n",
       "                        <td id=\"T_246091ae_12e6_11eb_aa0b_02420a399c9erow6_col0\" class=\"data row6 col0\" >895</td>\n",
       "                        <td id=\"T_246091ae_12e6_11eb_aa0b_02420a399c9erow6_col1\" class=\"data row6 col1\" >1,950</td>\n",
       "            </tr>\n",
       "            <tr>\n",
       "                                <th id=\"T_246091ae_12e6_11eb_aa0b_02420a399c9elevel1_row7\" class=\"row_heading level1 row7\" >sms_used</th>\n",
       "                        <td id=\"T_246091ae_12e6_11eb_aa0b_02420a399c9erow7_col0\" class=\"data row7 col0\" >28</td>\n",
       "                        <td id=\"T_246091ae_12e6_11eb_aa0b_02420a399c9erow7_col1\" class=\"data row7 col1\" >38</td>\n",
       "            </tr>\n",
       "            <tr>\n",
       "                        <th id=\"T_246091ae_12e6_11eb_aa0b_02420a399c9elevel0_row8\" class=\"row_heading level0 row8\" rowspan=4>std</th>\n",
       "                        <th id=\"T_246091ae_12e6_11eb_aa0b_02420a399c9elevel1_row8\" class=\"row_heading level1 row8\" >calls_used</th>\n",
       "                        <td id=\"T_246091ae_12e6_11eb_aa0b_02420a399c9erow8_col0\" class=\"data row8 col0\" >21</td>\n",
       "                        <td id=\"T_246091ae_12e6_11eb_aa0b_02420a399c9erow8_col1\" class=\"data row8 col1\" >35</td>\n",
       "            </tr>\n",
       "            <tr>\n",
       "                                <th id=\"T_246091ae_12e6_11eb_aa0b_02420a399c9elevel1_row9\" class=\"row_heading level1 row9\" >mb_used</th>\n",
       "                        <td id=\"T_246091ae_12e6_11eb_aa0b_02420a399c9erow9_col0\" class=\"data row9 col0\" >5,822</td>\n",
       "                        <td id=\"T_246091ae_12e6_11eb_aa0b_02420a399c9erow9_col1\" class=\"data row9 col1\" >9,729</td>\n",
       "            </tr>\n",
       "            <tr>\n",
       "                                <th id=\"T_246091ae_12e6_11eb_aa0b_02420a399c9elevel1_row10\" class=\"row_heading level1 row10\" >revenue</th>\n",
       "                        <td id=\"T_246091ae_12e6_11eb_aa0b_02420a399c9erow10_col0\" class=\"data row10 col0\" >748</td>\n",
       "                        <td id=\"T_246091ae_12e6_11eb_aa0b_02420a399c9erow10_col1\" class=\"data row10 col1\" >296</td>\n",
       "            </tr>\n",
       "            <tr>\n",
       "                                <th id=\"T_246091ae_12e6_11eb_aa0b_02420a399c9elevel1_row11\" class=\"row_heading level1 row11\" >sms_used</th>\n",
       "                        <td id=\"T_246091ae_12e6_11eb_aa0b_02420a399c9erow11_col0\" class=\"data row11 col0\" >28</td>\n",
       "                        <td id=\"T_246091ae_12e6_11eb_aa0b_02420a399c9erow11_col1\" class=\"data row11 col1\" >48</td>\n",
       "            </tr>\n",
       "            <tr>\n",
       "                        <th id=\"T_246091ae_12e6_11eb_aa0b_02420a399c9elevel0_row12\" class=\"row_heading level0 row12\" rowspan=4>sum</th>\n",
       "                        <th id=\"T_246091ae_12e6_11eb_aa0b_02420a399c9elevel1_row12\" class=\"row_heading level1 row12\" >calls_used</th>\n",
       "                        <td id=\"T_246091ae_12e6_11eb_aa0b_02420a399c9erow12_col0\" class=\"data row12 col0\" >104,010</td>\n",
       "                        <td id=\"T_246091ae_12e6_11eb_aa0b_02420a399c9erow12_col1\" class=\"data row12 col1\" >57,973</td>\n",
       "            </tr>\n",
       "            <tr>\n",
       "                                <th id=\"T_246091ae_12e6_11eb_aa0b_02420a399c9elevel1_row13\" class=\"row_heading level1 row13\" >mb_used</th>\n",
       "                        <td id=\"T_246091ae_12e6_11eb_aa0b_02420a399c9erow13_col0\" class=\"data row13 col0\" >35,854,665</td>\n",
       "                        <td id=\"T_246091ae_12e6_11eb_aa0b_02420a399c9erow13_col1\" class=\"data row13 col1\" >18,515,463</td>\n",
       "            </tr>\n",
       "            <tr>\n",
       "                                <th id=\"T_246091ae_12e6_11eb_aa0b_02420a399c9elevel1_row14\" class=\"row_heading level1 row14\" >revenue</th>\n",
       "                        <td id=\"T_246091ae_12e6_11eb_aa0b_02420a399c9erow14_col0\" class=\"data row14 col0\" >2,608,723</td>\n",
       "                        <td id=\"T_246091ae_12e6_11eb_aa0b_02420a399c9erow14_col1\" class=\"data row14 col1\" >2,003,792</td>\n",
       "            </tr>\n",
       "            <tr>\n",
       "                                <th id=\"T_246091ae_12e6_11eb_aa0b_02420a399c9elevel1_row15\" class=\"row_heading level1 row15\" >sms_used</th>\n",
       "                        <td id=\"T_246091ae_12e6_11eb_aa0b_02420a399c9erow15_col0\" class=\"data row15 col0\" >74,413</td>\n",
       "                        <td id=\"T_246091ae_12e6_11eb_aa0b_02420a399c9erow15_col1\" class=\"data row15 col1\" >48,623</td>\n",
       "            </tr>\n",
       "            <tr>\n",
       "                        <th id=\"T_246091ae_12e6_11eb_aa0b_02420a399c9elevel0_row16\" class=\"row_heading level0 row16\" rowspan=4>var</th>\n",
       "                        <th id=\"T_246091ae_12e6_11eb_aa0b_02420a399c9elevel1_row16\" class=\"row_heading level1 row16\" >calls_used</th>\n",
       "                        <td id=\"T_246091ae_12e6_11eb_aa0b_02420a399c9erow16_col0\" class=\"data row16 col0\" >438</td>\n",
       "                        <td id=\"T_246091ae_12e6_11eb_aa0b_02420a399c9erow16_col1\" class=\"data row16 col1\" >1,249</td>\n",
       "            </tr>\n",
       "            <tr>\n",
       "                                <th id=\"T_246091ae_12e6_11eb_aa0b_02420a399c9elevel1_row17\" class=\"row_heading level1 row17\" >mb_used</th>\n",
       "                        <td id=\"T_246091ae_12e6_11eb_aa0b_02420a399c9erow17_col0\" class=\"data row17 col0\" >33,891,473</td>\n",
       "                        <td id=\"T_246091ae_12e6_11eb_aa0b_02420a399c9erow17_col1\" class=\"data row17 col1\" >94,653,950</td>\n",
       "            </tr>\n",
       "            <tr>\n",
       "                                <th id=\"T_246091ae_12e6_11eb_aa0b_02420a399c9elevel1_row18\" class=\"row_heading level1 row18\" >revenue</th>\n",
       "                        <td id=\"T_246091ae_12e6_11eb_aa0b_02420a399c9erow18_col0\" class=\"data row18 col0\" >559,425</td>\n",
       "                        <td id=\"T_246091ae_12e6_11eb_aa0b_02420a399c9erow18_col1\" class=\"data row18 col1\" >87,877</td>\n",
       "            </tr>\n",
       "            <tr>\n",
       "                                <th id=\"T_246091ae_12e6_11eb_aa0b_02420a399c9elevel1_row19\" class=\"row_heading level1 row19\" >sms_used</th>\n",
       "                        <td id=\"T_246091ae_12e6_11eb_aa0b_02420a399c9erow19_col0\" class=\"data row19 col0\" >797</td>\n",
       "                        <td id=\"T_246091ae_12e6_11eb_aa0b_02420a399c9erow19_col1\" class=\"data row19 col1\" >2,285</td>\n",
       "            </tr>\n",
       "    </tbody></table>"
      ],
      "text/plain": [
       "<pandas.io.formats.style.Styler at 0x7f4ed098c590>"
      ]
     },
     "metadata": {},
     "output_type": "display_data"
    },
    {
     "data": {
      "text/html": [
       "<style  type=\"text/css\" >\n",
       "    #T_246cd068_12e6_11eb_aa0b_02420a399c9e caption {\n",
       "          text-align: left;\n",
       "          font-size: 150%;\n",
       "          color: black;\n",
       "    }</style><table id=\"T_246cd068_12e6_11eb_aa0b_02420a399c9e\" ><caption>Статистический анализ данных по региональности</caption><thead>    <tr>        <th class=\"blank\" ></th>        <th class=\"index_name level0\" >is_capital</th>        <th class=\"col_heading level0 col0\" >False</th>        <th class=\"col_heading level0 col1\" >True</th>    </tr></thead><tbody>\n",
       "                <tr>\n",
       "                        <th id=\"T_246cd068_12e6_11eb_aa0b_02420a399c9elevel0_row0\" class=\"row_heading level0 row0\" rowspan=4>mean</th>\n",
       "                        <th id=\"T_246cd068_12e6_11eb_aa0b_02420a399c9elevel1_row0\" class=\"row_heading level1 row0\" >calls_used</th>\n",
       "                        <td id=\"T_246cd068_12e6_11eb_aa0b_02420a399c9erow0_col0\" class=\"data row0 col0\" >50</td>\n",
       "                        <td id=\"T_246cd068_12e6_11eb_aa0b_02420a399c9erow0_col1\" class=\"data row0 col1\" >53</td>\n",
       "            </tr>\n",
       "            <tr>\n",
       "                                <th id=\"T_246cd068_12e6_11eb_aa0b_02420a399c9elevel1_row1\" class=\"row_heading level1 row1\" >mb_used</th>\n",
       "                        <td id=\"T_246cd068_12e6_11eb_aa0b_02420a399c9erow1_col0\" class=\"data row1 col0\" >16,750</td>\n",
       "                        <td id=\"T_246cd068_12e6_11eb_aa0b_02420a399c9erow1_col1\" class=\"data row1 col1\" >17,627</td>\n",
       "            </tr>\n",
       "            <tr>\n",
       "                                <th id=\"T_246cd068_12e6_11eb_aa0b_02420a399c9elevel1_row2\" class=\"row_heading level1 row2\" >revenue</th>\n",
       "                        <td id=\"T_246cd068_12e6_11eb_aa0b_02420a399c9erow2_col0\" class=\"data row2 col0\" >1,430</td>\n",
       "                        <td id=\"T_246cd068_12e6_11eb_aa0b_02420a399c9erow2_col1\" class=\"data row2 col1\" >1,458</td>\n",
       "            </tr>\n",
       "            <tr>\n",
       "                                <th id=\"T_246cd068_12e6_11eb_aa0b_02420a399c9elevel1_row3\" class=\"row_heading level1 row3\" >sms_used</th>\n",
       "                        <td id=\"T_246cd068_12e6_11eb_aa0b_02420a399c9erow3_col0\" class=\"data row3 col0\" >38</td>\n",
       "                        <td id=\"T_246cd068_12e6_11eb_aa0b_02420a399c9erow3_col1\" class=\"data row3 col1\" >38</td>\n",
       "            </tr>\n",
       "            <tr>\n",
       "                        <th id=\"T_246cd068_12e6_11eb_aa0b_02420a399c9elevel0_row4\" class=\"row_heading level0 row4\" rowspan=4>median</th>\n",
       "                        <th id=\"T_246cd068_12e6_11eb_aa0b_02420a399c9elevel1_row4\" class=\"row_heading level1 row4\" >calls_used</th>\n",
       "                        <td id=\"T_246cd068_12e6_11eb_aa0b_02420a399c9erow4_col0\" class=\"data row4 col0\" >49</td>\n",
       "                        <td id=\"T_246cd068_12e6_11eb_aa0b_02420a399c9erow4_col1\" class=\"data row4 col1\" >51</td>\n",
       "            </tr>\n",
       "            <tr>\n",
       "                                <th id=\"T_246cd068_12e6_11eb_aa0b_02420a399c9elevel1_row5\" class=\"row_heading level1 row5\" >mb_used</th>\n",
       "                        <td id=\"T_246cd068_12e6_11eb_aa0b_02420a399c9erow5_col0\" class=\"data row5 col0\" >16,624</td>\n",
       "                        <td id=\"T_246cd068_12e6_11eb_aa0b_02420a399c9erow5_col1\" class=\"data row5 col1\" >17,264</td>\n",
       "            </tr>\n",
       "            <tr>\n",
       "                                <th id=\"T_246cd068_12e6_11eb_aa0b_02420a399c9elevel1_row6\" class=\"row_heading level1 row6\" >revenue</th>\n",
       "                        <td id=\"T_246cd068_12e6_11eb_aa0b_02420a399c9erow6_col0\" class=\"data row6 col0\" >1,426</td>\n",
       "                        <td id=\"T_246cd068_12e6_11eb_aa0b_02420a399c9erow6_col1\" class=\"data row6 col1\" >1,598</td>\n",
       "            </tr>\n",
       "            <tr>\n",
       "                                <th id=\"T_246cd068_12e6_11eb_aa0b_02420a399c9elevel1_row7\" class=\"row_heading level1 row7\" >sms_used</th>\n",
       "                        <td id=\"T_246cd068_12e6_11eb_aa0b_02420a399c9erow7_col0\" class=\"data row7 col0\" >30</td>\n",
       "                        <td id=\"T_246cd068_12e6_11eb_aa0b_02420a399c9erow7_col1\" class=\"data row7 col1\" >29</td>\n",
       "            </tr>\n",
       "            <tr>\n",
       "                        <th id=\"T_246cd068_12e6_11eb_aa0b_02420a399c9elevel0_row8\" class=\"row_heading level0 row8\" rowspan=4>std</th>\n",
       "                        <th id=\"T_246cd068_12e6_11eb_aa0b_02420a399c9elevel1_row8\" class=\"row_heading level1 row8\" >calls_used</th>\n",
       "                        <td id=\"T_246cd068_12e6_11eb_aa0b_02420a399c9erow8_col0\" class=\"data row8 col0\" >27</td>\n",
       "                        <td id=\"T_246cd068_12e6_11eb_aa0b_02420a399c9erow8_col1\" class=\"data row8 col1\" >27</td>\n",
       "            </tr>\n",
       "            <tr>\n",
       "                                <th id=\"T_246cd068_12e6_11eb_aa0b_02420a399c9elevel1_row9\" class=\"row_heading level1 row9\" >mb_used</th>\n",
       "                        <td id=\"T_246cd068_12e6_11eb_aa0b_02420a399c9erow9_col0\" class=\"data row9 col0\" >7,283</td>\n",
       "                        <td id=\"T_246cd068_12e6_11eb_aa0b_02420a399c9erow9_col1\" class=\"data row9 col1\" >7,605</td>\n",
       "            </tr>\n",
       "            <tr>\n",
       "                                <th id=\"T_246cd068_12e6_11eb_aa0b_02420a399c9elevel1_row10\" class=\"row_heading level1 row10\" >revenue</th>\n",
       "                        <td id=\"T_246cd068_12e6_11eb_aa0b_02420a399c9erow10_col0\" class=\"data row10 col0\" >766</td>\n",
       "                        <td id=\"T_246cd068_12e6_11eb_aa0b_02420a399c9erow10_col1\" class=\"data row10 col1\" >720</td>\n",
       "            </tr>\n",
       "            <tr>\n",
       "                                <th id=\"T_246cd068_12e6_11eb_aa0b_02420a399c9elevel1_row11\" class=\"row_heading level1 row11\" >sms_used</th>\n",
       "                        <td id=\"T_246cd068_12e6_11eb_aa0b_02420a399c9erow11_col0\" class=\"data row11 col0\" >36</td>\n",
       "                        <td id=\"T_246cd068_12e6_11eb_aa0b_02420a399c9erow11_col1\" class=\"data row11 col1\" >37</td>\n",
       "            </tr>\n",
       "            <tr>\n",
       "                        <th id=\"T_246cd068_12e6_11eb_aa0b_02420a399c9elevel0_row12\" class=\"row_heading level0 row12\" rowspan=4>sum</th>\n",
       "                        <th id=\"T_246cd068_12e6_11eb_aa0b_02420a399c9elevel1_row12\" class=\"row_heading level1 row12\" >calls_used</th>\n",
       "                        <td id=\"T_246cd068_12e6_11eb_aa0b_02420a399c9erow12_col0\" class=\"data row12 col0\" >129,904</td>\n",
       "                        <td id=\"T_246cd068_12e6_11eb_aa0b_02420a399c9erow12_col1\" class=\"data row12 col1\" >32,079</td>\n",
       "            </tr>\n",
       "            <tr>\n",
       "                                <th id=\"T_246cd068_12e6_11eb_aa0b_02420a399c9elevel1_row13\" class=\"row_heading level1 row13\" >mb_used</th>\n",
       "                        <td id=\"T_246cd068_12e6_11eb_aa0b_02420a399c9erow13_col0\" class=\"data row13 col0\" >43,600,278</td>\n",
       "                        <td id=\"T_246cd068_12e6_11eb_aa0b_02420a399c9erow13_col1\" class=\"data row13 col1\" >10,769,850</td>\n",
       "            </tr>\n",
       "            <tr>\n",
       "                                <th id=\"T_246cd068_12e6_11eb_aa0b_02420a399c9elevel1_row14\" class=\"row_heading level1 row14\" >revenue</th>\n",
       "                        <td id=\"T_246cd068_12e6_11eb_aa0b_02420a399c9erow14_col0\" class=\"data row14 col0\" >3,721,587</td>\n",
       "                        <td id=\"T_246cd068_12e6_11eb_aa0b_02420a399c9erow14_col1\" class=\"data row14 col1\" >890,928</td>\n",
       "            </tr>\n",
       "            <tr>\n",
       "                                <th id=\"T_246cd068_12e6_11eb_aa0b_02420a399c9elevel1_row15\" class=\"row_heading level1 row15\" >sms_used</th>\n",
       "                        <td id=\"T_246cd068_12e6_11eb_aa0b_02420a399c9erow15_col0\" class=\"data row15 col0\" >99,893</td>\n",
       "                        <td id=\"T_246cd068_12e6_11eb_aa0b_02420a399c9erow15_col1\" class=\"data row15 col1\" >23,143</td>\n",
       "            </tr>\n",
       "            <tr>\n",
       "                        <th id=\"T_246cd068_12e6_11eb_aa0b_02420a399c9elevel0_row16\" class=\"row_heading level0 row16\" rowspan=4>var</th>\n",
       "                        <th id=\"T_246cd068_12e6_11eb_aa0b_02420a399c9elevel1_row16\" class=\"row_heading level1 row16\" >calls_used</th>\n",
       "                        <td id=\"T_246cd068_12e6_11eb_aa0b_02420a399c9erow16_col0\" class=\"data row16 col0\" >715</td>\n",
       "                        <td id=\"T_246cd068_12e6_11eb_aa0b_02420a399c9erow16_col1\" class=\"data row16 col1\" >723</td>\n",
       "            </tr>\n",
       "            <tr>\n",
       "                                <th id=\"T_246cd068_12e6_11eb_aa0b_02420a399c9elevel1_row17\" class=\"row_heading level1 row17\" >mb_used</th>\n",
       "                        <td id=\"T_246cd068_12e6_11eb_aa0b_02420a399c9erow17_col0\" class=\"data row17 col0\" >53,043,036</td>\n",
       "                        <td id=\"T_246cd068_12e6_11eb_aa0b_02420a399c9erow17_col1\" class=\"data row17 col1\" >57,828,518</td>\n",
       "            </tr>\n",
       "            <tr>\n",
       "                                <th id=\"T_246cd068_12e6_11eb_aa0b_02420a399c9elevel1_row18\" class=\"row_heading level1 row18\" >revenue</th>\n",
       "                        <td id=\"T_246cd068_12e6_11eb_aa0b_02420a399c9erow18_col0\" class=\"data row18 col0\" >586,394</td>\n",
       "                        <td id=\"T_246cd068_12e6_11eb_aa0b_02420a399c9erow18_col1\" class=\"data row18 col1\" >518,961</td>\n",
       "            </tr>\n",
       "            <tr>\n",
       "                                <th id=\"T_246cd068_12e6_11eb_aa0b_02420a399c9elevel1_row19\" class=\"row_heading level1 row19\" >sms_used</th>\n",
       "                        <td id=\"T_246cd068_12e6_11eb_aa0b_02420a399c9erow19_col0\" class=\"data row19 col0\" >1,290</td>\n",
       "                        <td id=\"T_246cd068_12e6_11eb_aa0b_02420a399c9erow19_col1\" class=\"data row19 col1\" >1,381</td>\n",
       "            </tr>\n",
       "    </tbody></table>"
      ],
      "text/plain": [
       "<pandas.io.formats.style.Styler at 0x7f4f11ef4050>"
      ]
     },
     "metadata": {},
     "output_type": "display_data"
    },
    {
     "data": {
      "image/png": "[encoded data removed]",
      "text/plain": [
       "<Figure size 864x2304 with 4 Axes>"
      ]
     },
     "metadata": {},
     "output_type": "display_data"
    }
   ],
   "source": [
    "analytics = revenues.pivot_table(values=['calls_used', 'sms_used', 'mb_used', 'revenue'],\n",
    "                    index=['tariff'],\n",
    "                    aggfunc=['mean', 'median', 'sum', 'var', 'std']).T.sort_index()\n",
    "display(analytics\n",
    "        .style\n",
    "        .format('{:,.0f}')\n",
    "        .set_caption('Статистический анализ данных по тарифам')\n",
    "        .set_table_styles(styles)\n",
    ")\n",
    "\n",
    "analytics = revenues.pivot_table(values=['calls_used', 'sms_used', 'mb_used', 'revenue'],\n",
    "                    index=['is_capital'],\n",
    "                    aggfunc=['mean', 'median', 'sum', 'var', 'std']).T.sort_index()\n",
    "display(analytics\n",
    "        .style\n",
    "        .format('{:,.0f}')\n",
    "        .set_caption('Статистический анализ данных по региональности')\n",
    "        .set_table_styles(styles)\n",
    ")\n",
    "_, axes = plt.subplots(nrows=4, ncols=1, figsize=(12, 32))\n",
    "\n",
    "smart = revenues[revenues['tariff']=='smart']\n",
    "ultra = revenues[revenues['tariff']=='ultra']\n",
    "\n",
    "sns.distplot(smart['calls_used'], ax=axes[0])\n",
    "sns.distplot(ultra['calls_used'], ax=axes[0])\n",
    "\n",
    "axes[0].set_title('Гистограмма распределения звонков')\n",
    "axes[0].set_ylabel('Плотность вероятности')\n",
    "axes[0].set_xlabel('Количество звонков')\n",
    "axes[0].legend(['Тариф \"Смарт\"', 'Тариф \"Ультра\"'], fontsize='large')\n",
    "\n",
    "sns.distplot(smart['sms_used'], ax=axes[1])\n",
    "sns.distplot(ultra['sms_used'], ax=axes[1])             \n",
    "\n",
    "axes[1].set_title('Гистограмма распределения сообщений')\n",
    "axes[1].set_ylabel('Плотность вероятности')\n",
    "axes[1].set_xlabel('Количество сообщений')\n",
    "axes[1].legend(['Тариф \"Смарт\"', 'Тариф \"Ультра\"'], fontsize='large')\n",
    "\n",
    "sns.distplot(smart['mb_used'], ax=axes[2])\n",
    "sns.distplot(ultra['mb_used'], ax=axes[2])              \n",
    "\n",
    "axes[2].set_title('Гистограмма распределения интернет-услуг')\n",
    "axes[2].set_ylabel('Плотность вероятности')\n",
    "axes[2].set_xlabel('Используемые мегабайты')\n",
    "axes[2].legend(['Тариф \"Смарт\"', 'Тариф \"Ультра\"'], fontsize='large')\n",
    "\n",
    "zero_cond_s = smart['revenue'] == 0\n",
    "zero_cond_u = ultra['revenue'] == 0\n",
    "\n",
    "sns.distplot(smart['revenue'][~zero_cond_s], ax=axes[3])\n",
    "sns.distplot(ultra['revenue'][~zero_cond_u], ax=axes[3])              \n",
    "\n",
    "axes[3].set_title('Гистограмма выручки по тарифам')\n",
    "axes[3].set_ylabel('Плотность вероятности')\n",
    "axes[3].set_xlabel('Выручка')\n",
    "axes[3].legend(['Тариф \"Смарт\"', 'Тариф \"Ультра\"'], fontsize='large');"
   ]
  },
  {
   "cell_type": "markdown",
   "metadata": {},
   "source": [
    "Распределения по звонкам и интернет-услугам близки к нормальным симмитричным. Распределение по сообщениям скошено вправо, с пиком около нуля. Довольно большое число людей предпочитают месседжеры СМС сообщениям.\n",
    "\n",
    "Кроме того, видим, что хотя средняя выручка по тарифу ultra выше, чем по тарифу smart, общая выручка ниже. Значит тариф smart выгоднее для компании, так как приносит больше денег.\n",
    "\n",
    "Из графиков прибыли видим пики у начальных базовых тарифных выплат: 550 руб. и 1950 руб. Действительно, люди не очень любят дополнительные платы. Пользователи тарифа \"Смарт\" чаще превышают включенные услуги, чем пользователи \"Ультра\"."
   ]
  },
  {
   "cell_type": "markdown",
   "metadata": {},
   "source": [
    "## Проверка гипотез <a name=\"5\"></a>"
   ]
  },
  {
   "cell_type": "markdown",
   "metadata": {},
   "source": [
    "Сформулируем нулевые и альтернативные гипотезы. Поясним, какой критерий использовали для проверки гипотез и почему. Зададим пороговое значение **alpha 5%**."
   ]
  },
  {
   "cell_type": "markdown",
   "metadata": {},
   "source": [
    "### Сравнение выручки по тарифам <a name=\"5_1\"></a>"
   ]
  },
  {
   "cell_type": "markdown",
   "metadata": {},
   "source": [
    "Проверим, что средняя выручка пользователей тарифов «Ультра» и «Смарт» различается.\n",
    "\n",
    "**Нулевая гипотеза H₀**\n",
    "\n",
    "*Средние выручки пользователей тарифов «Ультра» и «Смарт» равны между собой*\n",
    "\n",
    "**Альтернативная гипотеза H₁**\n",
    "\n",
    "*Средние выручки пользователей тарифов «Ультра» и «Смарт» различаются*"
   ]
  },
  {
   "cell_type": "markdown",
   "metadata": {},
   "source": [
    "Как ранее считали, дисперсия по тарифу \"Смарт\" 559425, а по \"Ультра\" 87877. Поэтому при применении метода проверки т-критерия Стьюдента будем применять параметр для разных дисперсий."
   ]
  },
  {
   "cell_type": "code",
   "execution_count": 12,
   "metadata": {},
   "outputs": [
    {
     "name": "stdout",
     "output_type": "stream",
     "text": [
      "p-значение:  0.0\n",
      "Отвергаем нулевую гипотезу\n"
     ]
    }
   ],
   "source": [
    "sample_1 = revenues[revenues['tariff'] == 'smart']['revenue']\n",
    "sample_2 = revenues[revenues['tariff'] == 'ultra']['revenue']\n",
    "results = st.ttest_ind(sample_1, sample_2, equal_var = False)\n",
    "print('p-значение: ', results.pvalue);\n",
    "\n",
    "alpha = .05 # критический уровень статистической значимости\n",
    "            # если p-value окажется меньше него - отвергнем гипотезу\n",
    "\n",
    "if (results.pvalue < alpha):\n",
    "    print(\"Отвергаем нулевую гипотезу\")\n",
    "else:\n",
    "    print(\"Не получилось отвергнуть нулевую гипотезу\")"
   ]
  },
  {
   "cell_type": "markdown",
   "metadata": {},
   "source": [
    "Верна альтернативная гипотеза, то есть действительно: средняя выручка пользователей тарифов «Ультра» и «Смарт» различается.\n",
    "Посмотрим, сколько всего пользователей с тарифом \"Ультра\" и \"Смарт\"."
   ]
  },
  {
   "cell_type": "code",
   "execution_count": 13,
   "metadata": {},
   "outputs": [
    {
     "data": {
      "text/html": [
       "<div>\n",
       "<style scoped>\n",
       "    .dataframe tbody tr th:only-of-type {\n",
       "        vertical-align: middle;\n",
       "    }\n",
       "\n",
       "    .dataframe tbody tr th {\n",
       "        vertical-align: top;\n",
       "    }\n",
       "\n",
       "    .dataframe thead th {\n",
       "        text-align: right;\n",
       "    }\n",
       "</style>\n",
       "<table border=\"1\" class=\"dataframe\">\n",
       "  <thead>\n",
       "    <tr style=\"text-align: right;\">\n",
       "      <th></th>\n",
       "      <th>user_id</th>\n",
       "    </tr>\n",
       "    <tr>\n",
       "      <th>tariff</th>\n",
       "      <th></th>\n",
       "    </tr>\n",
       "  </thead>\n",
       "  <tbody>\n",
       "    <tr>\n",
       "      <td>smart</td>\n",
       "      <td>351</td>\n",
       "    </tr>\n",
       "    <tr>\n",
       "      <td>ultra</td>\n",
       "      <td>149</td>\n",
       "    </tr>\n",
       "  </tbody>\n",
       "</table>\n",
       "</div>"
      ],
      "text/plain": [
       "        user_id\n",
       "tariff         \n",
       "smart       351\n",
       "ultra       149"
      ]
     },
     "execution_count": 13,
     "metadata": {},
     "output_type": "execute_result"
    }
   ],
   "source": [
    "users[['user_id','tariff']].groupby(by='tariff').count()"
   ]
  },
  {
   "cell_type": "markdown",
   "metadata": {},
   "source": [
    "Получается в выборке пользователей тарифа \"Смарт\" сильно больше, чем с тарифом \"Ультра\". Больше двух раз."
   ]
  },
  {
   "cell_type": "markdown",
   "metadata": {},
   "source": [
    "### Сравнение выручки по Москве и остальным регионам  <a name=\"5_2\"></a>"
   ]
  },
  {
   "cell_type": "markdown",
   "metadata": {},
   "source": [
    "Проверим, что средняя выручка пользователей из Москвы отличается от выручки пользователей из других регионов.\n",
    "\n",
    "**Нулевая гипотеза H₀**\n",
    "\n",
    "*Средние выручки пользователей из Москвы и других регионов равны между собой*\n",
    "\n",
    "**Альтернативная гипотеза H₁**\n",
    "\n",
    "*Средние выручки пользователей из Москвы и других регионов различаются*"
   ]
  },
  {
   "cell_type": "markdown",
   "metadata": {},
   "source": [
    "Как ранее считали, дисперсия по Москве 518961, а по регионам 586394. Можем предполагать их равенство. Поэтому при применении метода проверки т-критерия Стьюдента будем применять параметр для равных дисперсий."
   ]
  },
  {
   "cell_type": "code",
   "execution_count": 14,
   "metadata": {},
   "outputs": [
    {
     "name": "stdout",
     "output_type": "stream",
     "text": [
      "p-значение:  0.40396127099623913\n",
      "Не получилось отвергнуть нулевую гипотезу\n"
     ]
    }
   ],
   "source": [
    "sample_1 = revenues[revenues['is_capital'] == True]['revenue']\n",
    "sample_2 = revenues[revenues['is_capital'] == False]['revenue']\n",
    "results = st.ttest_ind(sample_1, sample_2, equal_var = True)\n",
    "print('p-значение: ', results.pvalue);\n",
    "alpha = .05 # критический уровень статистической значимости\n",
    "            # если p-value окажется меньше него - отвергнем гипотезу\n",
    "\n",
    "if (results.pvalue < alpha):\n",
    "    print(\"Отвергаем нулевую гипотезу\")\n",
    "else:\n",
    "    print(\"Не получилось отвергнуть нулевую гипотезу\")"
   ]
  },
  {
   "cell_type": "markdown",
   "metadata": {},
   "source": [
    "А вот выручка по Москве и регионам не настолько разная, не получилось отвергнуть их равенство."
   ]
  },
  {
   "cell_type": "code",
   "execution_count": 15,
   "metadata": {},
   "outputs": [
    {
     "data": {
      "text/plain": [
       "99"
      ]
     },
     "execution_count": 15,
     "metadata": {},
     "output_type": "execute_result"
    }
   ],
   "source": [
    "len(users[users['city']=='Москва'])"
   ]
  },
  {
   "cell_type": "markdown",
   "metadata": {},
   "source": [
    "Получается соотношение москвичей к остальным примерно 1 к 5."
   ]
  },
  {
   "cell_type": "markdown",
   "metadata": {},
   "source": [
    "## Общий вывод <a name=\"6\"></a>"
   ]
  },
  {
   "cell_type": "markdown",
   "metadata": {},
   "source": [
    "В результате проведенного анализа мы выяснили, что пользователи тарифа \"Смарт\" в среднем совершают 47 звоноков, тогда как на тарифе \"Ультра\" 59. Клиенты с тарифом \"Ультра\" звонят чаще. Более того, они чаще пишут сообщений, 49 против 33, и больше скачивают из интернета: 18,7 Гб против 14 Гб. Видим, что пользователи \"Ультра\" в среднем активнее пользуются услугами компании и их средняя выручка выше: 1,170 рублей против 2,034 рублей. Почти двухкратное приемущество! \n",
    "\n",
    "T-критерий Стьюдента для сравнения средних выручек по тарифам показал нулевое значение, что средние равны. Это ниже порога 5%, поэтому отвергли эту гипотезу. Так что будем считать, что компания больше в среднем зарабатывает на пользователях \"Ультра\".\n",
    "\n",
    "Однако, обратим внимание на то, что пользователи с тарифом \"Смарт\" в выборке представлены чаще, чем пользователи тарифа \"Ультра\": 149 к 351. Будем считать, что выборка пользователя производилась случайным образом, и таково соотношение по тарифам в генеральной совокупности. Поэтому, чтобы сравнить общегодовые выручки по тарифам, достаточно сравнить общегодовые выручки в выборке.\n",
    "\n",
    "По полученным нами данным в ходе исследования на выборке 500 пользователей, общегодовая выручка по тарифу \"Смарт\" составила 2,608,723 рублей. В то время как по тарифу \"Ультра\" 2,003,792 рублей.\n",
    "\n",
    "Получается, что хотя в среднем каждый \"Ультра\" клиент двое больше приносит денег, их в количествено меньше и выручку они приносят общую меньше. И поэтому по показателю общей выручки тариф \"Смарт\" превосходит.\n",
    "\n",
    "Куда же направить рекламный бюджет? Ситуация неоднозначная, с одной стороны тариф \"Ультра\" с каждым привлеченным клиентом приносит больше денег, с другой стороны стоимость привлечения выше в расчете на клиента, чем для тарифа \"Смарт\", поскольку их присоединяется пропорционально меньше. Если такая ситуация сложилась не из-за специального маркетингового фокуса на тарифе \"Смарт\", то принимать решение следует из рыночных соображений: насыщенности рынка аналогичных услуг, действия конкурентов.\n",
    "\n",
    "Кроме того, мы провели исследование и выяснили, что в Москве и регионах средние выручки не такие уж и разные. Средняя по Москве 1458 рублей, по регионам 1430 рублей. T-критерий Стьюдента показал значение 40%, что больше критического порога 5%, поэтому гипотезу о равенстве средних отвергнуть не смогли.\n",
    "\n",
    "Исходя из этого рекламный бюджет следует распределять без концентрации специального внимания на Москве или регионах. Можно поделить в равных долях. "
   ]
  }
 ],
 "metadata": {
  "kernelspec": {
   "display_name": "cinimex",
   "language": "python",
   "name": "cinimex"
  },
  "language_info": {
   "codemirror_mode": {
    "name": "ipython",
    "version": 3
   },
   "file_extension": ".py",
   "mimetype": "text/x-python",
   "name": "python",
   "nbconvert_exporter": "python",
   "pygments_lexer": "ipython3",
   "version": "3.9.1"
  },
  "toc": {
   "base_numbering": 1,
   "nav_menu": {},
   "number_sections": true,
   "sideBar": true,
   "skip_h1_title": true,
   "title_cell": "Оглавление проекта",
   "title_sidebar": "Оглавление",
   "toc_cell": true,
   "toc_position": {},
   "toc_section_display": true,
   "toc_window_display": false
  }
 },
 "nbformat": 4,
 "nbformat_minor": 2
}
